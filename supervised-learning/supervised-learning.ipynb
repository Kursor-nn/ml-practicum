{
 "cells": [
  {
   "cell_type": "markdown",
   "metadata": {
    "id": "sZS0TIgxK41C",
    "toc": true
   },
   "source": [
    "<h1>Содержание<span class=\"tocSkip\"></span></h1>\n",
    "<div class=\"toc\"><ul class=\"toc-item\"><li><ul class=\"toc-item\"><li><ul class=\"toc-item\"><li><ul class=\"toc-item\"><li><span><a href=\"#Цели-исследования\" data-toc-modified-id=\"Цели-исследования-0.0.0.1\"><span class=\"toc-item-num\">0.0.0.1&nbsp;&nbsp;</span>Цели исследования</a></span></li></ul></li></ul></li></ul></li><li><span><a href=\"#Инициализация-проекта\" data-toc-modified-id=\"Инициализация-проекта-1\"><span class=\"toc-item-num\">1&nbsp;&nbsp;</span>Инициализация проекта</a></span></li><li><span><a href=\"#Подготовка-данных\" data-toc-modified-id=\"Подготовка-данных-2\"><span class=\"toc-item-num\">2&nbsp;&nbsp;</span>Подготовка данных</a></span><ul class=\"toc-item\"><li><ul class=\"toc-item\"><li><ul class=\"toc-item\"><li><span><a href=\"#Промежуточные-выводы\" data-toc-modified-id=\"Промежуточные-выводы-2.0.0.1\"><span class=\"toc-item-num\">2.0.0.1&nbsp;&nbsp;</span>Промежуточные выводы</a></span></li></ul></li></ul></li></ul></li><li><span><a href=\"#Исследование-задачи\" data-toc-modified-id=\"Исследование-задачи-3\"><span class=\"toc-item-num\">3&nbsp;&nbsp;</span>Исследование задачи</a></span><ul class=\"toc-item\"><li><ul class=\"toc-item\"><li><ul class=\"toc-item\"><li><span><a href=\"#DecisionTreeClassifier\" data-toc-modified-id=\"DecisionTreeClassifier-3.0.0.1\"><span class=\"toc-item-num\">3.0.0.1&nbsp;&nbsp;</span>DecisionTreeClassifier</a></span></li><li><span><a href=\"#RandomForestClassifier\" data-toc-modified-id=\"RandomForestClassifier-3.0.0.2\"><span class=\"toc-item-num\">3.0.0.2&nbsp;&nbsp;</span>RandomForestClassifier</a></span></li><li><span><a href=\"#LogisticRegression\" data-toc-modified-id=\"LogisticRegression-3.0.0.3\"><span class=\"toc-item-num\">3.0.0.3&nbsp;&nbsp;</span>LogisticRegression</a></span></li><li><span><a href=\"#SGDClassifier\" data-toc-modified-id=\"SGDClassifier-3.0.0.4\"><span class=\"toc-item-num\">3.0.0.4&nbsp;&nbsp;</span>SGDClassifier</a></span></li><li><span><a href=\"#Промежуточные-выводы\" data-toc-modified-id=\"Промежуточные-выводы-3.0.0.5\"><span class=\"toc-item-num\">3.0.0.5&nbsp;&nbsp;</span>Промежуточные выводы</a></span></li></ul></li></ul></li></ul></li><li><span><a href=\"#Борьба-с-дисбалансом\" data-toc-modified-id=\"Борьба-с-дисбалансом-4\"><span class=\"toc-item-num\">4&nbsp;&nbsp;</span>Борьба с дисбалансом</a></span><ul class=\"toc-item\"><li><ul class=\"toc-item\"><li><ul class=\"toc-item\"><li><span><a href=\"#Oversampling\" data-toc-modified-id=\"Oversampling-4.0.0.1\"><span class=\"toc-item-num\">4.0.0.1&nbsp;&nbsp;</span>Oversampling</a></span></li><li><span><a href=\"#Undersampling\" data-toc-modified-id=\"Undersampling-4.0.0.2\"><span class=\"toc-item-num\">4.0.0.2&nbsp;&nbsp;</span>Undersampling</a></span></li><li><span><a href=\"#NearMiss(version=1)\" data-toc-modified-id=\"NearMiss(version=1)-4.0.0.3\"><span class=\"toc-item-num\">4.0.0.3&nbsp;&nbsp;</span>NearMiss(version=1)</a></span></li><li><span><a href=\"#ADASYN\" data-toc-modified-id=\"ADASYN-4.0.0.4\"><span class=\"toc-item-num\">4.0.0.4&nbsp;&nbsp;</span>ADASYN</a></span></li></ul></li></ul></li></ul></li><li><span><a href=\"#Тестирование-модели\" data-toc-modified-id=\"Тестирование-модели-5\"><span class=\"toc-item-num\">5&nbsp;&nbsp;</span>Тестирование модели</a></span><ul class=\"toc-item\"><li><ul class=\"toc-item\"><li><ul class=\"toc-item\"><li><span><a href=\"#Oversampling\" data-toc-modified-id=\"Oversampling-5.0.0.1\"><span class=\"toc-item-num\">5.0.0.1&nbsp;&nbsp;</span>Oversampling</a></span></li><li><span><a href=\"#ADASYN\" data-toc-modified-id=\"ADASYN-5.0.0.2\"><span class=\"toc-item-num\">5.0.0.2&nbsp;&nbsp;</span>ADASYN</a></span></li><li><span><a href=\"#Промежуточные-выводы\" data-toc-modified-id=\"Промежуточные-выводы-5.0.0.3\"><span class=\"toc-item-num\">5.0.0.3&nbsp;&nbsp;</span>Промежуточные выводы</a></span></li></ul></li></ul></li></ul></li><li><span><a href=\"#Выводы\" data-toc-modified-id=\"Выводы-6\"><span class=\"toc-item-num\">6&nbsp;&nbsp;</span>Выводы</a></span></li><li><span><a href=\"#Репозиторий\" data-toc-modified-id=\"Репозиторий-7\"><span class=\"toc-item-num\">7&nbsp;&nbsp;</span>Репозиторий</a></span></li><li><span><a href=\"#Чек-лист-готовности-проекта\" data-toc-modified-id=\"Чек-лист-готовности-проекта-8\"><span class=\"toc-item-num\">8&nbsp;&nbsp;</span>Чек-лист готовности проекта</a></span></li></ul></div>"
   ]
  },
  {
   "cell_type": "markdown",
   "metadata": {
    "id": "Dt8gPeLiK41E"
   },
   "source": [
    "# Отток клиентов"
   ]
  },
  {
   "cell_type": "markdown",
   "metadata": {
    "id": "1ngDw1RoK41E"
   },
   "source": [
    "Из «Бета-Банка» стали уходить клиенты. Каждый месяц. Немного, но заметно. Банковские маркетологи посчитали: сохранять текущих клиентов дешевле, чем привлекать новых.\n",
    "\n",
    "Нужно спрогнозировать, уйдёт клиент из банка в ближайшее время или нет. Вам предоставлены исторические данные о поведении клиентов и расторжении договоров с банком.\n",
    "\n",
    "Постройте модель с предельно большим значением *F1*-меры. Чтобы сдать проект успешно, нужно довести метрику до 0.59. Проверьте *F1*-меру на тестовой выборке самостоятельно.\n",
    "\n",
    "Дополнительно измеряйте *AUC-ROC*, сравнивайте её значение с *F1*-мерой.\n",
    "\n",
    "Источник данных: [https://www.kaggle.com/barelydedicated/bank-customer-churn-modeling](https://www.kaggle.com/barelydedicated/bank-customer-churn-modeling)"
   ]
  },
  {
   "cell_type": "markdown",
   "metadata": {
    "id": "MNH45tqpMDM4"
   },
   "source": [
    "Признаки\n",
    "* RowNumber — индекс строки в данных\n",
    "* CustomerId — уникальный идентификатор клиента\n",
    "* Surname — фамилия\n",
    "* CreditScore — кредитный рейтинг\n",
    "* Geography — страна проживания\n",
    "* Gender — пол\n",
    "* Age — возраст\n",
    "* Tenure — сколько лет человек является клиентом банка\n",
    "* Balance — баланс на счёте\n",
    "* NumOfProducts — количество продуктов банка, используемых клиентом\n",
    "* HasCrCard — наличие кредитной карты\n",
    "* IsActiveMember — активность клиента\n",
    "* EstimatedSalary — предполагаемая зарплата\n",
    "\n",
    "Целевой признак\n",
    "* Exited — факт ухода клиента\n"
   ]
  },
  {
   "cell_type": "markdown",
   "metadata": {
    "id": "5G67NpkeAAtH"
   },
   "source": [
    "##### Цели исследования\n",
    "\n",
    "1. Проанализировать качество моделей на дисбалансных данных:\n",
    "  * DecisionTreeClassifier\n",
    "  * RandomForestClassifier\n",
    "  * LogisticRegression\n",
    "2. Проверить, как изменить качество моделий при использовании следующих подходов по устранению дисбаланса классов:\n",
    "  * Oversampling\n",
    "  * Undersampling\n",
    "  * NearMiss\n",
    "  * Adasyn\n",
    "3. Пожелать добра ревьюеру\n"
   ]
  },
  {
   "cell_type": "markdown",
   "metadata": {},
   "source": [
    "Добра тебе ревьюер =)"
   ]
  },
  {
   "cell_type": "markdown",
   "metadata": {
    "id": "_adHA6o4LSqq"
   },
   "source": [
    "## Инициализация проекта\n"
   ]
  },
  {
   "cell_type": "code",
   "execution_count": 43,
   "metadata": {},
   "outputs": [
    {
     "name": "stdout",
     "output_type": "stream",
     "text": [
      "Requirement already satisfied: imblearn in /opt/conda/lib/python3.9/site-packages (0.0)\n",
      "Requirement already satisfied: imbalanced-learn in /opt/conda/lib/python3.9/site-packages (from imblearn) (0.10.1)\n",
      "Requirement already satisfied: numpy>=1.17.3 in /opt/conda/lib/python3.9/site-packages (from imbalanced-learn->imblearn) (1.21.1)\n",
      "Requirement already satisfied: scipy>=1.3.2 in /opt/conda/lib/python3.9/site-packages (from imbalanced-learn->imblearn) (1.9.1)\n",
      "Requirement already satisfied: joblib>=1.1.1 in /opt/conda/lib/python3.9/site-packages (from imbalanced-learn->imblearn) (1.2.0)\n",
      "Requirement already satisfied: scikit-learn>=1.0.2 in /opt/conda/lib/python3.9/site-packages (from imbalanced-learn->imblearn) (1.2.2)\n",
      "Requirement already satisfied: threadpoolctl>=2.0.0 in /opt/conda/lib/python3.9/site-packages (from imbalanced-learn->imblearn) (3.1.0)\n",
      "Note: you may need to restart the kernel to use updated packages.\n"
     ]
    }
   ],
   "source": [
    "pip install imblearn"
   ]
  },
  {
   "cell_type": "code",
   "execution_count": 44,
   "metadata": {
    "id": "mobxnng9LWl5"
   },
   "outputs": [],
   "source": [
    "import pandas as pd\n",
    "import matplotlib.pyplot as plt\n",
    "from sklearn.preprocessing import StandardScaler\n",
    "from sklearn.preprocessing import LabelEncoder\n",
    "from sklearn.model_selection import train_test_split\n",
    "\n",
    "from sklearn.tree import DecisionTreeClassifier\n",
    "from sklearn.ensemble import RandomForestClassifier\n",
    "from sklearn.linear_model import LogisticRegression\n",
    "from sklearn.linear_model import SGDClassifier\n",
    "\n",
    "from sklearn.utils import shuffle\n",
    "\n",
    "from sklearn.metrics import f1_score, roc_auc_score\n",
    "\n",
    "from imblearn.under_sampling import NearMiss\n",
    "from imblearn.over_sampling import ADASYN\n",
    "\n",
    "\n",
    "from warnings import simplefilter\n",
    "from sklearn.exceptions import ConvergenceWarning\n",
    "from sklearn.exceptions import DataConversionWarning\n",
    "\n",
    "simplefilter(\"ignore\", category=ConvergenceWarning)\n",
    "simplefilter(\"ignore\", category=DataConversionWarning)\n",
    "\n",
    "statsdf = pd.DataFrame()"
   ]
  },
  {
   "cell_type": "markdown",
   "metadata": {
    "id": "QdWM7VRVK41E"
   },
   "source": [
    "## Подготовка данных"
   ]
  },
  {
   "cell_type": "code",
   "execution_count": 45,
   "metadata": {
    "id": "qaXQTwyyK41F"
   },
   "outputs": [],
   "source": [
    "try:\n",
    "  data = pd.read_csv('/datasets/Churn.csv')\n",
    "except:\n",
    "  data = pd.read_csv('https://code.s3.yandex.net/datasets/Churn.csv')"
   ]
  },
  {
   "cell_type": "code",
   "execution_count": 46,
   "metadata": {
    "colab": {
     "base_uri": "https://localhost:8080/"
    },
    "id": "nlWzHoqaL0P9",
    "outputId": "a875233a-4f8e-4d41-bd5c-365db37cd4ea"
   },
   "outputs": [
    {
     "name": "stdout",
     "output_type": "stream",
     "text": [
      "<class 'pandas.core.frame.DataFrame'>\n",
      "RangeIndex: 10000 entries, 0 to 9999\n",
      "Data columns (total 14 columns):\n",
      " #   Column           Non-Null Count  Dtype  \n",
      "---  ------           --------------  -----  \n",
      " 0   RowNumber        10000 non-null  int64  \n",
      " 1   CustomerId       10000 non-null  int64  \n",
      " 2   Surname          10000 non-null  object \n",
      " 3   CreditScore      10000 non-null  int64  \n",
      " 4   Geography        10000 non-null  object \n",
      " 5   Gender           10000 non-null  object \n",
      " 6   Age              10000 non-null  int64  \n",
      " 7   Tenure           9091 non-null   float64\n",
      " 8   Balance          10000 non-null  float64\n",
      " 9   NumOfProducts    10000 non-null  int64  \n",
      " 10  HasCrCard        10000 non-null  int64  \n",
      " 11  IsActiveMember   10000 non-null  int64  \n",
      " 12  EstimatedSalary  10000 non-null  float64\n",
      " 13  Exited           10000 non-null  int64  \n",
      "dtypes: float64(3), int64(8), object(3)\n",
      "memory usage: 1.1+ MB\n",
      "None\n"
     ]
    }
   ],
   "source": [
    "print(data.info())"
   ]
  },
  {
   "cell_type": "code",
   "execution_count": 47,
   "metadata": {
    "colab": {
     "base_uri": "https://localhost:8080/"
    },
    "id": "gBYnQXQjL6I1",
    "outputId": "85a61e95-70ce-40c5-f54f-48a6e08dbbfc"
   },
   "outputs": [
    {
     "name": "stdout",
     "output_type": "stream",
     "text": [
      "         RowNumber    CustomerId   CreditScore           Age       Tenure  \\\n",
      "count  10000.00000  1.000000e+04  10000.000000  10000.000000  9091.000000   \n",
      "mean    5000.50000  1.569094e+07    650.528800     38.921800     4.997690   \n",
      "std     2886.89568  7.193619e+04     96.653299     10.487806     2.894723   \n",
      "min        1.00000  1.556570e+07    350.000000     18.000000     0.000000   \n",
      "25%     2500.75000  1.562853e+07    584.000000     32.000000     2.000000   \n",
      "50%     5000.50000  1.569074e+07    652.000000     37.000000     5.000000   \n",
      "75%     7500.25000  1.575323e+07    718.000000     44.000000     7.000000   \n",
      "max    10000.00000  1.581569e+07    850.000000     92.000000    10.000000   \n",
      "\n",
      "             Balance  NumOfProducts    HasCrCard  IsActiveMember  \\\n",
      "count   10000.000000   10000.000000  10000.00000    10000.000000   \n",
      "mean    76485.889288       1.530200      0.70550        0.515100   \n",
      "std     62397.405202       0.581654      0.45584        0.499797   \n",
      "min         0.000000       1.000000      0.00000        0.000000   \n",
      "25%         0.000000       1.000000      0.00000        0.000000   \n",
      "50%     97198.540000       1.000000      1.00000        1.000000   \n",
      "75%    127644.240000       2.000000      1.00000        1.000000   \n",
      "max    250898.090000       4.000000      1.00000        1.000000   \n",
      "\n",
      "       EstimatedSalary        Exited  \n",
      "count     10000.000000  10000.000000  \n",
      "mean     100090.239881      0.203700  \n",
      "std       57510.492818      0.402769  \n",
      "min          11.580000      0.000000  \n",
      "25%       51002.110000      0.000000  \n",
      "50%      100193.915000      0.000000  \n",
      "75%      149388.247500      0.000000  \n",
      "max      199992.480000      1.000000  \n"
     ]
    }
   ],
   "source": [
    "print(data.describe())"
   ]
  },
  {
   "cell_type": "code",
   "execution_count": 48,
   "metadata": {
    "colab": {
     "base_uri": "https://localhost:8080/",
     "height": 206
    },
    "id": "xUwP01TDM3qn",
    "outputId": "e0e4e4ed-1bd5-46cf-c242-3782701892d5"
   },
   "outputs": [
    {
     "data": {
      "text/html": [
       "<div>\n",
       "<style scoped>\n",
       "    .dataframe tbody tr th:only-of-type {\n",
       "        vertical-align: middle;\n",
       "    }\n",
       "\n",
       "    .dataframe tbody tr th {\n",
       "        vertical-align: top;\n",
       "    }\n",
       "\n",
       "    .dataframe thead th {\n",
       "        text-align: right;\n",
       "    }\n",
       "</style>\n",
       "<table border=\"1\" class=\"dataframe\">\n",
       "  <thead>\n",
       "    <tr style=\"text-align: right;\">\n",
       "      <th></th>\n",
       "      <th>CreditScore</th>\n",
       "      <th>Geography</th>\n",
       "      <th>Gender</th>\n",
       "      <th>Age</th>\n",
       "      <th>Tenure</th>\n",
       "      <th>Balance</th>\n",
       "      <th>NumOfProducts</th>\n",
       "      <th>HasCrCard</th>\n",
       "      <th>IsActiveMember</th>\n",
       "      <th>EstimatedSalary</th>\n",
       "      <th>Exited</th>\n",
       "    </tr>\n",
       "  </thead>\n",
       "  <tbody>\n",
       "    <tr>\n",
       "      <th>0</th>\n",
       "      <td>619</td>\n",
       "      <td>France</td>\n",
       "      <td>Female</td>\n",
       "      <td>42</td>\n",
       "      <td>2.0</td>\n",
       "      <td>0.00</td>\n",
       "      <td>1</td>\n",
       "      <td>1</td>\n",
       "      <td>1</td>\n",
       "      <td>101348.88</td>\n",
       "      <td>1</td>\n",
       "    </tr>\n",
       "    <tr>\n",
       "      <th>1</th>\n",
       "      <td>608</td>\n",
       "      <td>Spain</td>\n",
       "      <td>Female</td>\n",
       "      <td>41</td>\n",
       "      <td>1.0</td>\n",
       "      <td>83807.86</td>\n",
       "      <td>1</td>\n",
       "      <td>0</td>\n",
       "      <td>1</td>\n",
       "      <td>112542.58</td>\n",
       "      <td>0</td>\n",
       "    </tr>\n",
       "    <tr>\n",
       "      <th>2</th>\n",
       "      <td>502</td>\n",
       "      <td>France</td>\n",
       "      <td>Female</td>\n",
       "      <td>42</td>\n",
       "      <td>8.0</td>\n",
       "      <td>159660.80</td>\n",
       "      <td>3</td>\n",
       "      <td>1</td>\n",
       "      <td>0</td>\n",
       "      <td>113931.57</td>\n",
       "      <td>1</td>\n",
       "    </tr>\n",
       "    <tr>\n",
       "      <th>3</th>\n",
       "      <td>699</td>\n",
       "      <td>France</td>\n",
       "      <td>Female</td>\n",
       "      <td>39</td>\n",
       "      <td>1.0</td>\n",
       "      <td>0.00</td>\n",
       "      <td>2</td>\n",
       "      <td>0</td>\n",
       "      <td>0</td>\n",
       "      <td>93826.63</td>\n",
       "      <td>0</td>\n",
       "    </tr>\n",
       "    <tr>\n",
       "      <th>4</th>\n",
       "      <td>850</td>\n",
       "      <td>Spain</td>\n",
       "      <td>Female</td>\n",
       "      <td>43</td>\n",
       "      <td>2.0</td>\n",
       "      <td>125510.82</td>\n",
       "      <td>1</td>\n",
       "      <td>1</td>\n",
       "      <td>1</td>\n",
       "      <td>79084.10</td>\n",
       "      <td>0</td>\n",
       "    </tr>\n",
       "  </tbody>\n",
       "</table>\n",
       "</div>"
      ],
      "text/plain": [
       "   CreditScore Geography  Gender  Age  Tenure    Balance  NumOfProducts  \\\n",
       "0          619    France  Female   42     2.0       0.00              1   \n",
       "1          608     Spain  Female   41     1.0   83807.86              1   \n",
       "2          502    France  Female   42     8.0  159660.80              3   \n",
       "3          699    France  Female   39     1.0       0.00              2   \n",
       "4          850     Spain  Female   43     2.0  125510.82              1   \n",
       "\n",
       "   HasCrCard  IsActiveMember  EstimatedSalary  Exited  \n",
       "0          1               1        101348.88       1  \n",
       "1          0               1        112542.58       0  \n",
       "2          1               0        113931.57       1  \n",
       "3          0               0         93826.63       0  \n",
       "4          1               1         79084.10       0  "
      ]
     },
     "execution_count": 48,
     "metadata": {},
     "output_type": "execute_result"
    }
   ],
   "source": [
    "feature_columns = [\"CreditScore\", \"Geography\", \"Gender\", \"Age\", \"Tenure\", \"Balance\", \"NumOfProducts\", \"HasCrCard\", \"IsActiveMember\", \"EstimatedSalary\"]\n",
    "numeric_columns = [\"CreditScore\", \"Age\", \"Tenure\", \"Balance\", \"NumOfProducts\", \"HasCrCard\", \"IsActiveMember\", \"EstimatedSalary\"]\n",
    "target_columns = ['Exited']\n",
    "\n",
    "data = data[feature_columns + target_columns]\n",
    "data.head()\n",
    "\n"
   ]
  },
  {
   "cell_type": "code",
   "execution_count": null,
   "metadata": {},
   "outputs": [],
   "source": []
  },
  {
   "cell_type": "code",
   "execution_count": 49,
   "metadata": {
    "colab": {
     "base_uri": "https://localhost:8080/"
    },
    "id": "oPlw8GLVEpik",
    "outputId": "3418950f-2b5e-4a2a-edb6-ff5b42472cfc"
   },
   "outputs": [
    {
     "name": "stdout",
     "output_type": "stream",
     "text": [
      "Tenure nulls : 909\n",
      "Tenure mean : 4.997690023099769\n",
      "Tenure median : 5.0\n"
     ]
    }
   ],
   "source": [
    "print(\"Tenure nulls :\", data['Tenure'].isna().sum())\n",
    "print(\"Tenure mean :\", data['Tenure'].mean())\n",
    "print(\"Tenure median :\", data['Tenure'].median())"
   ]
  },
  {
   "cell_type": "code",
   "execution_count": 50,
   "metadata": {
    "colab": {
     "base_uri": "https://localhost:8080/"
    },
    "id": "XINvQGdAFHnv",
    "outputId": "4e3b01f1-aa04-4d94-c298-a038fc6cd011"
   },
   "outputs": [
    {
     "name": "stdout",
     "output_type": "stream",
     "text": [
      "Tenure nulls : 0\n"
     ]
    }
   ],
   "source": [
    "tenure_median = data['Tenure'].median()\n",
    "data.loc[data['Tenure'].isna(), 'Tenure'] = tenure_median\n",
    "print(\"Tenure nulls :\", data['Tenure'].isna().sum())"
   ]
  },
  {
   "cell_type": "code",
   "execution_count": 51,
   "metadata": {
    "colab": {
     "base_uri": "https://localhost:8080/"
    },
    "id": "ulOThjWKNpYj",
    "outputId": "2aa6f2d2-acc5-40df-8f77-d64089a86835"
   },
   "outputs": [
    {
     "data": {
      "text/plain": [
       "array(['France', 'Spain', 'Germany'], dtype=object)"
      ]
     },
     "execution_count": 51,
     "metadata": {},
     "output_type": "execute_result"
    }
   ],
   "source": [
    "data['Geography'].unique()"
   ]
  },
  {
   "cell_type": "code",
   "execution_count": 52,
   "metadata": {
    "colab": {
     "base_uri": "https://localhost:8080/"
    },
    "id": "3YVVi0JUNtSM",
    "outputId": "55f4720c-377d-403d-8470-63dbdd304abd"
   },
   "outputs": [
    {
     "data": {
      "text/plain": [
       "array(['Female', 'Male'], dtype=object)"
      ]
     },
     "execution_count": 52,
     "metadata": {},
     "output_type": "execute_result"
    }
   ],
   "source": [
    "data['Gender'].unique()"
   ]
  },
  {
   "cell_type": "code",
   "execution_count": 53,
   "metadata": {
    "colab": {
     "base_uri": "https://localhost:8080/"
    },
    "id": "QDt8DHpNNvUM",
    "outputId": "6fbaf19d-72a1-4746-ebd6-36abe2eb29dd"
   },
   "outputs": [
    {
     "data": {
      "text/plain": [
       "2037"
      ]
     },
     "execution_count": 53,
     "metadata": {},
     "output_type": "execute_result"
    }
   ],
   "source": [
    "data['Exited'].sum()"
   ]
  },
  {
   "cell_type": "code",
   "execution_count": 54,
   "metadata": {
    "colab": {
     "base_uri": "https://localhost:8080/",
     "height": 1000
    },
    "id": "nBV59msu5-jy",
    "outputId": "7c53bc91-5bd9-4614-8c2e-1e35f19d1529"
   },
   "outputs": [
    {
     "data": {
      "image/png": "[encoded data removed]",
      "text/plain": [
       "<Figure size 432x288 with 1 Axes>"
      ]
     },
     "metadata": {
      "needs_background": "light"
     },
     "output_type": "display_data"
    },
    {
     "data": {
      "image/png": "[encoded data removed]",
      "text/plain": [
       "<Figure size 432x288 with 1 Axes>"
      ]
     },
     "metadata": {
      "needs_background": "light"
     },
     "output_type": "display_data"
    },
    {
     "data": {
      "image/png": "[encoded data removed]",
      "text/plain": [
       "<Figure size 432x288 with 1 Axes>"
      ]
     },
     "metadata": {
      "needs_background": "light"
     },
     "output_type": "display_data"
    },
    {
     "data": {
      "image/png": "[encoded data removed]",
      "text/plain": [
       "<Figure size 432x288 with 1 Axes>"
      ]
     },
     "metadata": {
      "needs_background": "light"
     },
     "output_type": "display_data"
    },
    {
     "data": {
      "image/png": "[encoded data removed]",
      "text/plain": [
       "<Figure size 432x288 with 1 Axes>"
      ]
     },
     "metadata": {
      "needs_background": "light"
     },
     "output_type": "display_data"
    },
    {
     "data": {
      "image/png": "[encoded data removed]",
      "text/plain": [
       "<Figure size 432x288 with 1 Axes>"
      ]
     },
     "metadata": {
      "needs_background": "light"
     },
     "output_type": "display_data"
    },
    {
     "data": {
      "image/png": "[encoded data removed]",
      "text/plain": [
       "<Figure size 432x288 with 1 Axes>"
      ]
     },
     "metadata": {
      "needs_background": "light"
     },
     "output_type": "display_data"
    },
    {
     "data": {
      "image/png": "[encoded data removed]",
      "text/plain": [
       "<Figure size 432x288 with 1 Axes>"
      ]
     },
     "metadata": {
      "needs_background": "light"
     },
     "output_type": "display_data"
    }
   ],
   "source": [
    "for column in data[['CreditScore', 'Age', 'Tenure', 'Balance', 'NumOfProducts', 'HasCrCard', 'IsActiveMember', 'EstimatedSalary']]:\n",
    "  plt.figure()\n",
    "  data.boxplot(column)\n"
   ]
  },
  {
   "cell_type": "code",
   "execution_count": 57,
   "metadata": {
    "colab": {
     "base_uri": "https://localhost:8080/",
     "height": 206
    },
    "id": "WExvuLDr9Cu9",
    "outputId": "a516f9bc-85b7-404e-9359-5397dd0c63d9"
   },
   "outputs": [
    {
     "data": {
      "text/html": [
       "<div>\n",
       "<style scoped>\n",
       "    .dataframe tbody tr th:only-of-type {\n",
       "        vertical-align: middle;\n",
       "    }\n",
       "\n",
       "    .dataframe tbody tr th {\n",
       "        vertical-align: top;\n",
       "    }\n",
       "\n",
       "    .dataframe thead th {\n",
       "        text-align: right;\n",
       "    }\n",
       "</style>\n",
       "<table border=\"1\" class=\"dataframe\">\n",
       "  <thead>\n",
       "    <tr style=\"text-align: right;\">\n",
       "      <th></th>\n",
       "      <th>CreditScore</th>\n",
       "      <th>Age</th>\n",
       "      <th>Tenure</th>\n",
       "      <th>Balance</th>\n",
       "      <th>NumOfProducts</th>\n",
       "      <th>HasCrCard</th>\n",
       "      <th>IsActiveMember</th>\n",
       "      <th>EstimatedSalary</th>\n",
       "      <th>Exited</th>\n",
       "      <th>Geography_Germany</th>\n",
       "      <th>Geography_Spain</th>\n",
       "      <th>Gender_Male</th>\n",
       "    </tr>\n",
       "  </thead>\n",
       "  <tbody>\n",
       "    <tr>\n",
       "      <th>0</th>\n",
       "      <td>619</td>\n",
       "      <td>42</td>\n",
       "      <td>2.0</td>\n",
       "      <td>0.00</td>\n",
       "      <td>1</td>\n",
       "      <td>1</td>\n",
       "      <td>1</td>\n",
       "      <td>101348.88</td>\n",
       "      <td>1</td>\n",
       "      <td>0</td>\n",
       "      <td>0</td>\n",
       "      <td>0</td>\n",
       "    </tr>\n",
       "    <tr>\n",
       "      <th>1</th>\n",
       "      <td>608</td>\n",
       "      <td>41</td>\n",
       "      <td>1.0</td>\n",
       "      <td>83807.86</td>\n",
       "      <td>1</td>\n",
       "      <td>0</td>\n",
       "      <td>1</td>\n",
       "      <td>112542.58</td>\n",
       "      <td>0</td>\n",
       "      <td>0</td>\n",
       "      <td>1</td>\n",
       "      <td>0</td>\n",
       "    </tr>\n",
       "    <tr>\n",
       "      <th>2</th>\n",
       "      <td>502</td>\n",
       "      <td>42</td>\n",
       "      <td>8.0</td>\n",
       "      <td>159660.80</td>\n",
       "      <td>3</td>\n",
       "      <td>1</td>\n",
       "      <td>0</td>\n",
       "      <td>113931.57</td>\n",
       "      <td>1</td>\n",
       "      <td>0</td>\n",
       "      <td>0</td>\n",
       "      <td>0</td>\n",
       "    </tr>\n",
       "    <tr>\n",
       "      <th>3</th>\n",
       "      <td>699</td>\n",
       "      <td>39</td>\n",
       "      <td>1.0</td>\n",
       "      <td>0.00</td>\n",
       "      <td>2</td>\n",
       "      <td>0</td>\n",
       "      <td>0</td>\n",
       "      <td>93826.63</td>\n",
       "      <td>0</td>\n",
       "      <td>0</td>\n",
       "      <td>0</td>\n",
       "      <td>0</td>\n",
       "    </tr>\n",
       "    <tr>\n",
       "      <th>4</th>\n",
       "      <td>850</td>\n",
       "      <td>43</td>\n",
       "      <td>2.0</td>\n",
       "      <td>125510.82</td>\n",
       "      <td>1</td>\n",
       "      <td>1</td>\n",
       "      <td>1</td>\n",
       "      <td>79084.10</td>\n",
       "      <td>0</td>\n",
       "      <td>0</td>\n",
       "      <td>1</td>\n",
       "      <td>0</td>\n",
       "    </tr>\n",
       "  </tbody>\n",
       "</table>\n",
       "</div>"
      ],
      "text/plain": [
       "   CreditScore  Age  Tenure    Balance  NumOfProducts  HasCrCard  \\\n",
       "0          619   42     2.0       0.00              1          1   \n",
       "1          608   41     1.0   83807.86              1          0   \n",
       "2          502   42     8.0  159660.80              3          1   \n",
       "3          699   39     1.0       0.00              2          0   \n",
       "4          850   43     2.0  125510.82              1          1   \n",
       "\n",
       "   IsActiveMember  EstimatedSalary  Exited  Geography_Germany  \\\n",
       "0               1        101348.88       1                  0   \n",
       "1               1        112542.58       0                  0   \n",
       "2               0        113931.57       1                  0   \n",
       "3               0         93826.63       0                  0   \n",
       "4               1         79084.10       0                  0   \n",
       "\n",
       "   Geography_Spain  Gender_Male  \n",
       "0                0            0  \n",
       "1                1            0  \n",
       "2                0            0  \n",
       "3                0            0  \n",
       "4                1            0  "
      ]
     },
     "execution_count": 57,
     "metadata": {},
     "output_type": "execute_result"
    }
   ],
   "source": [
    "#labelencoder = LabelEncoder()\n",
    "#data['Geography'] = labelencoder.fit_transform(data.loc[:,'Geography'])\n",
    "#data['Gender'] = labelencoder.fit_transform(data.loc[:,'Gender'])\n",
    "\n",
    "data = pd.get_dummies(data, columns=['Geography', 'Gender'], drop_first=True)\n",
    "data.head()"
   ]
  },
  {
   "cell_type": "code",
   "execution_count": 58,
   "metadata": {},
   "outputs": [
    {
     "data": {
      "text/plain": [
       "['CreditScore',\n",
       " 'Age',\n",
       " 'Tenure',\n",
       " 'Balance',\n",
       " 'NumOfProducts',\n",
       " 'HasCrCard',\n",
       " 'IsActiveMember',\n",
       " 'EstimatedSalary',\n",
       " 'Geography_Germany',\n",
       " 'Geography_Spain',\n",
       " 'Gender_Male']"
      ]
     },
     "execution_count": 58,
     "metadata": {},
     "output_type": "execute_result"
    }
   ],
   "source": [
    "feature_columns = feature_columns+['Geography_Germany','Geography_Spain','Gender_Male']\n",
    "numeric_columns = numeric_columns+['Geography_Germany','Geography_Spain','Gender_Male']\n",
    "\n",
    "feature_columns.remove('Geography')\n",
    "feature_columns.remove('Gender')\n",
    "feature_columns"
   ]
  },
  {
   "cell_type": "code",
   "execution_count": 59,
   "metadata": {},
   "outputs": [],
   "source": [
    "feature_train, feature_test, target_train, target_test = train_test_split(data[feature_columns], data[target_columns], stratify=data[target_columns], train_size=0.6, random_state=12345)\n",
    "feature_valid, feature_test, target_valid, target_test = train_test_split(feature_test, target_test, stratify=target_test, train_size=0.5, random_state=12345)"
   ]
  },
  {
   "cell_type": "code",
   "execution_count": 60,
   "metadata": {},
   "outputs": [],
   "source": [
    "scaler = StandardScaler()\n",
    "\n",
    "scaler.fit(feature_train[numeric_columns])\n",
    "\n",
    "feature_train[numeric_columns] = scaler.transform(feature_train[numeric_columns])\n",
    "feature_valid[numeric_columns] = scaler.transform(feature_valid[numeric_columns])\n",
    "feature_test[numeric_columns] = scaler.transform(feature_test[numeric_columns])"
   ]
  },
  {
   "cell_type": "code",
   "execution_count": 61,
   "metadata": {},
   "outputs": [
    {
     "name": "stdout",
     "output_type": "stream",
     "text": [
      "<class 'pandas.core.frame.DataFrame'>\n",
      "Int64Index: 6000 entries, 2837 to 700\n",
      "Data columns (total 11 columns):\n",
      " #   Column             Non-Null Count  Dtype  \n",
      "---  ------             --------------  -----  \n",
      " 0   CreditScore        6000 non-null   float64\n",
      " 1   Age                6000 non-null   float64\n",
      " 2   Tenure             6000 non-null   float64\n",
      " 3   Balance            6000 non-null   float64\n",
      " 4   NumOfProducts      6000 non-null   float64\n",
      " 5   HasCrCard          6000 non-null   float64\n",
      " 6   IsActiveMember     6000 non-null   float64\n",
      " 7   EstimatedSalary    6000 non-null   float64\n",
      " 8   Geography_Germany  6000 non-null   float64\n",
      " 9   Geography_Spain    6000 non-null   float64\n",
      " 10  Gender_Male        6000 non-null   float64\n",
      "dtypes: float64(11)\n",
      "memory usage: 562.5 KB\n"
     ]
    }
   ],
   "source": [
    "feature_train.info()"
   ]
  },
  {
   "cell_type": "code",
   "execution_count": 62,
   "metadata": {},
   "outputs": [
    {
     "name": "stdout",
     "output_type": "stream",
     "text": [
      "<class 'pandas.core.frame.DataFrame'>\n",
      "Int64Index: 6000 entries, 2837 to 700\n",
      "Data columns (total 1 columns):\n",
      " #   Column  Non-Null Count  Dtype\n",
      "---  ------  --------------  -----\n",
      " 0   Exited  6000 non-null   int64\n",
      "dtypes: int64(1)\n",
      "memory usage: 93.8 KB\n"
     ]
    }
   ],
   "source": [
    "target_train.info()"
   ]
  },
  {
   "cell_type": "code",
   "execution_count": 63,
   "metadata": {},
   "outputs": [
    {
     "name": "stdout",
     "output_type": "stream",
     "text": [
      "<class 'pandas.core.frame.DataFrame'>\n",
      "Int64Index: 2000 entries, 6612 to 828\n",
      "Data columns (total 11 columns):\n",
      " #   Column             Non-Null Count  Dtype  \n",
      "---  ------             --------------  -----  \n",
      " 0   CreditScore        2000 non-null   float64\n",
      " 1   Age                2000 non-null   float64\n",
      " 2   Tenure             2000 non-null   float64\n",
      " 3   Balance            2000 non-null   float64\n",
      " 4   NumOfProducts      2000 non-null   float64\n",
      " 5   HasCrCard          2000 non-null   float64\n",
      " 6   IsActiveMember     2000 non-null   float64\n",
      " 7   EstimatedSalary    2000 non-null   float64\n",
      " 8   Geography_Germany  2000 non-null   float64\n",
      " 9   Geography_Spain    2000 non-null   float64\n",
      " 10  Gender_Male        2000 non-null   float64\n",
      "dtypes: float64(11)\n",
      "memory usage: 187.5 KB\n"
     ]
    }
   ],
   "source": [
    "feature_valid.info()"
   ]
  },
  {
   "cell_type": "code",
   "execution_count": 64,
   "metadata": {},
   "outputs": [
    {
     "name": "stdout",
     "output_type": "stream",
     "text": [
      "<class 'pandas.core.frame.DataFrame'>\n",
      "Int64Index: 2000 entries, 6612 to 828\n",
      "Data columns (total 1 columns):\n",
      " #   Column  Non-Null Count  Dtype\n",
      "---  ------  --------------  -----\n",
      " 0   Exited  2000 non-null   int64\n",
      "dtypes: int64(1)\n",
      "memory usage: 31.2 KB\n"
     ]
    }
   ],
   "source": [
    "target_valid.info()"
   ]
  },
  {
   "cell_type": "code",
   "execution_count": 65,
   "metadata": {},
   "outputs": [
    {
     "name": "stdout",
     "output_type": "stream",
     "text": [
      "<class 'pandas.core.frame.DataFrame'>\n",
      "Int64Index: 2000 entries, 657 to 8832\n",
      "Data columns (total 11 columns):\n",
      " #   Column             Non-Null Count  Dtype  \n",
      "---  ------             --------------  -----  \n",
      " 0   CreditScore        2000 non-null   float64\n",
      " 1   Age                2000 non-null   float64\n",
      " 2   Tenure             2000 non-null   float64\n",
      " 3   Balance            2000 non-null   float64\n",
      " 4   NumOfProducts      2000 non-null   float64\n",
      " 5   HasCrCard          2000 non-null   float64\n",
      " 6   IsActiveMember     2000 non-null   float64\n",
      " 7   EstimatedSalary    2000 non-null   float64\n",
      " 8   Geography_Germany  2000 non-null   float64\n",
      " 9   Geography_Spain    2000 non-null   float64\n",
      " 10  Gender_Male        2000 non-null   float64\n",
      "dtypes: float64(11)\n",
      "memory usage: 187.5 KB\n"
     ]
    }
   ],
   "source": [
    "feature_test.info()"
   ]
  },
  {
   "cell_type": "code",
   "execution_count": 66,
   "metadata": {},
   "outputs": [
    {
     "name": "stdout",
     "output_type": "stream",
     "text": [
      "<class 'pandas.core.frame.DataFrame'>\n",
      "Int64Index: 2000 entries, 657 to 8832\n",
      "Data columns (total 1 columns):\n",
      " #   Column  Non-Null Count  Dtype\n",
      "---  ------  --------------  -----\n",
      " 0   Exited  2000 non-null   int64\n",
      "dtypes: int64(1)\n",
      "memory usage: 31.2 KB\n"
     ]
    }
   ],
   "source": [
    "target_test.info()"
   ]
  },
  {
   "cell_type": "markdown",
   "metadata": {
    "id": "WFZAEGckN8ZH"
   },
   "source": [
    "##### Промежуточные выводы\n",
    "* Датасет содержит 2 категориных параметра: 'Gender' и 'Geography'.\n",
    "Категорий небольшое количество и можно воспользовать OneHotEncoding, но для удобства воспользуемся LabelEncoder, чтобы не плодить допольных параметров.\n",
    "\n",
    "* В данных 'CreditScore' и 'Age', есть некоторые выбросы(низкий рейтинг или большой возраст), но такие значения допустимы и не противоречат реальности.\n",
    "\n",
    "* Так же, проанализировав данные в категориальном параметре 'Exited' - был обнаружен дисбаланс и данные распределены как 20/80. Это нужно будет учесть и избавиться от дисбаланса\n",
    "\n",
    "* Так же, из датасеты были исключены данные по данным клиента, так как они приватными и уникальными, что потенциальном может исказить результат\n",
    "\n",
    "~~* Так же, по колонкам 'Balance' и 'EstimatedSalary' проведено масштабирование, так как значения в этих параметрах сильно больше остальных параметров, что может сказаться на целевой результат.~~\n",
    "\n",
    "* В параметре 'Tenure' обнаружены и устранены пропуски. Так как пропуски занимают 10% данных, то высчитали медиану и среднее, которые очень близки, и заполнили пропуски медианным значением\n",
    "\n",
    "* Так же для числовых колонок было применено масштабирование, чтобы модель не считала, что те или иные признаки имеют больший вес, только изза большого значения 'Balance' или 'EstimatedSalary'"
   ]
  },
  {
   "cell_type": "markdown",
   "metadata": {
    "id": "N0aJUoBjK41F"
   },
   "source": [
    "## Исследование задачи"
   ]
  },
  {
   "cell_type": "code",
   "execution_count": 67,
   "metadata": {
    "colab": {
     "base_uri": "https://localhost:8080/"
    },
    "id": "m6qoZj4xK41F",
    "outputId": "91f10536-1ab8-4ee3-bbe2-b60d1e3fc02e"
   },
   "outputs": [
    {
     "data": {
      "text/plain": [
       "0    7963\n",
       "1    2037\n",
       "Name: Exited, dtype: int64"
      ]
     },
     "execution_count": 67,
     "metadata": {},
     "output_type": "execute_result"
    }
   ],
   "source": [
    "data['Exited'].value_counts()"
   ]
  },
  {
   "cell_type": "markdown",
   "metadata": {
    "id": "b_y-eyH9AnzN"
   },
   "source": [
    "Целевой признак имеет дисбаланс, в последующих исследованиях нужно будет это учесть.\n",
    "\n",
    "Сейчас обучим модели на исходных данных и попробуем достичь максимальный результат.\n",
    "\n",
    "Перед началом исследования, нашу выборку на обучающую и валидационную."
   ]
  },
  {
   "cell_type": "markdown",
   "metadata": {
    "id": "fEHLYKY0Bz7V"
   },
   "source": [
    "##### DecisionTreeClassifier"
   ]
  },
  {
   "cell_type": "code",
   "execution_count": 69,
   "metadata": {
    "id": "HjlgfI35CD5i"
   },
   "outputs": [],
   "source": [
    "def decision_tree_classifier(feature_train, target_train, feature_valid, target_valid):\n",
    "\n",
    "  max_accurancy_score = 0\n",
    "  success_depth = 1\n",
    "  success_criterion = 'gini'\n",
    "  success_min_samples_leaf = 1;\n",
    "\n",
    "  for min_samples_leaf in range(1, 100, 5):\n",
    "    for criterion in ['gini', 'entropy']:\n",
    "      for depth in range(1, 20):\n",
    "        dtModel = DecisionTreeClassifier(random_state=123456, max_depth=depth, criterion=criterion, min_samples_leaf=min_samples_leaf)\n",
    "        dtModel.fit(feature_train, target_train)\n",
    "        dt_predicted = dtModel.predict(feature_valid)\n",
    "        accurancy = f1_score(target_valid, dt_predicted)\n",
    "        if accurancy > max_accurancy_score:\n",
    "          max_accurancy_score = accurancy\n",
    "          success_depth = depth\n",
    "          success_criterion = criterion\n",
    "          success_min_samples_leaf = min_samples_leaf\n",
    "\n",
    "  print(\"Max depth:\", success_depth)\n",
    "  print(\"Criterion:\", success_criterion)\n",
    "  print(\"Min samples leaf:\", success_min_samples_leaf)\n",
    "\n",
    "  print(\"F1 score on valid dataset:\", max_accurancy_score)\n",
    "  print(\"ROC AUC score on valid dataset:\", roc_auc_score(target_valid, dtModel.predict_proba(feature_valid)[:, 1]))\n",
    "\n",
    "  map = {\n",
    "      'f1valid': max_accurancy_score,\n",
    "      'rocauc': roc_auc_score(target_valid, dtModel.predict_proba(feature_valid)[:, 1]),\n",
    "      \"type\": 'DecisionTree'\n",
    "  }\n",
    "  return pd.DataFrame(map, index=[1])\n"
   ]
  },
  {
   "cell_type": "code",
   "execution_count": 70,
   "metadata": {
    "colab": {
     "base_uri": "https://localhost:8080/",
     "height": 185
    },
    "id": "KeCmlUa6IFeP",
    "outputId": "8f82a899-b16d-48ca-bbf0-2cd992f6a095"
   },
   "outputs": [
    {
     "name": "stdout",
     "output_type": "stream",
     "text": [
      "Max depth: 7\n",
      "Criterion: entropy\n",
      "Min samples leaf: 6\n",
      "F1 score on valid dataset: 0.600297176820208\n",
      "ROC AUC score on valid dataset: 0.8151572815055671\n"
     ]
    },
    {
     "data": {
      "text/html": [
       "<div>\n",
       "<style scoped>\n",
       "    .dataframe tbody tr th:only-of-type {\n",
       "        vertical-align: middle;\n",
       "    }\n",
       "\n",
       "    .dataframe tbody tr th {\n",
       "        vertical-align: top;\n",
       "    }\n",
       "\n",
       "    .dataframe thead th {\n",
       "        text-align: right;\n",
       "    }\n",
       "</style>\n",
       "<table border=\"1\" class=\"dataframe\">\n",
       "  <thead>\n",
       "    <tr style=\"text-align: right;\">\n",
       "      <th></th>\n",
       "      <th>f1valid</th>\n",
       "      <th>rocauc</th>\n",
       "      <th>type</th>\n",
       "      <th>imbalance_fixer</th>\n",
       "    </tr>\n",
       "  </thead>\n",
       "  <tbody>\n",
       "    <tr>\n",
       "      <th>1</th>\n",
       "      <td>0.600297</td>\n",
       "      <td>0.815157</td>\n",
       "      <td>DecisionTree</td>\n",
       "      <td>No</td>\n",
       "    </tr>\n",
       "  </tbody>\n",
       "</table>\n",
       "</div>"
      ],
      "text/plain": [
       "    f1valid    rocauc          type imbalance_fixer\n",
       "1  0.600297  0.815157  DecisionTree              No"
      ]
     },
     "execution_count": 70,
     "metadata": {},
     "output_type": "execute_result"
    }
   ],
   "source": [
    "tempo = decision_tree_classifier(feature_train, target_train, feature_valid, target_valid)\n",
    "tempo['imbalance_fixer'] = 'No'\n",
    "statsdf = pd.concat([statsdf, tempo])\n",
    "statsdf.head()"
   ]
  },
  {
   "cell_type": "markdown",
   "metadata": {
    "id": "_lJnXvP5B97O"
   },
   "source": [
    "##### RandomForestClassifier\n"
   ]
  },
  {
   "cell_type": "code",
   "execution_count": 71,
   "metadata": {
    "id": "It77_CD1Kri3"
   },
   "outputs": [],
   "source": [
    "def random_forest(feature_train, target_train, feature_valid, target_valid):\n",
    "  max_accurancy_score = 0\n",
    "  best_depth = 1\n",
    "  best_criterion = 'gini'\n",
    "  best_nest = 0\n",
    "\n",
    "  for crt in ['gini', 'entropy']:\n",
    "    for depth in range(1, 20):\n",
    "      for nest in range(100, 200, 50):\n",
    "        model = RandomForestClassifier(random_state=123456, n_estimators=nest, max_depth=depth, criterion=crt)\n",
    "        model.fit(feature_train, target_train.values.ravel())\n",
    "        predicted = model.predict(feature_valid)\n",
    "        accurancy = f1_score(target_valid, predicted)\n",
    "        if accurancy > max_accurancy_score:\n",
    "          max_accurancy_score = accurancy\n",
    "          best_depth = depth\n",
    "          best_nest = nest\n",
    "          best_criterion = crt\n",
    "\n",
    "  print(\"Max depth:\", best_depth)\n",
    "  print(\"Criterion:\", best_criterion)\n",
    "  print(\"N_Estimators:\", best_nest)\n",
    "\n",
    "  print(\"F1 score on valid dataset:\", max_accurancy_score)\n",
    "  print(\"ROC AUC score on valid dataset:\", roc_auc_score(target_valid, model.predict_proba(feature_valid)[:, 1]))\n",
    "\n",
    "  map = {\n",
    "      \"f1valid\": max_accurancy_score,\n",
    "      \"rocauc\": roc_auc_score(target_valid, model.predict_proba(feature_valid)[:, 1]),\n",
    "      \"type\": 'RandomForest'\n",
    "  }\n",
    "  return pd.DataFrame(map, index=[1])"
   ]
  },
  {
   "cell_type": "code",
   "execution_count": 72,
   "metadata": {
    "colab": {
     "base_uri": "https://localhost:8080/",
     "height": 216
    },
    "id": "wTFgwIe6LREv",
    "outputId": "f9c6bc8e-a754-41f2-8f1c-7f7f3813d5f7"
   },
   "outputs": [
    {
     "name": "stdout",
     "output_type": "stream",
     "text": [
      "Max depth: 19\n",
      "Criterion: entropy\n",
      "N_Estimators: 150\n",
      "F1 score on valid dataset: 0.6228070175438597\n",
      "ROC AUC score on valid dataset: 0.8661513757513056\n"
     ]
    },
    {
     "data": {
      "text/html": [
       "<div>\n",
       "<style scoped>\n",
       "    .dataframe tbody tr th:only-of-type {\n",
       "        vertical-align: middle;\n",
       "    }\n",
       "\n",
       "    .dataframe tbody tr th {\n",
       "        vertical-align: top;\n",
       "    }\n",
       "\n",
       "    .dataframe thead th {\n",
       "        text-align: right;\n",
       "    }\n",
       "</style>\n",
       "<table border=\"1\" class=\"dataframe\">\n",
       "  <thead>\n",
       "    <tr style=\"text-align: right;\">\n",
       "      <th></th>\n",
       "      <th>f1valid</th>\n",
       "      <th>rocauc</th>\n",
       "      <th>type</th>\n",
       "      <th>imbalance_fixer</th>\n",
       "    </tr>\n",
       "  </thead>\n",
       "  <tbody>\n",
       "    <tr>\n",
       "      <th>1</th>\n",
       "      <td>0.600297</td>\n",
       "      <td>0.815157</td>\n",
       "      <td>DecisionTree</td>\n",
       "      <td>No</td>\n",
       "    </tr>\n",
       "    <tr>\n",
       "      <th>1</th>\n",
       "      <td>0.622807</td>\n",
       "      <td>0.866151</td>\n",
       "      <td>RandomForest</td>\n",
       "      <td>No</td>\n",
       "    </tr>\n",
       "  </tbody>\n",
       "</table>\n",
       "</div>"
      ],
      "text/plain": [
       "    f1valid    rocauc          type imbalance_fixer\n",
       "1  0.600297  0.815157  DecisionTree              No\n",
       "1  0.622807  0.866151  RandomForest              No"
      ]
     },
     "execution_count": 72,
     "metadata": {},
     "output_type": "execute_result"
    }
   ],
   "source": [
    "tempo = random_forest(feature_train, target_train, feature_valid, target_valid)\n",
    "tempo['imbalance_fixer'] = 'No'\n",
    "statsdf = pd.concat([statsdf, tempo])\n",
    "statsdf.head()"
   ]
  },
  {
   "cell_type": "markdown",
   "metadata": {
    "id": "b69vTjOKB_J-"
   },
   "source": [
    "##### LogisticRegression\n"
   ]
  },
  {
   "cell_type": "code",
   "execution_count": 73,
   "metadata": {
    "id": "7AB--D7OLjWH"
   },
   "outputs": [],
   "source": [
    "def logistic_regression(feature_train, target_train, feature_valid, target_valid):\n",
    "  max_f1_score = 0\n",
    "  best_depth = 1\n",
    "  best_solver = ''\n",
    "  best_max_iter = 0\n",
    "\n",
    "  for countOfIter in range(100, 2500, 100):\n",
    "    for solver in ['liblinear', 'newton-cg', 'lbfgs', 'sag', 'saga']:\n",
    "      model = LogisticRegression(random_state=12345, solver=solver, max_iter = countOfIter)\n",
    "      model.fit(feature_train, target_train.values.ravel())\n",
    "      predicted = model.predict(feature_valid)\n",
    "      score = f1_score(target_valid, predicted)\n",
    "      if score > max_f1_score:\n",
    "        max_f1_score = score\n",
    "        best_max_iter = countOfIter\n",
    "        best_solver = solver\n",
    "  print(\"Max Iter:\", best_max_iter)\n",
    "  print(\"Solver:\", best_solver)\n",
    "\n",
    "  print(\"F1 score on valid dataset:\", max_f1_score)\n",
    "  print(\"ROC AUC score on valid dataset:\", roc_auc_score(target_valid, model.predict_proba(feature_valid)[:, 1]))\n",
    "\n",
    "  map = {\n",
    "      \"f1valid\": max_f1_score,\n",
    "      \"rocauc\": roc_auc_score(target_valid, model.predict_proba(feature_valid)[:, 1]),\n",
    "      \"type\": 'Logistic'\n",
    "\n",
    "  }\n",
    "  return pd.DataFrame(map, index=[1])"
   ]
  },
  {
   "cell_type": "code",
   "execution_count": 74,
   "metadata": {
    "colab": {
     "base_uri": "https://localhost:8080/",
     "height": 230
    },
    "id": "86SzoWzmN_1t",
    "outputId": "9d06a745-e2df-4921-d239-c33ccb5952e8"
   },
   "outputs": [
    {
     "name": "stdout",
     "output_type": "stream",
     "text": [
      "Max Iter: 100\n",
      "Solver: liblinear\n",
      "F1 score on valid dataset: 0.3107861060329068\n",
      "ROC AUC score on valid dataset: 0.7874421125234013\n"
     ]
    },
    {
     "data": {
      "text/html": [
       "<div>\n",
       "<style scoped>\n",
       "    .dataframe tbody tr th:only-of-type {\n",
       "        vertical-align: middle;\n",
       "    }\n",
       "\n",
       "    .dataframe tbody tr th {\n",
       "        vertical-align: top;\n",
       "    }\n",
       "\n",
       "    .dataframe thead th {\n",
       "        text-align: right;\n",
       "    }\n",
       "</style>\n",
       "<table border=\"1\" class=\"dataframe\">\n",
       "  <thead>\n",
       "    <tr style=\"text-align: right;\">\n",
       "      <th></th>\n",
       "      <th>f1valid</th>\n",
       "      <th>rocauc</th>\n",
       "      <th>type</th>\n",
       "      <th>imbalance_fixer</th>\n",
       "    </tr>\n",
       "  </thead>\n",
       "  <tbody>\n",
       "    <tr>\n",
       "      <th>1</th>\n",
       "      <td>0.600297</td>\n",
       "      <td>0.815157</td>\n",
       "      <td>DecisionTree</td>\n",
       "      <td>No</td>\n",
       "    </tr>\n",
       "    <tr>\n",
       "      <th>1</th>\n",
       "      <td>0.622807</td>\n",
       "      <td>0.866151</td>\n",
       "      <td>RandomForest</td>\n",
       "      <td>No</td>\n",
       "    </tr>\n",
       "    <tr>\n",
       "      <th>1</th>\n",
       "      <td>0.310786</td>\n",
       "      <td>0.787442</td>\n",
       "      <td>Logistic</td>\n",
       "      <td>No</td>\n",
       "    </tr>\n",
       "  </tbody>\n",
       "</table>\n",
       "</div>"
      ],
      "text/plain": [
       "    f1valid    rocauc          type imbalance_fixer\n",
       "1  0.600297  0.815157  DecisionTree              No\n",
       "1  0.622807  0.866151  RandomForest              No\n",
       "1  0.310786  0.787442      Logistic              No"
      ]
     },
     "execution_count": 74,
     "metadata": {},
     "output_type": "execute_result"
    }
   ],
   "source": [
    "tempo = logistic_regression(feature_train, target_train, feature_valid, target_valid)\n",
    "tempo['imbalance_fixer'] = 'No'\n",
    "statsdf = pd.concat([statsdf, tempo])\n",
    "statsdf.head()"
   ]
  },
  {
   "cell_type": "markdown",
   "metadata": {
    "id": "LGYry0TPS5_0"
   },
   "source": [
    "##### Промежуточные выводы\n",
    "Были обучены 4 модели со следующими результатами\n",
    "* DecisionTreeClassifier\n",
    "1. F1 score on valid dataset: 0.600297176820208\n",
    "2. ROC AUC score on valid dataset: 0.8151572815055671\n",
    "\n",
    "* RandomForestClassifier\n",
    "1. F1 score on valid dataset: 0.6185567010309277\n",
    "2. ROC AUC score on valid dataset: 0.8656910471475023\n",
    "\n",
    "* LogisticRegression\n",
    "1. F1 score on valid dataset: 0.3107861060329068\n",
    "2. ROC AUC score on valid dataset: 0.7874421125234013\n",
    "\n",
    "\n",
    "На текущем этапе, при стратифицированной разбивки и не сбалансированными классами мы получили хорошее предсказание для DecisionTreeClassifier и RandomForestClassifier."
   ]
  },
  {
   "cell_type": "markdown",
   "metadata": {
    "id": "tMBS5SXrK41F"
   },
   "source": [
    "## Борьба с дисбалансом"
   ]
  },
  {
   "cell_type": "markdown",
   "metadata": {
    "id": "m85FHOk2K41F"
   },
   "source": [
    "##### Oversampling\n",
    "В данном способе, мы продублируем существующие записи меньшего класса, чтобы они сравнялись с количеством записей большего класса и обучим модели"
   ]
  },
  {
   "cell_type": "code",
   "execution_count": 77,
   "metadata": {
    "colab": {
     "base_uri": "https://localhost:8080/"
    },
    "id": "uH14qKG-bh0V",
    "outputId": "a46a200d-f3a6-4cf6-b467-a15add0c4e89"
   },
   "outputs": [
    {
     "data": {
      "text/plain": [
       "0    7963\n",
       "1    2037\n",
       "Name: Exited, dtype: int64"
      ]
     },
     "execution_count": 77,
     "metadata": {},
     "output_type": "execute_result"
    }
   ],
   "source": [
    "data['Exited'].value_counts()"
   ]
  },
  {
   "cell_type": "code",
   "execution_count": 80,
   "metadata": {},
   "outputs": [
    {
     "data": {
      "text/html": [
       "<div>\n",
       "<style scoped>\n",
       "    .dataframe tbody tr th:only-of-type {\n",
       "        vertical-align: middle;\n",
       "    }\n",
       "\n",
       "    .dataframe tbody tr th {\n",
       "        vertical-align: top;\n",
       "    }\n",
       "\n",
       "    .dataframe thead th {\n",
       "        text-align: right;\n",
       "    }\n",
       "</style>\n",
       "<table border=\"1\" class=\"dataframe\">\n",
       "  <thead>\n",
       "    <tr style=\"text-align: right;\">\n",
       "      <th></th>\n",
       "      <th>CreditScore</th>\n",
       "      <th>Age</th>\n",
       "      <th>Tenure</th>\n",
       "      <th>Balance</th>\n",
       "      <th>NumOfProducts</th>\n",
       "      <th>HasCrCard</th>\n",
       "      <th>IsActiveMember</th>\n",
       "      <th>EstimatedSalary</th>\n",
       "      <th>Geography_Germany</th>\n",
       "      <th>Geography_Spain</th>\n",
       "      <th>Gender_Male</th>\n",
       "      <th>Exited</th>\n",
       "    </tr>\n",
       "  </thead>\n",
       "  <tbody>\n",
       "    <tr>\n",
       "      <th>6349</th>\n",
       "      <td>-1.112579</td>\n",
       "      <td>-1.334446</td>\n",
       "      <td>0.723985</td>\n",
       "      <td>-1.219673</td>\n",
       "      <td>0.820981</td>\n",
       "      <td>-1.525709</td>\n",
       "      <td>0.969466</td>\n",
       "      <td>-0.313059</td>\n",
       "      <td>-0.575041</td>\n",
       "      <td>-0.575811</td>\n",
       "      <td>-1.102198</td>\n",
       "      <td>0</td>\n",
       "    </tr>\n",
       "    <tr>\n",
       "      <th>7335</th>\n",
       "      <td>0.010827</td>\n",
       "      <td>0.190726</td>\n",
       "      <td>-0.366172</td>\n",
       "      <td>-0.602707</td>\n",
       "      <td>-0.914708</td>\n",
       "      <td>0.655433</td>\n",
       "      <td>0.969466</td>\n",
       "      <td>0.077745</td>\n",
       "      <td>-0.575041</td>\n",
       "      <td>-0.575811</td>\n",
       "      <td>-1.102198</td>\n",
       "      <td>0</td>\n",
       "    </tr>\n",
       "    <tr>\n",
       "      <th>792</th>\n",
       "      <td>2.061816</td>\n",
       "      <td>0.857988</td>\n",
       "      <td>0.360600</td>\n",
       "      <td>0.569101</td>\n",
       "      <td>-0.914708</td>\n",
       "      <td>0.655433</td>\n",
       "      <td>-1.031496</td>\n",
       "      <td>0.197313</td>\n",
       "      <td>1.739007</td>\n",
       "      <td>-0.575811</td>\n",
       "      <td>-1.102198</td>\n",
       "      <td>0</td>\n",
       "    </tr>\n",
       "    <tr>\n",
       "      <th>9964</th>\n",
       "      <td>-1.761887</td>\n",
       "      <td>-0.476537</td>\n",
       "      <td>-0.002786</td>\n",
       "      <td>0.659056</td>\n",
       "      <td>0.820981</td>\n",
       "      <td>-1.525709</td>\n",
       "      <td>-1.031496</td>\n",
       "      <td>0.224298</td>\n",
       "      <td>-0.575041</td>\n",
       "      <td>-0.575811</td>\n",
       "      <td>0.907278</td>\n",
       "      <td>0</td>\n",
       "    </tr>\n",
       "    <tr>\n",
       "      <th>546</th>\n",
       "      <td>-0.648788</td>\n",
       "      <td>-0.095244</td>\n",
       "      <td>-1.819714</td>\n",
       "      <td>-1.219673</td>\n",
       "      <td>0.820981</td>\n",
       "      <td>0.655433</td>\n",
       "      <td>-1.031496</td>\n",
       "      <td>-0.921049</td>\n",
       "      <td>-0.575041</td>\n",
       "      <td>-0.575811</td>\n",
       "      <td>0.907278</td>\n",
       "      <td>0</td>\n",
       "    </tr>\n",
       "  </tbody>\n",
       "</table>\n",
       "</div>"
      ],
      "text/plain": [
       "      CreditScore       Age    Tenure   Balance  NumOfProducts  HasCrCard  \\\n",
       "6349    -1.112579 -1.334446  0.723985 -1.219673       0.820981  -1.525709   \n",
       "7335     0.010827  0.190726 -0.366172 -0.602707      -0.914708   0.655433   \n",
       "792      2.061816  0.857988  0.360600  0.569101      -0.914708   0.655433   \n",
       "9964    -1.761887 -0.476537 -0.002786  0.659056       0.820981  -1.525709   \n",
       "546     -0.648788 -0.095244 -1.819714 -1.219673       0.820981   0.655433   \n",
       "\n",
       "      IsActiveMember  EstimatedSalary  Geography_Germany  Geography_Spain  \\\n",
       "6349        0.969466        -0.313059          -0.575041        -0.575811   \n",
       "7335        0.969466         0.077745          -0.575041        -0.575811   \n",
       "792        -1.031496         0.197313           1.739007        -0.575811   \n",
       "9964       -1.031496         0.224298          -0.575041        -0.575811   \n",
       "546        -1.031496        -0.921049          -0.575041        -0.575811   \n",
       "\n",
       "      Gender_Male  Exited  \n",
       "6349    -1.102198       0  \n",
       "7335    -1.102198       0  \n",
       "792     -1.102198       0  \n",
       "9964     0.907278       0  \n",
       "546      0.907278       0  "
      ]
     },
     "execution_count": 80,
     "metadata": {},
     "output_type": "execute_result"
    }
   ],
   "source": [
    "temp = feature_train.merge(target_train, left_index=True, right_index=True)\n",
    "temp_class_1 = temp[temp['Exited'] == 1]\n",
    "temp_class_0 = temp[temp['Exited'] == 0]\n",
    "oversampling_balanced_data = pd.concat([temp_class_0, temp_class_1, temp_class_1, temp_class_1, temp_class_1])\n",
    "oversampling_balanced_data = shuffle(oversampling_balanced_data)\n",
    "oversampling_balanced_data.head()"
   ]
  },
  {
   "cell_type": "code",
   "execution_count": 81,
   "metadata": {},
   "outputs": [
    {
     "data": {
      "text/html": [
       "<div>\n",
       "<style scoped>\n",
       "    .dataframe tbody tr th:only-of-type {\n",
       "        vertical-align: middle;\n",
       "    }\n",
       "\n",
       "    .dataframe tbody tr th {\n",
       "        vertical-align: top;\n",
       "    }\n",
       "\n",
       "    .dataframe thead th {\n",
       "        text-align: right;\n",
       "    }\n",
       "</style>\n",
       "<table border=\"1\" class=\"dataframe\">\n",
       "  <thead>\n",
       "    <tr style=\"text-align: right;\">\n",
       "      <th></th>\n",
       "      <th>CreditScore</th>\n",
       "      <th>Age</th>\n",
       "      <th>Tenure</th>\n",
       "      <th>Balance</th>\n",
       "      <th>NumOfProducts</th>\n",
       "      <th>HasCrCard</th>\n",
       "      <th>IsActiveMember</th>\n",
       "      <th>EstimatedSalary</th>\n",
       "      <th>Geography_Germany</th>\n",
       "      <th>Geography_Spain</th>\n",
       "      <th>Gender_Male</th>\n",
       "      <th>Exited</th>\n",
       "    </tr>\n",
       "  </thead>\n",
       "  <tbody>\n",
       "    <tr>\n",
       "      <th>count</th>\n",
       "      <td>9666.000000</td>\n",
       "      <td>9666.000000</td>\n",
       "      <td>9666.000000</td>\n",
       "      <td>9666.000000</td>\n",
       "      <td>9666.000000</td>\n",
       "      <td>9666.000000</td>\n",
       "      <td>9666.000000</td>\n",
       "      <td>9666.000000</td>\n",
       "      <td>9666.000000</td>\n",
       "      <td>9666.000000</td>\n",
       "      <td>9666.000000</td>\n",
       "      <td>9666.000000</td>\n",
       "    </tr>\n",
       "    <tr>\n",
       "      <th>mean</th>\n",
       "      <td>-0.014645</td>\n",
       "      <td>0.212658</td>\n",
       "      <td>-0.007824</td>\n",
       "      <td>0.093452</td>\n",
       "      <td>-0.047402</td>\n",
       "      <td>-0.003919</td>\n",
       "      <td>-0.120443</td>\n",
       "      <td>0.009849</td>\n",
       "      <td>0.130952</td>\n",
       "      <td>-0.052593</td>\n",
       "      <td>-0.075007</td>\n",
       "      <td>0.505690</td>\n",
       "    </tr>\n",
       "    <tr>\n",
       "      <th>std</th>\n",
       "      <td>1.013546</td>\n",
       "      <td>1.019653</td>\n",
       "      <td>1.004619</td>\n",
       "      <td>0.981035</td>\n",
       "      <td>1.148601</td>\n",
       "      <td>1.001748</td>\n",
       "      <td>0.996528</td>\n",
       "      <td>0.999641</td>\n",
       "      <td>1.065548</td>\n",
       "      <td>0.967614</td>\n",
       "      <td>1.004539</td>\n",
       "      <td>0.499993</td>\n",
       "    </tr>\n",
       "    <tr>\n",
       "      <th>min</th>\n",
       "      <td>-3.091423</td>\n",
       "      <td>-2.001708</td>\n",
       "      <td>-1.819714</td>\n",
       "      <td>-1.219673</td>\n",
       "      <td>-0.914708</td>\n",
       "      <td>-1.525709</td>\n",
       "      <td>-1.031496</td>\n",
       "      <td>-1.743588</td>\n",
       "      <td>-0.575041</td>\n",
       "      <td>-0.575811</td>\n",
       "      <td>-1.102198</td>\n",
       "      <td>0.000000</td>\n",
       "    </tr>\n",
       "    <tr>\n",
       "      <th>25%</th>\n",
       "      <td>-0.720933</td>\n",
       "      <td>-0.476537</td>\n",
       "      <td>-0.729557</td>\n",
       "      <td>-1.219673</td>\n",
       "      <td>-0.914708</td>\n",
       "      <td>-1.525709</td>\n",
       "      <td>-1.031496</td>\n",
       "      <td>-0.849193</td>\n",
       "      <td>-0.575041</td>\n",
       "      <td>-0.575811</td>\n",
       "      <td>-1.102198</td>\n",
       "      <td>0.000000</td>\n",
       "    </tr>\n",
       "    <tr>\n",
       "      <th>50%</th>\n",
       "      <td>0.000520</td>\n",
       "      <td>0.095403</td>\n",
       "      <td>-0.002786</td>\n",
       "      <td>0.432440</td>\n",
       "      <td>-0.914708</td>\n",
       "      <td>0.655433</td>\n",
       "      <td>-1.031496</td>\n",
       "      <td>0.018214</td>\n",
       "      <td>-0.575041</td>\n",
       "      <td>-0.575811</td>\n",
       "      <td>0.907278</td>\n",
       "      <td>1.000000</td>\n",
       "    </tr>\n",
       "    <tr>\n",
       "      <th>75%</th>\n",
       "      <td>0.701361</td>\n",
       "      <td>0.857988</td>\n",
       "      <td>0.723985</td>\n",
       "      <td>0.847490</td>\n",
       "      <td>0.820981</td>\n",
       "      <td>0.655433</td>\n",
       "      <td>0.969466</td>\n",
       "      <td>0.875574</td>\n",
       "      <td>1.739007</td>\n",
       "      <td>-0.575811</td>\n",
       "      <td>0.907278</td>\n",
       "      <td>1.000000</td>\n",
       "    </tr>\n",
       "    <tr>\n",
       "      <th>max</th>\n",
       "      <td>2.061816</td>\n",
       "      <td>5.052210</td>\n",
       "      <td>1.814142</td>\n",
       "      <td>2.588919</td>\n",
       "      <td>4.292357</td>\n",
       "      <td>0.655433</td>\n",
       "      <td>0.969466</td>\n",
       "      <td>1.730631</td>\n",
       "      <td>1.739007</td>\n",
       "      <td>1.736682</td>\n",
       "      <td>0.907278</td>\n",
       "      <td>1.000000</td>\n",
       "    </tr>\n",
       "  </tbody>\n",
       "</table>\n",
       "</div>"
      ],
      "text/plain": [
       "       CreditScore          Age       Tenure      Balance  NumOfProducts  \\\n",
       "count  9666.000000  9666.000000  9666.000000  9666.000000    9666.000000   \n",
       "mean     -0.014645     0.212658    -0.007824     0.093452      -0.047402   \n",
       "std       1.013546     1.019653     1.004619     0.981035       1.148601   \n",
       "min      -3.091423    -2.001708    -1.819714    -1.219673      -0.914708   \n",
       "25%      -0.720933    -0.476537    -0.729557    -1.219673      -0.914708   \n",
       "50%       0.000520     0.095403    -0.002786     0.432440      -0.914708   \n",
       "75%       0.701361     0.857988     0.723985     0.847490       0.820981   \n",
       "max       2.061816     5.052210     1.814142     2.588919       4.292357   \n",
       "\n",
       "         HasCrCard  IsActiveMember  EstimatedSalary  Geography_Germany  \\\n",
       "count  9666.000000     9666.000000      9666.000000        9666.000000   \n",
       "mean     -0.003919       -0.120443         0.009849           0.130952   \n",
       "std       1.001748        0.996528         0.999641           1.065548   \n",
       "min      -1.525709       -1.031496        -1.743588          -0.575041   \n",
       "25%      -1.525709       -1.031496        -0.849193          -0.575041   \n",
       "50%       0.655433       -1.031496         0.018214          -0.575041   \n",
       "75%       0.655433        0.969466         0.875574           1.739007   \n",
       "max       0.655433        0.969466         1.730631           1.739007   \n",
       "\n",
       "       Geography_Spain  Gender_Male       Exited  \n",
       "count      9666.000000  9666.000000  9666.000000  \n",
       "mean         -0.052593    -0.075007     0.505690  \n",
       "std           0.967614     1.004539     0.499993  \n",
       "min          -0.575811    -1.102198     0.000000  \n",
       "25%          -0.575811    -1.102198     0.000000  \n",
       "50%          -0.575811     0.907278     1.000000  \n",
       "75%          -0.575811     0.907278     1.000000  \n",
       "max           1.736682     0.907278     1.000000  "
      ]
     },
     "execution_count": 81,
     "metadata": {},
     "output_type": "execute_result"
    }
   ],
   "source": [
    "oversampling_balanced_data.describe()"
   ]
  },
  {
   "cell_type": "code",
   "execution_count": 82,
   "metadata": {},
   "outputs": [],
   "source": [
    "feature_oversampling_temp = oversampling_balanced_data[feature_columns]\n",
    "target_oversampling_temp = oversampling_balanced_data[target_columns]"
   ]
  },
  {
   "cell_type": "code",
   "execution_count": 83,
   "metadata": {
    "colab": {
     "base_uri": "https://localhost:8080/",
     "height": 310
    },
    "id": "_CPazh0xdMAF",
    "outputId": "0d5602b2-e8e9-41e4-9b22-5cb91b78f1e6"
   },
   "outputs": [
    {
     "name": "stdout",
     "output_type": "stream",
     "text": [
      "Max depth: 8\n",
      "Criterion: entropy\n",
      "Min samples leaf: 96\n",
      "F1 score on valid dataset: 0.6174757281553398\n",
      "ROC AUC score on valid dataset: 0.8484718322002167\n"
     ]
    },
    {
     "data": {
      "text/html": [
       "<div>\n",
       "<style scoped>\n",
       "    .dataframe tbody tr th:only-of-type {\n",
       "        vertical-align: middle;\n",
       "    }\n",
       "\n",
       "    .dataframe tbody tr th {\n",
       "        vertical-align: top;\n",
       "    }\n",
       "\n",
       "    .dataframe thead th {\n",
       "        text-align: right;\n",
       "    }\n",
       "</style>\n",
       "<table border=\"1\" class=\"dataframe\">\n",
       "  <thead>\n",
       "    <tr style=\"text-align: right;\">\n",
       "      <th></th>\n",
       "      <th>f1valid</th>\n",
       "      <th>rocauc</th>\n",
       "      <th>type</th>\n",
       "      <th>imbalance_fixer</th>\n",
       "    </tr>\n",
       "  </thead>\n",
       "  <tbody>\n",
       "    <tr>\n",
       "      <th>1</th>\n",
       "      <td>0.600297</td>\n",
       "      <td>0.815157</td>\n",
       "      <td>DecisionTree</td>\n",
       "      <td>No</td>\n",
       "    </tr>\n",
       "    <tr>\n",
       "      <th>1</th>\n",
       "      <td>0.622807</td>\n",
       "      <td>0.866151</td>\n",
       "      <td>RandomForest</td>\n",
       "      <td>No</td>\n",
       "    </tr>\n",
       "    <tr>\n",
       "      <th>1</th>\n",
       "      <td>0.310786</td>\n",
       "      <td>0.787442</td>\n",
       "      <td>Logistic</td>\n",
       "      <td>No</td>\n",
       "    </tr>\n",
       "    <tr>\n",
       "      <th>1</th>\n",
       "      <td>0.483221</td>\n",
       "      <td>NaN</td>\n",
       "      <td>SGD</td>\n",
       "      <td>No</td>\n",
       "    </tr>\n",
       "    <tr>\n",
       "      <th>1</th>\n",
       "      <td>0.617476</td>\n",
       "      <td>0.848472</td>\n",
       "      <td>DecisionTree</td>\n",
       "      <td>Oversampling</td>\n",
       "    </tr>\n",
       "  </tbody>\n",
       "</table>\n",
       "</div>"
      ],
      "text/plain": [
       "    f1valid    rocauc          type imbalance_fixer\n",
       "1  0.600297  0.815157  DecisionTree              No\n",
       "1  0.622807  0.866151  RandomForest              No\n",
       "1  0.310786  0.787442      Logistic              No\n",
       "1  0.483221       NaN           SGD              No\n",
       "1  0.617476  0.848472  DecisionTree    Oversampling"
      ]
     },
     "execution_count": 83,
     "metadata": {},
     "output_type": "execute_result"
    }
   ],
   "source": [
    "tempo = decision_tree_classifier(feature_oversampling_temp, target_oversampling_temp, feature_valid, target_valid)\n",
    "tempo['imbalance_fixer'] = 'Oversampling'\n",
    "statsdf = pd.concat([statsdf, tempo])\n",
    "statsdf.head()"
   ]
  },
  {
   "cell_type": "code",
   "execution_count": 84,
   "metadata": {
    "colab": {
     "base_uri": "https://localhost:8080/",
     "height": 310
    },
    "id": "Z821NqgudMzy",
    "outputId": "8b833389-be10-4234-ee94-9d5a6aded3c5"
   },
   "outputs": [
    {
     "name": "stdout",
     "output_type": "stream",
     "text": [
      "Max depth: 10\n",
      "Criterion: gini\n",
      "N_Estimators: 100\n",
      "F1 score on valid dataset: 0.6490066225165563\n",
      "ROC AUC score on valid dataset: 0.8666825241403093\n"
     ]
    },
    {
     "data": {
      "text/html": [
       "<div>\n",
       "<style scoped>\n",
       "    .dataframe tbody tr th:only-of-type {\n",
       "        vertical-align: middle;\n",
       "    }\n",
       "\n",
       "    .dataframe tbody tr th {\n",
       "        vertical-align: top;\n",
       "    }\n",
       "\n",
       "    .dataframe thead th {\n",
       "        text-align: right;\n",
       "    }\n",
       "</style>\n",
       "<table border=\"1\" class=\"dataframe\">\n",
       "  <thead>\n",
       "    <tr style=\"text-align: right;\">\n",
       "      <th></th>\n",
       "      <th>f1valid</th>\n",
       "      <th>rocauc</th>\n",
       "      <th>type</th>\n",
       "      <th>imbalance_fixer</th>\n",
       "    </tr>\n",
       "  </thead>\n",
       "  <tbody>\n",
       "    <tr>\n",
       "      <th>1</th>\n",
       "      <td>0.600297</td>\n",
       "      <td>0.815157</td>\n",
       "      <td>DecisionTree</td>\n",
       "      <td>No</td>\n",
       "    </tr>\n",
       "    <tr>\n",
       "      <th>1</th>\n",
       "      <td>0.622807</td>\n",
       "      <td>0.866151</td>\n",
       "      <td>RandomForest</td>\n",
       "      <td>No</td>\n",
       "    </tr>\n",
       "    <tr>\n",
       "      <th>1</th>\n",
       "      <td>0.310786</td>\n",
       "      <td>0.787442</td>\n",
       "      <td>Logistic</td>\n",
       "      <td>No</td>\n",
       "    </tr>\n",
       "    <tr>\n",
       "      <th>1</th>\n",
       "      <td>0.483221</td>\n",
       "      <td>NaN</td>\n",
       "      <td>SGD</td>\n",
       "      <td>No</td>\n",
       "    </tr>\n",
       "    <tr>\n",
       "      <th>1</th>\n",
       "      <td>0.617476</td>\n",
       "      <td>0.848472</td>\n",
       "      <td>DecisionTree</td>\n",
       "      <td>Oversampling</td>\n",
       "    </tr>\n",
       "  </tbody>\n",
       "</table>\n",
       "</div>"
      ],
      "text/plain": [
       "    f1valid    rocauc          type imbalance_fixer\n",
       "1  0.600297  0.815157  DecisionTree              No\n",
       "1  0.622807  0.866151  RandomForest              No\n",
       "1  0.310786  0.787442      Logistic              No\n",
       "1  0.483221       NaN           SGD              No\n",
       "1  0.617476  0.848472  DecisionTree    Oversampling"
      ]
     },
     "execution_count": 84,
     "metadata": {},
     "output_type": "execute_result"
    }
   ],
   "source": [
    "tempo = random_forest(feature_oversampling_temp, target_oversampling_temp, feature_valid, target_valid)\n",
    "tempo['imbalance_fixer'] = 'Oversampling'\n",
    "statsdf = pd.concat([statsdf, tempo])\n",
    "statsdf.head()"
   ]
  },
  {
   "cell_type": "code",
   "execution_count": 85,
   "metadata": {
    "colab": {
     "base_uri": "https://localhost:8080/",
     "height": 293
    },
    "id": "yoPXWCVJdNCz",
    "outputId": "277b2238-2000-4d17-dd2b-23a98a7e27ff"
   },
   "outputs": [
    {
     "name": "stdout",
     "output_type": "stream",
     "text": [
      "Max Iter: 100\n",
      "Solver: liblinear\n",
      "F1 score on valid dataset: 0.5246753246753246\n",
      "ROC AUC score on valid dataset: 0.7937527712089861\n"
     ]
    },
    {
     "data": {
      "text/html": [
       "<div>\n",
       "<style scoped>\n",
       "    .dataframe tbody tr th:only-of-type {\n",
       "        vertical-align: middle;\n",
       "    }\n",
       "\n",
       "    .dataframe tbody tr th {\n",
       "        vertical-align: top;\n",
       "    }\n",
       "\n",
       "    .dataframe thead th {\n",
       "        text-align: right;\n",
       "    }\n",
       "</style>\n",
       "<table border=\"1\" class=\"dataframe\">\n",
       "  <thead>\n",
       "    <tr style=\"text-align: right;\">\n",
       "      <th></th>\n",
       "      <th>f1valid</th>\n",
       "      <th>rocauc</th>\n",
       "      <th>type</th>\n",
       "      <th>imbalance_fixer</th>\n",
       "    </tr>\n",
       "  </thead>\n",
       "  <tbody>\n",
       "    <tr>\n",
       "      <th>1</th>\n",
       "      <td>0.600297</td>\n",
       "      <td>0.815157</td>\n",
       "      <td>DecisionTree</td>\n",
       "      <td>No</td>\n",
       "    </tr>\n",
       "    <tr>\n",
       "      <th>1</th>\n",
       "      <td>0.622807</td>\n",
       "      <td>0.866151</td>\n",
       "      <td>RandomForest</td>\n",
       "      <td>No</td>\n",
       "    </tr>\n",
       "    <tr>\n",
       "      <th>1</th>\n",
       "      <td>0.310786</td>\n",
       "      <td>0.787442</td>\n",
       "      <td>Logistic</td>\n",
       "      <td>No</td>\n",
       "    </tr>\n",
       "    <tr>\n",
       "      <th>1</th>\n",
       "      <td>0.483221</td>\n",
       "      <td>NaN</td>\n",
       "      <td>SGD</td>\n",
       "      <td>No</td>\n",
       "    </tr>\n",
       "    <tr>\n",
       "      <th>1</th>\n",
       "      <td>0.617476</td>\n",
       "      <td>0.848472</td>\n",
       "      <td>DecisionTree</td>\n",
       "      <td>Oversampling</td>\n",
       "    </tr>\n",
       "  </tbody>\n",
       "</table>\n",
       "</div>"
      ],
      "text/plain": [
       "    f1valid    rocauc          type imbalance_fixer\n",
       "1  0.600297  0.815157  DecisionTree              No\n",
       "1  0.622807  0.866151  RandomForest              No\n",
       "1  0.310786  0.787442      Logistic              No\n",
       "1  0.483221       NaN           SGD              No\n",
       "1  0.617476  0.848472  DecisionTree    Oversampling"
      ]
     },
     "execution_count": 85,
     "metadata": {},
     "output_type": "execute_result"
    }
   ],
   "source": [
    "tempo = logistic_regression(feature_oversampling_temp, target_oversampling_temp, feature_valid, target_valid)\n",
    "tempo['imbalance_fixer'] = 'Oversampling'\n",
    "statsdf = pd.concat([statsdf, tempo])\n",
    "statsdf.head()"
   ]
  },
  {
   "cell_type": "markdown",
   "metadata": {
    "id": "ojCeTPrmi8Ec"
   },
   "source": [
    "##### Undersampling\n",
    "В данном подходе, уменьшим количество представителей мажоритарного класса, до уровня минорного и переобучим модели"
   ]
  },
  {
   "cell_type": "code",
   "execution_count": 88,
   "metadata": {},
   "outputs": [
    {
     "data": {
      "text/html": [
       "<div>\n",
       "<style scoped>\n",
       "    .dataframe tbody tr th:only-of-type {\n",
       "        vertical-align: middle;\n",
       "    }\n",
       "\n",
       "    .dataframe tbody tr th {\n",
       "        vertical-align: top;\n",
       "    }\n",
       "\n",
       "    .dataframe thead th {\n",
       "        text-align: right;\n",
       "    }\n",
       "</style>\n",
       "<table border=\"1\" class=\"dataframe\">\n",
       "  <thead>\n",
       "    <tr style=\"text-align: right;\">\n",
       "      <th></th>\n",
       "      <th>CreditScore</th>\n",
       "      <th>Age</th>\n",
       "      <th>Tenure</th>\n",
       "      <th>Balance</th>\n",
       "      <th>NumOfProducts</th>\n",
       "      <th>HasCrCard</th>\n",
       "      <th>IsActiveMember</th>\n",
       "      <th>EstimatedSalary</th>\n",
       "      <th>Geography_Germany</th>\n",
       "      <th>Geography_Spain</th>\n",
       "      <th>Gender_Male</th>\n",
       "      <th>Exited</th>\n",
       "    </tr>\n",
       "  </thead>\n",
       "  <tbody>\n",
       "    <tr>\n",
       "      <th>3177</th>\n",
       "      <td>-1.256870</td>\n",
       "      <td>-1.143799</td>\n",
       "      <td>0.723985</td>\n",
       "      <td>1.595814</td>\n",
       "      <td>0.820981</td>\n",
       "      <td>-1.525709</td>\n",
       "      <td>0.969466</td>\n",
       "      <td>0.679231</td>\n",
       "      <td>-0.575041</td>\n",
       "      <td>-0.575811</td>\n",
       "      <td>-1.102198</td>\n",
       "      <td>0</td>\n",
       "    </tr>\n",
       "    <tr>\n",
       "      <th>3752</th>\n",
       "      <td>0.691055</td>\n",
       "      <td>-0.285890</td>\n",
       "      <td>-1.092943</td>\n",
       "      <td>1.409383</td>\n",
       "      <td>-0.914708</td>\n",
       "      <td>-1.525709</td>\n",
       "      <td>0.969466</td>\n",
       "      <td>-0.314038</td>\n",
       "      <td>-0.575041</td>\n",
       "      <td>1.736682</td>\n",
       "      <td>-1.102198</td>\n",
       "      <td>0</td>\n",
       "    </tr>\n",
       "    <tr>\n",
       "      <th>9211</th>\n",
       "      <td>-1.988630</td>\n",
       "      <td>-0.095244</td>\n",
       "      <td>0.360600</td>\n",
       "      <td>-1.219673</td>\n",
       "      <td>0.820981</td>\n",
       "      <td>0.655433</td>\n",
       "      <td>-1.031496</td>\n",
       "      <td>1.265644</td>\n",
       "      <td>-0.575041</td>\n",
       "      <td>1.736682</td>\n",
       "      <td>-1.102198</td>\n",
       "      <td>0</td>\n",
       "    </tr>\n",
       "    <tr>\n",
       "      <th>3983</th>\n",
       "      <td>-0.246835</td>\n",
       "      <td>0.476696</td>\n",
       "      <td>-1.092943</td>\n",
       "      <td>-1.219673</td>\n",
       "      <td>-0.914708</td>\n",
       "      <td>-1.525709</td>\n",
       "      <td>0.969466</td>\n",
       "      <td>1.263873</td>\n",
       "      <td>-0.575041</td>\n",
       "      <td>-0.575811</td>\n",
       "      <td>-1.102198</td>\n",
       "      <td>1</td>\n",
       "    </tr>\n",
       "    <tr>\n",
       "      <th>688</th>\n",
       "      <td>-0.257141</td>\n",
       "      <td>1.143958</td>\n",
       "      <td>0.723985</td>\n",
       "      <td>0.957840</td>\n",
       "      <td>-0.914708</td>\n",
       "      <td>0.655433</td>\n",
       "      <td>-1.031496</td>\n",
       "      <td>-1.069604</td>\n",
       "      <td>-0.575041</td>\n",
       "      <td>-0.575811</td>\n",
       "      <td>-1.102198</td>\n",
       "      <td>1</td>\n",
       "    </tr>\n",
       "  </tbody>\n",
       "</table>\n",
       "</div>"
      ],
      "text/plain": [
       "      CreditScore       Age    Tenure   Balance  NumOfProducts  HasCrCard  \\\n",
       "3177    -1.256870 -1.143799  0.723985  1.595814       0.820981  -1.525709   \n",
       "3752     0.691055 -0.285890 -1.092943  1.409383      -0.914708  -1.525709   \n",
       "9211    -1.988630 -0.095244  0.360600 -1.219673       0.820981   0.655433   \n",
       "3983    -0.246835  0.476696 -1.092943 -1.219673      -0.914708  -1.525709   \n",
       "688     -0.257141  1.143958  0.723985  0.957840      -0.914708   0.655433   \n",
       "\n",
       "      IsActiveMember  EstimatedSalary  Geography_Germany  Geography_Spain  \\\n",
       "3177        0.969466         0.679231          -0.575041        -0.575811   \n",
       "3752        0.969466        -0.314038          -0.575041         1.736682   \n",
       "9211       -1.031496         1.265644          -0.575041         1.736682   \n",
       "3983        0.969466         1.263873          -0.575041        -0.575811   \n",
       "688        -1.031496        -1.069604          -0.575041        -0.575811   \n",
       "\n",
       "      Gender_Male  Exited  \n",
       "3177    -1.102198       0  \n",
       "3752    -1.102198       0  \n",
       "9211    -1.102198       0  \n",
       "3983    -1.102198       1  \n",
       "688     -1.102198       1  "
      ]
     },
     "execution_count": 88,
     "metadata": {},
     "output_type": "execute_result"
    }
   ],
   "source": [
    "temp = feature_train.merge(target_train, left_index=True, right_index=True)\n",
    "\n",
    "temp_class_1 = temp[temp['Exited'] == 1]\n",
    "temp_class_0 = temp[temp['Exited'] == 0]\n",
    "\n",
    "undersampling_balanced_data = pd.concat([temp_class_1, temp_class_0.sample(len(temp_class_1), random_state=12345)])\n",
    "undersampling_balanced_data['Exited'].value_counts()\n",
    "undersampling_balanced_data = shuffle(undersampling_balanced_data)\n",
    "\n",
    "undersampling_balanced_data.head()"
   ]
  },
  {
   "cell_type": "code",
   "execution_count": 89,
   "metadata": {},
   "outputs": [
    {
     "data": {
      "text/html": [
       "<div>\n",
       "<style scoped>\n",
       "    .dataframe tbody tr th:only-of-type {\n",
       "        vertical-align: middle;\n",
       "    }\n",
       "\n",
       "    .dataframe tbody tr th {\n",
       "        vertical-align: top;\n",
       "    }\n",
       "\n",
       "    .dataframe thead th {\n",
       "        text-align: right;\n",
       "    }\n",
       "</style>\n",
       "<table border=\"1\" class=\"dataframe\">\n",
       "  <thead>\n",
       "    <tr style=\"text-align: right;\">\n",
       "      <th></th>\n",
       "      <th>CreditScore</th>\n",
       "      <th>Age</th>\n",
       "      <th>Tenure</th>\n",
       "      <th>Balance</th>\n",
       "      <th>NumOfProducts</th>\n",
       "      <th>HasCrCard</th>\n",
       "      <th>IsActiveMember</th>\n",
       "      <th>EstimatedSalary</th>\n",
       "      <th>Geography_Germany</th>\n",
       "      <th>Geography_Spain</th>\n",
       "      <th>Gender_Male</th>\n",
       "      <th>Exited</th>\n",
       "    </tr>\n",
       "  </thead>\n",
       "  <tbody>\n",
       "    <tr>\n",
       "      <th>count</th>\n",
       "      <td>2444.000000</td>\n",
       "      <td>2444.000000</td>\n",
       "      <td>2444.000000</td>\n",
       "      <td>2444.000000</td>\n",
       "      <td>2444.000000</td>\n",
       "      <td>2444.000000</td>\n",
       "      <td>2444.000000</td>\n",
       "      <td>2444.000000</td>\n",
       "      <td>2444.000000</td>\n",
       "      <td>2444.000000</td>\n",
       "      <td>2444.000000</td>\n",
       "      <td>2444.000000</td>\n",
       "    </tr>\n",
       "    <tr>\n",
       "      <th>mean</th>\n",
       "      <td>-0.027304</td>\n",
       "      <td>0.206990</td>\n",
       "      <td>-0.002786</td>\n",
       "      <td>0.099740</td>\n",
       "      <td>-0.038341</td>\n",
       "      <td>-0.013903</td>\n",
       "      <td>-0.126806</td>\n",
       "      <td>0.008844</td>\n",
       "      <td>0.118984</td>\n",
       "      <td>-0.028912</td>\n",
       "      <td>-0.062927</td>\n",
       "      <td>0.500000</td>\n",
       "    </tr>\n",
       "    <tr>\n",
       "      <th>std</th>\n",
       "      <td>1.006479</td>\n",
       "      <td>1.012648</td>\n",
       "      <td>1.000954</td>\n",
       "      <td>0.980729</td>\n",
       "      <td>1.145969</td>\n",
       "      <td>1.006141</td>\n",
       "      <td>0.996088</td>\n",
       "      <td>0.989907</td>\n",
       "      <td>1.060564</td>\n",
       "      <td>0.982851</td>\n",
       "      <td>1.004350</td>\n",
       "      <td>0.500102</td>\n",
       "    </tr>\n",
       "    <tr>\n",
       "      <th>min</th>\n",
       "      <td>-3.091423</td>\n",
       "      <td>-2.001708</td>\n",
       "      <td>-1.819714</td>\n",
       "      <td>-1.219673</td>\n",
       "      <td>-0.914708</td>\n",
       "      <td>-1.525709</td>\n",
       "      <td>-1.031496</td>\n",
       "      <td>-1.743588</td>\n",
       "      <td>-0.575041</td>\n",
       "      <td>-0.575811</td>\n",
       "      <td>-1.102198</td>\n",
       "      <td>0.000000</td>\n",
       "    </tr>\n",
       "    <tr>\n",
       "      <th>25%</th>\n",
       "      <td>-0.741546</td>\n",
       "      <td>-0.571860</td>\n",
       "      <td>-0.729557</td>\n",
       "      <td>-1.219673</td>\n",
       "      <td>-0.914708</td>\n",
       "      <td>-1.525709</td>\n",
       "      <td>-1.031496</td>\n",
       "      <td>-0.849387</td>\n",
       "      <td>-0.575041</td>\n",
       "      <td>-0.575811</td>\n",
       "      <td>-1.102198</td>\n",
       "      <td>0.000000</td>\n",
       "    </tr>\n",
       "    <tr>\n",
       "      <th>50%</th>\n",
       "      <td>-0.020092</td>\n",
       "      <td>0.095403</td>\n",
       "      <td>-0.002786</td>\n",
       "      <td>0.442562</td>\n",
       "      <td>-0.914708</td>\n",
       "      <td>0.655433</td>\n",
       "      <td>-1.031496</td>\n",
       "      <td>0.032608</td>\n",
       "      <td>-0.575041</td>\n",
       "      <td>-0.575811</td>\n",
       "      <td>0.907278</td>\n",
       "      <td>0.500000</td>\n",
       "    </tr>\n",
       "    <tr>\n",
       "      <th>75%</th>\n",
       "      <td>0.691055</td>\n",
       "      <td>0.857988</td>\n",
       "      <td>0.723985</td>\n",
       "      <td>0.855598</td>\n",
       "      <td>0.820981</td>\n",
       "      <td>0.655433</td>\n",
       "      <td>0.969466</td>\n",
       "      <td>0.859688</td>\n",
       "      <td>1.739007</td>\n",
       "      <td>-0.575811</td>\n",
       "      <td>0.907278</td>\n",
       "      <td>1.000000</td>\n",
       "    </tr>\n",
       "    <tr>\n",
       "      <th>max</th>\n",
       "      <td>2.061816</td>\n",
       "      <td>4.003655</td>\n",
       "      <td>1.814142</td>\n",
       "      <td>2.588919</td>\n",
       "      <td>4.292357</td>\n",
       "      <td>0.655433</td>\n",
       "      <td>0.969466</td>\n",
       "      <td>1.727804</td>\n",
       "      <td>1.739007</td>\n",
       "      <td>1.736682</td>\n",
       "      <td>0.907278</td>\n",
       "      <td>1.000000</td>\n",
       "    </tr>\n",
       "  </tbody>\n",
       "</table>\n",
       "</div>"
      ],
      "text/plain": [
       "       CreditScore          Age       Tenure      Balance  NumOfProducts  \\\n",
       "count  2444.000000  2444.000000  2444.000000  2444.000000    2444.000000   \n",
       "mean     -0.027304     0.206990    -0.002786     0.099740      -0.038341   \n",
       "std       1.006479     1.012648     1.000954     0.980729       1.145969   \n",
       "min      -3.091423    -2.001708    -1.819714    -1.219673      -0.914708   \n",
       "25%      -0.741546    -0.571860    -0.729557    -1.219673      -0.914708   \n",
       "50%      -0.020092     0.095403    -0.002786     0.442562      -0.914708   \n",
       "75%       0.691055     0.857988     0.723985     0.855598       0.820981   \n",
       "max       2.061816     4.003655     1.814142     2.588919       4.292357   \n",
       "\n",
       "         HasCrCard  IsActiveMember  EstimatedSalary  Geography_Germany  \\\n",
       "count  2444.000000     2444.000000      2444.000000        2444.000000   \n",
       "mean     -0.013903       -0.126806         0.008844           0.118984   \n",
       "std       1.006141        0.996088         0.989907           1.060564   \n",
       "min      -1.525709       -1.031496        -1.743588          -0.575041   \n",
       "25%      -1.525709       -1.031496        -0.849387          -0.575041   \n",
       "50%       0.655433       -1.031496         0.032608          -0.575041   \n",
       "75%       0.655433        0.969466         0.859688           1.739007   \n",
       "max       0.655433        0.969466         1.727804           1.739007   \n",
       "\n",
       "       Geography_Spain  Gender_Male       Exited  \n",
       "count      2444.000000  2444.000000  2444.000000  \n",
       "mean         -0.028912    -0.062927     0.500000  \n",
       "std           0.982851     1.004350     0.500102  \n",
       "min          -0.575811    -1.102198     0.000000  \n",
       "25%          -0.575811    -1.102198     0.000000  \n",
       "50%          -0.575811     0.907278     0.500000  \n",
       "75%          -0.575811     0.907278     1.000000  \n",
       "max           1.736682     0.907278     1.000000  "
      ]
     },
     "execution_count": 89,
     "metadata": {},
     "output_type": "execute_result"
    }
   ],
   "source": [
    "undersampling_balanced_data.describe()"
   ]
  },
  {
   "cell_type": "code",
   "execution_count": 90,
   "metadata": {},
   "outputs": [],
   "source": [
    "ftemp = undersampling_balanced_data[feature_columns]\n",
    "ttemp = undersampling_balanced_data[target_columns]"
   ]
  },
  {
   "cell_type": "code",
   "execution_count": 91,
   "metadata": {
    "colab": {
     "base_uri": "https://localhost:8080/",
     "height": 310
    },
    "id": "5MBLyIWqj627",
    "outputId": "32a2aae4-f02e-4555-957f-bbf2d3c8a046"
   },
   "outputs": [
    {
     "name": "stdout",
     "output_type": "stream",
     "text": [
      "Max depth: 6\n",
      "Criterion: gini\n",
      "Min samples leaf: 1\n",
      "F1 score on valid dataset: 0.5973534971644612\n",
      "ROC AUC score on valid dataset: 0.8108896196669623\n"
     ]
    },
    {
     "data": {
      "text/html": [
       "<div>\n",
       "<style scoped>\n",
       "    .dataframe tbody tr th:only-of-type {\n",
       "        vertical-align: middle;\n",
       "    }\n",
       "\n",
       "    .dataframe tbody tr th {\n",
       "        vertical-align: top;\n",
       "    }\n",
       "\n",
       "    .dataframe thead th {\n",
       "        text-align: right;\n",
       "    }\n",
       "</style>\n",
       "<table border=\"1\" class=\"dataframe\">\n",
       "  <thead>\n",
       "    <tr style=\"text-align: right;\">\n",
       "      <th></th>\n",
       "      <th>f1valid</th>\n",
       "      <th>rocauc</th>\n",
       "      <th>type</th>\n",
       "      <th>imbalance_fixer</th>\n",
       "    </tr>\n",
       "  </thead>\n",
       "  <tbody>\n",
       "    <tr>\n",
       "      <th>1</th>\n",
       "      <td>0.600297</td>\n",
       "      <td>0.815157</td>\n",
       "      <td>DecisionTree</td>\n",
       "      <td>No</td>\n",
       "    </tr>\n",
       "    <tr>\n",
       "      <th>1</th>\n",
       "      <td>0.622807</td>\n",
       "      <td>0.866151</td>\n",
       "      <td>RandomForest</td>\n",
       "      <td>No</td>\n",
       "    </tr>\n",
       "    <tr>\n",
       "      <th>1</th>\n",
       "      <td>0.310786</td>\n",
       "      <td>0.787442</td>\n",
       "      <td>Logistic</td>\n",
       "      <td>No</td>\n",
       "    </tr>\n",
       "    <tr>\n",
       "      <th>1</th>\n",
       "      <td>0.483221</td>\n",
       "      <td>NaN</td>\n",
       "      <td>SGD</td>\n",
       "      <td>No</td>\n",
       "    </tr>\n",
       "    <tr>\n",
       "      <th>1</th>\n",
       "      <td>0.617476</td>\n",
       "      <td>0.848472</td>\n",
       "      <td>DecisionTree</td>\n",
       "      <td>Oversampling</td>\n",
       "    </tr>\n",
       "  </tbody>\n",
       "</table>\n",
       "</div>"
      ],
      "text/plain": [
       "    f1valid    rocauc          type imbalance_fixer\n",
       "1  0.600297  0.815157  DecisionTree              No\n",
       "1  0.622807  0.866151  RandomForest              No\n",
       "1  0.310786  0.787442      Logistic              No\n",
       "1  0.483221       NaN           SGD              No\n",
       "1  0.617476  0.848472  DecisionTree    Oversampling"
      ]
     },
     "execution_count": 91,
     "metadata": {},
     "output_type": "execute_result"
    }
   ],
   "source": [
    "tempo = decision_tree_classifier(ftemp, ttemp, feature_valid, target_valid)\n",
    "tempo['imbalance_fixer'] = 'Undersampling'\n",
    "statsdf = pd.concat([statsdf, tempo])\n",
    "statsdf.head()"
   ]
  },
  {
   "cell_type": "code",
   "execution_count": 92,
   "metadata": {
    "colab": {
     "base_uri": "https://localhost:8080/",
     "height": 310
    },
    "id": "vJX6fTIej7_4",
    "outputId": "d225bf6f-5f2f-435b-a68e-b5ba418777c2"
   },
   "outputs": [
    {
     "name": "stdout",
     "output_type": "stream",
     "text": [
      "Max depth: 9\n",
      "Criterion: gini\n",
      "N_Estimators: 150\n",
      "F1 score on valid dataset: 0.6296296296296297\n",
      "ROC AUC score on valid dataset: 0.8616650963149078\n"
     ]
    },
    {
     "data": {
      "text/html": [
       "<div>\n",
       "<style scoped>\n",
       "    .dataframe tbody tr th:only-of-type {\n",
       "        vertical-align: middle;\n",
       "    }\n",
       "\n",
       "    .dataframe tbody tr th {\n",
       "        vertical-align: top;\n",
       "    }\n",
       "\n",
       "    .dataframe thead th {\n",
       "        text-align: right;\n",
       "    }\n",
       "</style>\n",
       "<table border=\"1\" class=\"dataframe\">\n",
       "  <thead>\n",
       "    <tr style=\"text-align: right;\">\n",
       "      <th></th>\n",
       "      <th>f1valid</th>\n",
       "      <th>rocauc</th>\n",
       "      <th>type</th>\n",
       "      <th>imbalance_fixer</th>\n",
       "    </tr>\n",
       "  </thead>\n",
       "  <tbody>\n",
       "    <tr>\n",
       "      <th>1</th>\n",
       "      <td>0.600297</td>\n",
       "      <td>0.815157</td>\n",
       "      <td>DecisionTree</td>\n",
       "      <td>No</td>\n",
       "    </tr>\n",
       "    <tr>\n",
       "      <th>1</th>\n",
       "      <td>0.622807</td>\n",
       "      <td>0.866151</td>\n",
       "      <td>RandomForest</td>\n",
       "      <td>No</td>\n",
       "    </tr>\n",
       "    <tr>\n",
       "      <th>1</th>\n",
       "      <td>0.310786</td>\n",
       "      <td>0.787442</td>\n",
       "      <td>Logistic</td>\n",
       "      <td>No</td>\n",
       "    </tr>\n",
       "    <tr>\n",
       "      <th>1</th>\n",
       "      <td>0.483221</td>\n",
       "      <td>NaN</td>\n",
       "      <td>SGD</td>\n",
       "      <td>No</td>\n",
       "    </tr>\n",
       "    <tr>\n",
       "      <th>1</th>\n",
       "      <td>0.617476</td>\n",
       "      <td>0.848472</td>\n",
       "      <td>DecisionTree</td>\n",
       "      <td>Oversampling</td>\n",
       "    </tr>\n",
       "  </tbody>\n",
       "</table>\n",
       "</div>"
      ],
      "text/plain": [
       "    f1valid    rocauc          type imbalance_fixer\n",
       "1  0.600297  0.815157  DecisionTree              No\n",
       "1  0.622807  0.866151  RandomForest              No\n",
       "1  0.310786  0.787442      Logistic              No\n",
       "1  0.483221       NaN           SGD              No\n",
       "1  0.617476  0.848472  DecisionTree    Oversampling"
      ]
     },
     "execution_count": 92,
     "metadata": {},
     "output_type": "execute_result"
    }
   ],
   "source": [
    "tempo = random_forest(ftemp, ttemp, feature_valid, target_valid)\n",
    "tempo['imbalance_fixer'] = 'Undersampling'\n",
    "statsdf = pd.concat([statsdf, tempo])\n",
    "statsdf.head()"
   ]
  },
  {
   "cell_type": "code",
   "execution_count": 93,
   "metadata": {
    "colab": {
     "base_uri": "https://localhost:8080/",
     "height": 293
    },
    "id": "rzWG0vCSj_T9",
    "outputId": "be8df256-99a0-4a61-86bd-9c5fbdd8fa08"
   },
   "outputs": [
    {
     "name": "stdout",
     "output_type": "stream",
     "text": [
      "Max Iter: 100\n",
      "Solver: liblinear\n",
      "F1 score on valid dataset: 0.5269565217391304\n",
      "ROC AUC score on valid dataset: 0.7924287491378461\n"
     ]
    },
    {
     "data": {
      "text/html": [
       "<div>\n",
       "<style scoped>\n",
       "    .dataframe tbody tr th:only-of-type {\n",
       "        vertical-align: middle;\n",
       "    }\n",
       "\n",
       "    .dataframe tbody tr th {\n",
       "        vertical-align: top;\n",
       "    }\n",
       "\n",
       "    .dataframe thead th {\n",
       "        text-align: right;\n",
       "    }\n",
       "</style>\n",
       "<table border=\"1\" class=\"dataframe\">\n",
       "  <thead>\n",
       "    <tr style=\"text-align: right;\">\n",
       "      <th></th>\n",
       "      <th>f1valid</th>\n",
       "      <th>rocauc</th>\n",
       "      <th>type</th>\n",
       "      <th>imbalance_fixer</th>\n",
       "    </tr>\n",
       "  </thead>\n",
       "  <tbody>\n",
       "    <tr>\n",
       "      <th>1</th>\n",
       "      <td>0.600297</td>\n",
       "      <td>0.815157</td>\n",
       "      <td>DecisionTree</td>\n",
       "      <td>No</td>\n",
       "    </tr>\n",
       "    <tr>\n",
       "      <th>1</th>\n",
       "      <td>0.622807</td>\n",
       "      <td>0.866151</td>\n",
       "      <td>RandomForest</td>\n",
       "      <td>No</td>\n",
       "    </tr>\n",
       "    <tr>\n",
       "      <th>1</th>\n",
       "      <td>0.310786</td>\n",
       "      <td>0.787442</td>\n",
       "      <td>Logistic</td>\n",
       "      <td>No</td>\n",
       "    </tr>\n",
       "    <tr>\n",
       "      <th>1</th>\n",
       "      <td>0.483221</td>\n",
       "      <td>NaN</td>\n",
       "      <td>SGD</td>\n",
       "      <td>No</td>\n",
       "    </tr>\n",
       "    <tr>\n",
       "      <th>1</th>\n",
       "      <td>0.617476</td>\n",
       "      <td>0.848472</td>\n",
       "      <td>DecisionTree</td>\n",
       "      <td>Oversampling</td>\n",
       "    </tr>\n",
       "  </tbody>\n",
       "</table>\n",
       "</div>"
      ],
      "text/plain": [
       "    f1valid    rocauc          type imbalance_fixer\n",
       "1  0.600297  0.815157  DecisionTree              No\n",
       "1  0.622807  0.866151  RandomForest              No\n",
       "1  0.310786  0.787442      Logistic              No\n",
       "1  0.483221       NaN           SGD              No\n",
       "1  0.617476  0.848472  DecisionTree    Oversampling"
      ]
     },
     "execution_count": 93,
     "metadata": {},
     "output_type": "execute_result"
    }
   ],
   "source": [
    "tempo = logistic_regression(ftemp, ttemp, feature_valid, target_valid)\n",
    "tempo['imbalance_fixer'] = 'Undersampling'\n",
    "statsdf = pd.concat([statsdf, tempo])\n",
    "statsdf.head()"
   ]
  },
  {
   "cell_type": "markdown",
   "metadata": {
    "id": "_4j0nLVUlJOT"
   },
   "source": [
    "##### NearMiss(version=1)\n",
    "В данном способе, из мажоритарного класса выбираются объекты, у которых среднее расстояние минимально до N ближайших наблюдений минорного класса."
   ]
  },
  {
   "cell_type": "code",
   "execution_count": 96,
   "metadata": {},
   "outputs": [],
   "source": [
    "nearMiss = NearMiss(version=1)\n",
    "nearMissfeatures, nearMiss_target = nearMiss.fit_resample(feature_train, target_train)\n",
    "nearMissfeatures['Exited'] = nearMiss_target\n",
    "near_miss_data = nearMissfeatures"
   ]
  },
  {
   "cell_type": "code",
   "execution_count": 97,
   "metadata": {
    "colab": {
     "base_uri": "https://localhost:8080/",
     "height": 310
    },
    "id": "Ag5TREG5lpuL",
    "outputId": "e4c8988a-cde9-457e-81c4-ff27c16bb7f1"
   },
   "outputs": [
    {
     "name": "stdout",
     "output_type": "stream",
     "text": [
      "Max depth: 2\n",
      "Criterion: gini\n",
      "Min samples leaf: 1\n",
      "F1 score on valid dataset: 0.5467625899280577\n",
      "ROC AUC score on valid dataset: 0.7164129470883831\n"
     ]
    },
    {
     "data": {
      "text/html": [
       "<div>\n",
       "<style scoped>\n",
       "    .dataframe tbody tr th:only-of-type {\n",
       "        vertical-align: middle;\n",
       "    }\n",
       "\n",
       "    .dataframe tbody tr th {\n",
       "        vertical-align: top;\n",
       "    }\n",
       "\n",
       "    .dataframe thead th {\n",
       "        text-align: right;\n",
       "    }\n",
       "</style>\n",
       "<table border=\"1\" class=\"dataframe\">\n",
       "  <thead>\n",
       "    <tr style=\"text-align: right;\">\n",
       "      <th></th>\n",
       "      <th>f1valid</th>\n",
       "      <th>rocauc</th>\n",
       "      <th>type</th>\n",
       "      <th>imbalance_fixer</th>\n",
       "    </tr>\n",
       "  </thead>\n",
       "  <tbody>\n",
       "    <tr>\n",
       "      <th>1</th>\n",
       "      <td>0.600297</td>\n",
       "      <td>0.815157</td>\n",
       "      <td>DecisionTree</td>\n",
       "      <td>No</td>\n",
       "    </tr>\n",
       "    <tr>\n",
       "      <th>1</th>\n",
       "      <td>0.622807</td>\n",
       "      <td>0.866151</td>\n",
       "      <td>RandomForest</td>\n",
       "      <td>No</td>\n",
       "    </tr>\n",
       "    <tr>\n",
       "      <th>1</th>\n",
       "      <td>0.310786</td>\n",
       "      <td>0.787442</td>\n",
       "      <td>Logistic</td>\n",
       "      <td>No</td>\n",
       "    </tr>\n",
       "    <tr>\n",
       "      <th>1</th>\n",
       "      <td>0.483221</td>\n",
       "      <td>NaN</td>\n",
       "      <td>SGD</td>\n",
       "      <td>No</td>\n",
       "    </tr>\n",
       "    <tr>\n",
       "      <th>1</th>\n",
       "      <td>0.617476</td>\n",
       "      <td>0.848472</td>\n",
       "      <td>DecisionTree</td>\n",
       "      <td>Oversampling</td>\n",
       "    </tr>\n",
       "  </tbody>\n",
       "</table>\n",
       "</div>"
      ],
      "text/plain": [
       "    f1valid    rocauc          type imbalance_fixer\n",
       "1  0.600297  0.815157  DecisionTree              No\n",
       "1  0.622807  0.866151  RandomForest              No\n",
       "1  0.310786  0.787442      Logistic              No\n",
       "1  0.483221       NaN           SGD              No\n",
       "1  0.617476  0.848472  DecisionTree    Oversampling"
      ]
     },
     "execution_count": 97,
     "metadata": {},
     "output_type": "execute_result"
    }
   ],
   "source": [
    "tempo = decision_tree_classifier(near_miss_data[feature_columns], near_miss_data[target_columns], feature_valid, target_valid)\n",
    "tempo['imbalance_fixer'] = 'NearMiss'\n",
    "statsdf = pd.concat([statsdf, tempo])\n",
    "statsdf.head()"
   ]
  },
  {
   "cell_type": "code",
   "execution_count": 98,
   "metadata": {
    "colab": {
     "base_uri": "https://localhost:8080/",
     "height": 310
    },
    "id": "kJtRILFHlIzX",
    "outputId": "2ca43d58-a563-49c0-e9f4-a26543a5d9b5"
   },
   "outputs": [
    {
     "name": "stdout",
     "output_type": "stream",
     "text": [
      "Max depth: 3\n",
      "Criterion: entropy\n",
      "N_Estimators: 150\n",
      "F1 score on valid dataset: 0.5044404973357016\n",
      "ROC AUC score on valid dataset: 0.7662115725687261\n"
     ]
    },
    {
     "data": {
      "text/html": [
       "<div>\n",
       "<style scoped>\n",
       "    .dataframe tbody tr th:only-of-type {\n",
       "        vertical-align: middle;\n",
       "    }\n",
       "\n",
       "    .dataframe tbody tr th {\n",
       "        vertical-align: top;\n",
       "    }\n",
       "\n",
       "    .dataframe thead th {\n",
       "        text-align: right;\n",
       "    }\n",
       "</style>\n",
       "<table border=\"1\" class=\"dataframe\">\n",
       "  <thead>\n",
       "    <tr style=\"text-align: right;\">\n",
       "      <th></th>\n",
       "      <th>f1valid</th>\n",
       "      <th>rocauc</th>\n",
       "      <th>type</th>\n",
       "      <th>imbalance_fixer</th>\n",
       "    </tr>\n",
       "  </thead>\n",
       "  <tbody>\n",
       "    <tr>\n",
       "      <th>1</th>\n",
       "      <td>0.600297</td>\n",
       "      <td>0.815157</td>\n",
       "      <td>DecisionTree</td>\n",
       "      <td>No</td>\n",
       "    </tr>\n",
       "    <tr>\n",
       "      <th>1</th>\n",
       "      <td>0.622807</td>\n",
       "      <td>0.866151</td>\n",
       "      <td>RandomForest</td>\n",
       "      <td>No</td>\n",
       "    </tr>\n",
       "    <tr>\n",
       "      <th>1</th>\n",
       "      <td>0.310786</td>\n",
       "      <td>0.787442</td>\n",
       "      <td>Logistic</td>\n",
       "      <td>No</td>\n",
       "    </tr>\n",
       "    <tr>\n",
       "      <th>1</th>\n",
       "      <td>0.483221</td>\n",
       "      <td>NaN</td>\n",
       "      <td>SGD</td>\n",
       "      <td>No</td>\n",
       "    </tr>\n",
       "    <tr>\n",
       "      <th>1</th>\n",
       "      <td>0.617476</td>\n",
       "      <td>0.848472</td>\n",
       "      <td>DecisionTree</td>\n",
       "      <td>Oversampling</td>\n",
       "    </tr>\n",
       "  </tbody>\n",
       "</table>\n",
       "</div>"
      ],
      "text/plain": [
       "    f1valid    rocauc          type imbalance_fixer\n",
       "1  0.600297  0.815157  DecisionTree              No\n",
       "1  0.622807  0.866151  RandomForest              No\n",
       "1  0.310786  0.787442      Logistic              No\n",
       "1  0.483221       NaN           SGD              No\n",
       "1  0.617476  0.848472  DecisionTree    Oversampling"
      ]
     },
     "execution_count": 98,
     "metadata": {},
     "output_type": "execute_result"
    }
   ],
   "source": [
    "tempo = random_forest(near_miss_data[feature_columns], near_miss_data[target_columns], feature_valid, target_valid)\n",
    "tempo['imbalance_fixer'] = 'NearMiss'\n",
    "statsdf = pd.concat([statsdf, tempo])\n",
    "statsdf.head()"
   ]
  },
  {
   "cell_type": "code",
   "execution_count": 99,
   "metadata": {
    "colab": {
     "base_uri": "https://localhost:8080/",
     "height": 293
    },
    "id": "--SglAffmc-n",
    "outputId": "6365f0ca-a9ac-49a2-ca6d-0f0b0ad822f0"
   },
   "outputs": [
    {
     "name": "stdout",
     "output_type": "stream",
     "text": [
      "Max Iter: 100\n",
      "Solver: liblinear\n",
      "F1 score on valid dataset: 0.45026985350809556\n",
      "ROC AUC score on valid dataset: 0.724235454231944\n"
     ]
    },
    {
     "data": {
      "text/html": [
       "<div>\n",
       "<style scoped>\n",
       "    .dataframe tbody tr th:only-of-type {\n",
       "        vertical-align: middle;\n",
       "    }\n",
       "\n",
       "    .dataframe tbody tr th {\n",
       "        vertical-align: top;\n",
       "    }\n",
       "\n",
       "    .dataframe thead th {\n",
       "        text-align: right;\n",
       "    }\n",
       "</style>\n",
       "<table border=\"1\" class=\"dataframe\">\n",
       "  <thead>\n",
       "    <tr style=\"text-align: right;\">\n",
       "      <th></th>\n",
       "      <th>f1valid</th>\n",
       "      <th>rocauc</th>\n",
       "      <th>type</th>\n",
       "      <th>imbalance_fixer</th>\n",
       "    </tr>\n",
       "  </thead>\n",
       "  <tbody>\n",
       "    <tr>\n",
       "      <th>1</th>\n",
       "      <td>0.600297</td>\n",
       "      <td>0.815157</td>\n",
       "      <td>DecisionTree</td>\n",
       "      <td>No</td>\n",
       "    </tr>\n",
       "    <tr>\n",
       "      <th>1</th>\n",
       "      <td>0.622807</td>\n",
       "      <td>0.866151</td>\n",
       "      <td>RandomForest</td>\n",
       "      <td>No</td>\n",
       "    </tr>\n",
       "    <tr>\n",
       "      <th>1</th>\n",
       "      <td>0.310786</td>\n",
       "      <td>0.787442</td>\n",
       "      <td>Logistic</td>\n",
       "      <td>No</td>\n",
       "    </tr>\n",
       "    <tr>\n",
       "      <th>1</th>\n",
       "      <td>0.483221</td>\n",
       "      <td>NaN</td>\n",
       "      <td>SGD</td>\n",
       "      <td>No</td>\n",
       "    </tr>\n",
       "    <tr>\n",
       "      <th>1</th>\n",
       "      <td>0.617476</td>\n",
       "      <td>0.848472</td>\n",
       "      <td>DecisionTree</td>\n",
       "      <td>Oversampling</td>\n",
       "    </tr>\n",
       "  </tbody>\n",
       "</table>\n",
       "</div>"
      ],
      "text/plain": [
       "    f1valid    rocauc          type imbalance_fixer\n",
       "1  0.600297  0.815157  DecisionTree              No\n",
       "1  0.622807  0.866151  RandomForest              No\n",
       "1  0.310786  0.787442      Logistic              No\n",
       "1  0.483221       NaN           SGD              No\n",
       "1  0.617476  0.848472  DecisionTree    Oversampling"
      ]
     },
     "execution_count": 99,
     "metadata": {},
     "output_type": "execute_result"
    }
   ],
   "source": [
    "tempo = logistic_regression(near_miss_data[feature_columns], near_miss_data[target_columns], feature_valid, target_valid)\n",
    "tempo['imbalance_fixer'] = 'NearMiss'\n",
    "statsdf = pd.concat([statsdf, tempo])\n",
    "statsdf.head()"
   ]
  },
  {
   "cell_type": "markdown",
   "metadata": {
    "id": "_OG-dysInUcF"
   },
   "source": [
    "##### ADASYN"
   ]
  },
  {
   "cell_type": "code",
   "execution_count": 102,
   "metadata": {},
   "outputs": [
    {
     "data": {
      "text/plain": [
       "1    4934\n",
       "0    4778\n",
       "Name: Exited, dtype: int64"
      ]
     },
     "execution_count": 102,
     "metadata": {},
     "output_type": "execute_result"
    }
   ],
   "source": [
    "adasynsampling = ADASYN()\n",
    "adasynfeatures, adasyn_target = adasynsampling.fit_resample(feature_train, target_train)\n",
    "\n",
    "adasynfeatures['Exited'] = adasyn_target\n",
    "adasyn_data = adasynfeatures\n",
    "adasyn_data['Exited'].value_counts()"
   ]
  },
  {
   "cell_type": "code",
   "execution_count": 103,
   "metadata": {
    "colab": {
     "base_uri": "https://localhost:8080/",
     "height": 310
    },
    "id": "t89Zi2ZUn27K",
    "outputId": "d78ad672-bcb9-43c9-d78a-7b2ce8363ca7"
   },
   "outputs": [
    {
     "name": "stdout",
     "output_type": "stream",
     "text": [
      "Max depth: 8\n",
      "Criterion: entropy\n",
      "Min samples leaf: 51\n",
      "F1 score on valid dataset: 0.6195652173913043\n",
      "ROC AUC score on valid dataset: 0.8424051938614643\n"
     ]
    },
    {
     "data": {
      "text/html": [
       "<div>\n",
       "<style scoped>\n",
       "    .dataframe tbody tr th:only-of-type {\n",
       "        vertical-align: middle;\n",
       "    }\n",
       "\n",
       "    .dataframe tbody tr th {\n",
       "        vertical-align: top;\n",
       "    }\n",
       "\n",
       "    .dataframe thead th {\n",
       "        text-align: right;\n",
       "    }\n",
       "</style>\n",
       "<table border=\"1\" class=\"dataframe\">\n",
       "  <thead>\n",
       "    <tr style=\"text-align: right;\">\n",
       "      <th></th>\n",
       "      <th>f1valid</th>\n",
       "      <th>rocauc</th>\n",
       "      <th>type</th>\n",
       "      <th>imbalance_fixer</th>\n",
       "    </tr>\n",
       "  </thead>\n",
       "  <tbody>\n",
       "    <tr>\n",
       "      <th>1</th>\n",
       "      <td>0.600297</td>\n",
       "      <td>0.815157</td>\n",
       "      <td>DecisionTree</td>\n",
       "      <td>No</td>\n",
       "    </tr>\n",
       "    <tr>\n",
       "      <th>1</th>\n",
       "      <td>0.622807</td>\n",
       "      <td>0.866151</td>\n",
       "      <td>RandomForest</td>\n",
       "      <td>No</td>\n",
       "    </tr>\n",
       "    <tr>\n",
       "      <th>1</th>\n",
       "      <td>0.310786</td>\n",
       "      <td>0.787442</td>\n",
       "      <td>Logistic</td>\n",
       "      <td>No</td>\n",
       "    </tr>\n",
       "    <tr>\n",
       "      <th>1</th>\n",
       "      <td>0.483221</td>\n",
       "      <td>NaN</td>\n",
       "      <td>SGD</td>\n",
       "      <td>No</td>\n",
       "    </tr>\n",
       "    <tr>\n",
       "      <th>1</th>\n",
       "      <td>0.617476</td>\n",
       "      <td>0.848472</td>\n",
       "      <td>DecisionTree</td>\n",
       "      <td>Oversampling</td>\n",
       "    </tr>\n",
       "  </tbody>\n",
       "</table>\n",
       "</div>"
      ],
      "text/plain": [
       "    f1valid    rocauc          type imbalance_fixer\n",
       "1  0.600297  0.815157  DecisionTree              No\n",
       "1  0.622807  0.866151  RandomForest              No\n",
       "1  0.310786  0.787442      Logistic              No\n",
       "1  0.483221       NaN           SGD              No\n",
       "1  0.617476  0.848472  DecisionTree    Oversampling"
      ]
     },
     "execution_count": 103,
     "metadata": {},
     "output_type": "execute_result"
    }
   ],
   "source": [
    "tempo = decision_tree_classifier(adasyn_data[feature_columns], adasyn_data[target_columns], feature_valid, target_valid)\n",
    "tempo['imbalance_fixer'] = 'Adasyn'\n",
    "statsdf = pd.concat([statsdf, tempo])\n",
    "statsdf.head()"
   ]
  },
  {
   "cell_type": "code",
   "execution_count": 104,
   "metadata": {
    "colab": {
     "base_uri": "https://localhost:8080/",
     "height": 310
    },
    "id": "Ld8Jz-bKn4kI",
    "outputId": "73a038d6-fa36-45c5-ad38-aecae2da0981"
   },
   "outputs": [
    {
     "name": "stdout",
     "output_type": "stream",
     "text": [
      "Max depth: 13\n",
      "Criterion: entropy\n",
      "N_Estimators: 100\n",
      "F1 score on valid dataset: 0.6306695464362851\n",
      "ROC AUC score on valid dataset: 0.8622778414129472\n"
     ]
    },
    {
     "data": {
      "text/html": [
       "<div>\n",
       "<style scoped>\n",
       "    .dataframe tbody tr th:only-of-type {\n",
       "        vertical-align: middle;\n",
       "    }\n",
       "\n",
       "    .dataframe tbody tr th {\n",
       "        vertical-align: top;\n",
       "    }\n",
       "\n",
       "    .dataframe thead th {\n",
       "        text-align: right;\n",
       "    }\n",
       "</style>\n",
       "<table border=\"1\" class=\"dataframe\">\n",
       "  <thead>\n",
       "    <tr style=\"text-align: right;\">\n",
       "      <th></th>\n",
       "      <th>f1valid</th>\n",
       "      <th>rocauc</th>\n",
       "      <th>type</th>\n",
       "      <th>imbalance_fixer</th>\n",
       "    </tr>\n",
       "  </thead>\n",
       "  <tbody>\n",
       "    <tr>\n",
       "      <th>1</th>\n",
       "      <td>0.600297</td>\n",
       "      <td>0.815157</td>\n",
       "      <td>DecisionTree</td>\n",
       "      <td>No</td>\n",
       "    </tr>\n",
       "    <tr>\n",
       "      <th>1</th>\n",
       "      <td>0.622807</td>\n",
       "      <td>0.866151</td>\n",
       "      <td>RandomForest</td>\n",
       "      <td>No</td>\n",
       "    </tr>\n",
       "    <tr>\n",
       "      <th>1</th>\n",
       "      <td>0.310786</td>\n",
       "      <td>0.787442</td>\n",
       "      <td>Logistic</td>\n",
       "      <td>No</td>\n",
       "    </tr>\n",
       "    <tr>\n",
       "      <th>1</th>\n",
       "      <td>0.483221</td>\n",
       "      <td>NaN</td>\n",
       "      <td>SGD</td>\n",
       "      <td>No</td>\n",
       "    </tr>\n",
       "    <tr>\n",
       "      <th>1</th>\n",
       "      <td>0.617476</td>\n",
       "      <td>0.848472</td>\n",
       "      <td>DecisionTree</td>\n",
       "      <td>Oversampling</td>\n",
       "    </tr>\n",
       "  </tbody>\n",
       "</table>\n",
       "</div>"
      ],
      "text/plain": [
       "    f1valid    rocauc          type imbalance_fixer\n",
       "1  0.600297  0.815157  DecisionTree              No\n",
       "1  0.622807  0.866151  RandomForest              No\n",
       "1  0.310786  0.787442      Logistic              No\n",
       "1  0.483221       NaN           SGD              No\n",
       "1  0.617476  0.848472  DecisionTree    Oversampling"
      ]
     },
     "execution_count": 104,
     "metadata": {},
     "output_type": "execute_result"
    }
   ],
   "source": [
    "tempo = random_forest(adasyn_data[feature_columns], adasyn_data[target_columns], feature_valid, target_valid)\n",
    "tempo['imbalance_fixer'] = 'Adasyn'\n",
    "statsdf = pd.concat([statsdf, tempo])\n",
    "statsdf.head()"
   ]
  },
  {
   "cell_type": "code",
   "execution_count": 105,
   "metadata": {
    "colab": {
     "base_uri": "https://localhost:8080/",
     "height": 293
    },
    "id": "E-nxwkrDn4YC",
    "outputId": "a8a4a22c-fbc2-4eef-debb-9f36f593361a"
   },
   "outputs": [
    {
     "name": "stdout",
     "output_type": "stream",
     "text": [
      "Max Iter: 100\n",
      "Solver: liblinear\n",
      "F1 score on valid dataset: 0.5086419753086421\n",
      "ROC AUC score on valid dataset: 0.7884505246822346\n"
     ]
    },
    {
     "data": {
      "text/html": [
       "<div>\n",
       "<style scoped>\n",
       "    .dataframe tbody tr th:only-of-type {\n",
       "        vertical-align: middle;\n",
       "    }\n",
       "\n",
       "    .dataframe tbody tr th {\n",
       "        vertical-align: top;\n",
       "    }\n",
       "\n",
       "    .dataframe thead th {\n",
       "        text-align: right;\n",
       "    }\n",
       "</style>\n",
       "<table border=\"1\" class=\"dataframe\">\n",
       "  <thead>\n",
       "    <tr style=\"text-align: right;\">\n",
       "      <th></th>\n",
       "      <th>f1valid</th>\n",
       "      <th>rocauc</th>\n",
       "      <th>type</th>\n",
       "      <th>imbalance_fixer</th>\n",
       "    </tr>\n",
       "  </thead>\n",
       "  <tbody>\n",
       "    <tr>\n",
       "      <th>1</th>\n",
       "      <td>0.600297</td>\n",
       "      <td>0.815157</td>\n",
       "      <td>DecisionTree</td>\n",
       "      <td>No</td>\n",
       "    </tr>\n",
       "    <tr>\n",
       "      <th>1</th>\n",
       "      <td>0.622807</td>\n",
       "      <td>0.866151</td>\n",
       "      <td>RandomForest</td>\n",
       "      <td>No</td>\n",
       "    </tr>\n",
       "    <tr>\n",
       "      <th>1</th>\n",
       "      <td>0.310786</td>\n",
       "      <td>0.787442</td>\n",
       "      <td>Logistic</td>\n",
       "      <td>No</td>\n",
       "    </tr>\n",
       "    <tr>\n",
       "      <th>1</th>\n",
       "      <td>0.483221</td>\n",
       "      <td>NaN</td>\n",
       "      <td>SGD</td>\n",
       "      <td>No</td>\n",
       "    </tr>\n",
       "    <tr>\n",
       "      <th>1</th>\n",
       "      <td>0.617476</td>\n",
       "      <td>0.848472</td>\n",
       "      <td>DecisionTree</td>\n",
       "      <td>Oversampling</td>\n",
       "    </tr>\n",
       "  </tbody>\n",
       "</table>\n",
       "</div>"
      ],
      "text/plain": [
       "    f1valid    rocauc          type imbalance_fixer\n",
       "1  0.600297  0.815157  DecisionTree              No\n",
       "1  0.622807  0.866151  RandomForest              No\n",
       "1  0.310786  0.787442      Logistic              No\n",
       "1  0.483221       NaN           SGD              No\n",
       "1  0.617476  0.848472  DecisionTree    Oversampling"
      ]
     },
     "execution_count": 105,
     "metadata": {},
     "output_type": "execute_result"
    }
   ],
   "source": [
    "tempo = logistic_regression(adasyn_data[feature_columns], adasyn_data[target_columns], feature_valid, target_valid)\n",
    "tempo['imbalance_fixer'] = 'Adasyn'\n",
    "statsdf = pd.concat([statsdf, tempo])\n",
    "statsdf.head()"
   ]
  },
  {
   "cell_type": "markdown",
   "metadata": {
    "id": "Lp61FWPxK41F"
   },
   "source": [
    "## Тестирование модели\n",
    "\n",
    "На предыдущих этапах, были собраны следующие данные:\n",
    "- F1 и ROC AUC scores для 4-х моделей до устранения несбалансированности классов\n",
    "- F1 и ROC AUC scores для 4-х моделей после устранения несбалансированности классов\n",
    "\n",
    "проанализируем результаты."
   ]
  },
  {
   "cell_type": "code",
   "execution_count": 106,
   "metadata": {
    "colab": {
     "base_uri": "https://localhost:8080/",
     "height": 1000
    },
    "id": "VfYZcAAT1t3x",
    "outputId": "964f388e-6c45-47fa-a1e5-6b00d40d0c46"
   },
   "outputs": [
    {
     "name": "stdout",
     "output_type": "stream",
     "text": [
      "['DecisionTree' 'RandomForest' 'Logistic' 'SGD']\n"
     ]
    },
    {
     "data": {
      "text/plain": [
       "<Figure size 432x288 with 0 Axes>"
      ]
     },
     "metadata": {},
     "output_type": "display_data"
    },
    {
     "data": {
      "image/png": "[encoded data removed]",
      "text/plain": [
       "<Figure size 432x288 with 1 Axes>"
      ]
     },
     "metadata": {
      "needs_background": "light"
     },
     "output_type": "display_data"
    },
    {
     "data": {
      "text/plain": [
       "<Figure size 432x288 with 0 Axes>"
      ]
     },
     "metadata": {},
     "output_type": "display_data"
    },
    {
     "data": {
      "image/png": "[encoded data removed]",
      "text/plain": [
       "<Figure size 432x288 with 1 Axes>"
      ]
     },
     "metadata": {
      "needs_background": "light"
     },
     "output_type": "display_data"
    },
    {
     "data": {
      "text/plain": [
       "<Figure size 432x288 with 0 Axes>"
      ]
     },
     "metadata": {},
     "output_type": "display_data"
    },
    {
     "data": {
      "image/png": "[encoded data removed]",
      "text/plain": [
       "<Figure size 432x288 with 1 Axes>"
      ]
     },
     "metadata": {
      "needs_background": "light"
     },
     "output_type": "display_data"
    },
    {
     "data": {
      "text/plain": [
       "<Figure size 432x288 with 0 Axes>"
      ]
     },
     "metadata": {},
     "output_type": "display_data"
    },
    {
     "data": {
      "image/png": "[encoded data removed]",
      "text/plain": [
       "<Figure size 432x288 with 1 Axes>"
      ]
     },
     "metadata": {
      "needs_background": "light"
     },
     "output_type": "display_data"
    }
   ],
   "source": [
    "models = statsdf['type'].unique()\n",
    "print(models)\n",
    "for m in models:\n",
    "  plt.figure(m)\n",
    "  statsdf.query(\"type == @m\").sort_values(\"f1valid\").reset_index().plot()"
   ]
  },
  {
   "cell_type": "code",
   "execution_count": 107,
   "metadata": {
    "colab": {
     "base_uri": "https://localhost:8080/",
     "height": 206
    },
    "id": "qZQ1MX8l_Pgu",
    "outputId": "2ffefbce-f868-4b7d-fe0d-05e36c4dde7a"
   },
   "outputs": [
    {
     "data": {
      "text/html": [
       "<div>\n",
       "<style scoped>\n",
       "    .dataframe tbody tr th:only-of-type {\n",
       "        vertical-align: middle;\n",
       "    }\n",
       "\n",
       "    .dataframe tbody tr th {\n",
       "        vertical-align: top;\n",
       "    }\n",
       "\n",
       "    .dataframe thead th {\n",
       "        text-align: right;\n",
       "    }\n",
       "</style>\n",
       "<table border=\"1\" class=\"dataframe\">\n",
       "  <thead>\n",
       "    <tr style=\"text-align: right;\">\n",
       "      <th></th>\n",
       "      <th>f1valid</th>\n",
       "      <th>rocauc</th>\n",
       "      <th>type</th>\n",
       "      <th>imbalance_fixer</th>\n",
       "    </tr>\n",
       "  </thead>\n",
       "  <tbody>\n",
       "    <tr>\n",
       "      <th>1</th>\n",
       "      <td>0.649007</td>\n",
       "      <td>0.866683</td>\n",
       "      <td>RandomForest</td>\n",
       "      <td>Oversampling</td>\n",
       "    </tr>\n",
       "    <tr>\n",
       "      <th>1</th>\n",
       "      <td>0.630670</td>\n",
       "      <td>0.862278</td>\n",
       "      <td>RandomForest</td>\n",
       "      <td>Adasyn</td>\n",
       "    </tr>\n",
       "    <tr>\n",
       "      <th>1</th>\n",
       "      <td>0.629630</td>\n",
       "      <td>0.861665</td>\n",
       "      <td>RandomForest</td>\n",
       "      <td>Undersampling</td>\n",
       "    </tr>\n",
       "    <tr>\n",
       "      <th>1</th>\n",
       "      <td>0.622807</td>\n",
       "      <td>0.866151</td>\n",
       "      <td>RandomForest</td>\n",
       "      <td>No</td>\n",
       "    </tr>\n",
       "    <tr>\n",
       "      <th>1</th>\n",
       "      <td>0.504440</td>\n",
       "      <td>0.766212</td>\n",
       "      <td>RandomForest</td>\n",
       "      <td>NearMiss</td>\n",
       "    </tr>\n",
       "  </tbody>\n",
       "</table>\n",
       "</div>"
      ],
      "text/plain": [
       "    f1valid    rocauc          type imbalance_fixer\n",
       "1  0.649007  0.866683  RandomForest    Oversampling\n",
       "1  0.630670  0.862278  RandomForest          Adasyn\n",
       "1  0.629630  0.861665  RandomForest   Undersampling\n",
       "1  0.622807  0.866151  RandomForest              No\n",
       "1  0.504440  0.766212  RandomForest        NearMiss"
      ]
     },
     "execution_count": 107,
     "metadata": {},
     "output_type": "execute_result"
    }
   ],
   "source": [
    "statsdf.query(\"type == 'RandomForest'\").sort_values(\"f1valid\", ascending=False).head(10)"
   ]
  },
  {
   "cell_type": "code",
   "execution_count": 108,
   "metadata": {
    "colab": {
     "base_uri": "https://localhost:8080/",
     "height": 363
    },
    "id": "qL-63eW69Ys5",
    "outputId": "14a16e24-761d-495f-e415-25a705bbcf7a"
   },
   "outputs": [
    {
     "data": {
      "text/html": [
       "<div>\n",
       "<style scoped>\n",
       "    .dataframe tbody tr th:only-of-type {\n",
       "        vertical-align: middle;\n",
       "    }\n",
       "\n",
       "    .dataframe tbody tr th {\n",
       "        vertical-align: top;\n",
       "    }\n",
       "\n",
       "    .dataframe thead th {\n",
       "        text-align: right;\n",
       "    }\n",
       "</style>\n",
       "<table border=\"1\" class=\"dataframe\">\n",
       "  <thead>\n",
       "    <tr style=\"text-align: right;\">\n",
       "      <th></th>\n",
       "      <th>f1valid</th>\n",
       "      <th>rocauc</th>\n",
       "      <th>type</th>\n",
       "      <th>imbalance_fixer</th>\n",
       "    </tr>\n",
       "  </thead>\n",
       "  <tbody>\n",
       "    <tr>\n",
       "      <th>1</th>\n",
       "      <td>0.649007</td>\n",
       "      <td>0.866683</td>\n",
       "      <td>RandomForest</td>\n",
       "      <td>Oversampling</td>\n",
       "    </tr>\n",
       "    <tr>\n",
       "      <th>1</th>\n",
       "      <td>0.630670</td>\n",
       "      <td>0.862278</td>\n",
       "      <td>RandomForest</td>\n",
       "      <td>Adasyn</td>\n",
       "    </tr>\n",
       "    <tr>\n",
       "      <th>1</th>\n",
       "      <td>0.629630</td>\n",
       "      <td>0.861665</td>\n",
       "      <td>RandomForest</td>\n",
       "      <td>Undersampling</td>\n",
       "    </tr>\n",
       "    <tr>\n",
       "      <th>1</th>\n",
       "      <td>0.622807</td>\n",
       "      <td>0.866151</td>\n",
       "      <td>RandomForest</td>\n",
       "      <td>No</td>\n",
       "    </tr>\n",
       "    <tr>\n",
       "      <th>1</th>\n",
       "      <td>0.619565</td>\n",
       "      <td>0.842405</td>\n",
       "      <td>DecisionTree</td>\n",
       "      <td>Adasyn</td>\n",
       "    </tr>\n",
       "    <tr>\n",
       "      <th>1</th>\n",
       "      <td>0.617476</td>\n",
       "      <td>0.848472</td>\n",
       "      <td>DecisionTree</td>\n",
       "      <td>Oversampling</td>\n",
       "    </tr>\n",
       "    <tr>\n",
       "      <th>1</th>\n",
       "      <td>0.600297</td>\n",
       "      <td>0.815157</td>\n",
       "      <td>DecisionTree</td>\n",
       "      <td>No</td>\n",
       "    </tr>\n",
       "    <tr>\n",
       "      <th>1</th>\n",
       "      <td>0.597353</td>\n",
       "      <td>0.810890</td>\n",
       "      <td>DecisionTree</td>\n",
       "      <td>Undersampling</td>\n",
       "    </tr>\n",
       "    <tr>\n",
       "      <th>1</th>\n",
       "      <td>0.546763</td>\n",
       "      <td>0.716413</td>\n",
       "      <td>DecisionTree</td>\n",
       "      <td>NearMiss</td>\n",
       "    </tr>\n",
       "    <tr>\n",
       "      <th>1</th>\n",
       "      <td>0.527518</td>\n",
       "      <td>NaN</td>\n",
       "      <td>SGD</td>\n",
       "      <td>Oversampling</td>\n",
       "    </tr>\n",
       "  </tbody>\n",
       "</table>\n",
       "</div>"
      ],
      "text/plain": [
       "    f1valid    rocauc          type imbalance_fixer\n",
       "1  0.649007  0.866683  RandomForest    Oversampling\n",
       "1  0.630670  0.862278  RandomForest          Adasyn\n",
       "1  0.629630  0.861665  RandomForest   Undersampling\n",
       "1  0.622807  0.866151  RandomForest              No\n",
       "1  0.619565  0.842405  DecisionTree          Adasyn\n",
       "1  0.617476  0.848472  DecisionTree    Oversampling\n",
       "1  0.600297  0.815157  DecisionTree              No\n",
       "1  0.597353  0.810890  DecisionTree   Undersampling\n",
       "1  0.546763  0.716413  DecisionTree        NearMiss\n",
       "1  0.527518       NaN           SGD    Oversampling"
      ]
     },
     "execution_count": 108,
     "metadata": {},
     "output_type": "execute_result"
    }
   ],
   "source": [
    "statsdf.sort_values(\"f1valid\", ascending=False).head(10)"
   ]
  },
  {
   "cell_type": "markdown",
   "metadata": {},
   "source": [
    "После нескольких тактик борьбы с дисбалансом классов, мы нашли наиболее успешную модель : 'RandomForest' + 'Oversampling'.\n",
    "Проверим, как поведет себя модель на тестовой выборке."
   ]
  },
  {
   "cell_type": "markdown",
   "metadata": {},
   "source": [
    "##### Oversampling"
   ]
  },
  {
   "cell_type": "code",
   "execution_count": 110,
   "metadata": {},
   "outputs": [
    {
     "name": "stdout",
     "output_type": "stream",
     "text": [
      "F1 score on test dataset:  0.6039387308533917\n",
      "ROC AUC score on test dataset: 0.8554718046243471\n"
     ]
    }
   ],
   "source": [
    "best_model = RandomForestClassifier(random_state=123456, n_estimators=100, max_depth=10, criterion='entropy')\n",
    "best_model.fit(feature_oversampling_temp, target_oversampling_temp)\n",
    "predicted = best_model.predict(feature_test)\n",
    "\n",
    "print(\"F1 score on test dataset: \", f1_score(target_test, predicted))\n",
    "print(\"ROC AUC score on test dataset:\", roc_auc_score(target_test, best_model.predict_proba(feature_test)[:, 1]))\n"
   ]
  },
  {
   "cell_type": "markdown",
   "metadata": {},
   "source": [
    "##### ADASYN"
   ]
  },
  {
   "cell_type": "code",
   "execution_count": 112,
   "metadata": {},
   "outputs": [
    {
     "name": "stdout",
     "output_type": "stream",
     "text": [
      "F1 score on test dataset:  0.579175704989154\n",
      "ROC AUC score on test dataset: 0.8506410879292237\n"
     ]
    }
   ],
   "source": [
    "best_model = RandomForestClassifier(random_state=123456, n_estimators=100, max_depth=12, criterion='entropy')\n",
    "best_model.fit(adasyn_data[feature_columns], adasyn_data[target_columns])\n",
    "predicted = best_model.predict(feature_test)\n",
    "\n",
    "print(\"F1 score on test dataset: \", f1_score(target_test, predicted))\n",
    "print(\"ROC AUC score on test dataset:\", roc_auc_score(target_test, best_model.predict_proba(feature_test)[:, 1]))\n"
   ]
  },
  {
   "cell_type": "markdown",
   "metadata": {
    "id": "thWxvmzr9hdw"
   },
   "source": [
    "##### Промежуточные выводы\n",
    "Были построены модели c разными способами устранения дисбаласа классов.\n",
    "Наиболее удачной моделью оказалась 'RandomForest' со способом устранения дисбаланса 'Oversampling'. На втором месте 'DecisionTree' на сырых данных.\n",
    "\n",
    "Как результат, для данного исследования очень хорошо себя показали модели 'RandomForest' и 'DecisionTree'. Данные модели можно использовать для предсказания поведения пользователей"
   ]
  },
  {
   "cell_type": "markdown",
   "metadata": {
    "id": "5s-JQtoj-FB8"
   },
   "source": [
    "## Выводы\n",
    "В данном исследовании, были обучены модели с разными способами устранения дисбаланса классов.\n",
    "\n",
    "* DecisionTreeClassifier\n",
    "* RandomForestClassifier\n",
    "* LogisticRegression\n",
    "\n",
    "В результате, были достигнуты оценки для модели 'RandomForest' со способом компенсации дисбаланса 'Oversampling':\n",
    "\n",
    "F1 score on test dataset:  0.6039387308533917\n",
    "ROC AUC score on test dataset: 0.8554718046243471\n",
    "\n",
    "В процессе исследования, было выявлено, что даже самый простые методы по устранению дисбаланса, как Oversamping, позволяют значительно улучшить качество модели.\n",
    "\n",
    "Как рекомендация, для данного исследования, 'Oversamping' c 'RandomForest' - является наиболее подходящей моделью c высоким качеством для анализа поведения клиентов."
   ]
  },
  {
   "cell_type": "markdown",
   "metadata": {},
   "source": [
    "## Репозиторий\n",
    "https://github.com/Kursor-nn/ml-practicum/tree/main/supervised-learning"
   ]
  },
  {
   "cell_type": "markdown",
   "metadata": {
    "id": "lKxB7HG3K41G"
   },
   "source": [
    "## Чек-лист готовности проекта"
   ]
  },
  {
   "cell_type": "markdown",
   "metadata": {
    "id": "WFXYz_QyK41G"
   },
   "source": [
    "Поставьте 'x' в выполненных пунктах. Далее нажмите Shift+Enter."
   ]
  },
  {
   "cell_type": "markdown",
   "metadata": {
    "id": "MheG7FgQK41H"
   },
   "source": [
    "- [x]  Jupyter Notebook открыт\n",
    "- [x]  Весь код выполняется без ошибок\n",
    "- [x]  Ячейки с кодом расположены в порядке исполнения\n",
    "- [x]  Выполнен шаг 1: данные подготовлены\n",
    "- [x]  Выполнен шаг 2: задача исследована\n",
    "    - [x]  Исследован баланс классов\n",
    "    - [x]  Изучены модели без учёта дисбаланса\n",
    "    - [x]  Написаны выводы по результатам исследования\n",
    "- [x]  Выполнен шаг 3: учтён дисбаланс\n",
    "    - [x]  Применено несколько способов борьбы с дисбалансом\n",
    "    - [x]  Написаны выводы по результатам исследования\n",
    "- [x]  Выполнен шаг 4: проведено тестирование\n",
    "- [x]  Удалось достичь *F1*-меры не менее 0.59\n",
    "- [x]  Исследована метрика *AUC-ROC*\n",
    "- [x]  Унылый модуль\n",
    "- [x] Добавить ссылку на репу"
   ]
  }
 ],
 "metadata": {
  "ExecuteTimeLog": [
   {
    "duration": 8381,
    "start_time": "2023-06-18T05:48:12.901Z"
   },
   {
    "duration": 1478,
    "start_time": "2023-06-18T05:48:21.284Z"
   },
   {
    "duration": 108,
    "start_time": "2023-06-18T05:48:22.764Z"
   },
   {
    "duration": 13,
    "start_time": "2023-06-18T05:48:22.874Z"
   },
   {
    "duration": 53,
    "start_time": "2023-06-18T05:48:22.889Z"
   },
   {
    "duration": 22,
    "start_time": "2023-06-18T05:48:22.947Z"
   },
   {
    "duration": 7,
    "start_time": "2023-06-18T05:48:22.971Z"
   },
   {
    "duration": 10,
    "start_time": "2023-06-18T05:48:22.980Z"
   },
   {
    "duration": 6,
    "start_time": "2023-06-18T05:48:22.991Z"
   },
   {
    "duration": 13,
    "start_time": "2023-06-18T05:48:23.000Z"
   },
   {
    "duration": 17,
    "start_time": "2023-06-18T05:48:23.020Z"
   },
   {
    "duration": 920,
    "start_time": "2023-06-18T05:48:23.039Z"
   },
   {
    "duration": 11,
    "start_time": "2023-06-18T05:48:23.961Z"
   },
   {
    "duration": 11,
    "start_time": "2023-06-18T05:48:23.974Z"
   },
   {
    "duration": 42,
    "start_time": "2023-06-18T05:48:23.987Z"
   },
   {
    "duration": 11,
    "start_time": "2023-06-18T05:48:24.030Z"
   },
   {
    "duration": 83,
    "start_time": "2023-06-18T05:48:24.042Z"
   },
   {
    "duration": 12,
    "start_time": "2023-06-18T05:48:24.297Z"
   },
   {
    "duration": 76,
    "start_time": "2023-06-18T05:48:31.695Z"
   },
   {
    "duration": 13,
    "start_time": "2023-06-18T05:48:33.989Z"
   },
   {
    "duration": 75,
    "start_time": "2023-06-18T05:48:37.995Z"
   },
   {
    "duration": 15,
    "start_time": "2023-06-18T05:48:40.347Z"
   },
   {
    "duration": 72,
    "start_time": "2023-06-18T14:41:59.789Z"
   },
   {
    "duration": 3,
    "start_time": "2023-06-18T14:42:14.813Z"
   },
   {
    "duration": 2,
    "start_time": "2023-06-18T14:49:37.681Z"
   },
   {
    "duration": 84,
    "start_time": "2023-06-18T14:52:30.151Z"
   },
   {
    "duration": 53,
    "start_time": "2023-06-18T14:52:47.183Z"
   },
   {
    "duration": 10038,
    "start_time": "2023-06-18T14:53:08.391Z"
   },
   {
    "duration": 1417,
    "start_time": "2023-06-18T14:53:18.432Z"
   },
   {
    "duration": 353,
    "start_time": "2023-06-18T14:53:19.851Z"
   },
   {
    "duration": 14,
    "start_time": "2023-06-18T14:53:20.206Z"
   },
   {
    "duration": 39,
    "start_time": "2023-06-18T14:53:20.223Z"
   },
   {
    "duration": 17,
    "start_time": "2023-06-18T14:53:20.264Z"
   },
   {
    "duration": 7,
    "start_time": "2023-06-18T14:53:20.283Z"
   },
   {
    "duration": 17,
    "start_time": "2023-06-18T14:53:20.291Z"
   },
   {
    "duration": 9,
    "start_time": "2023-06-18T14:53:20.310Z"
   },
   {
    "duration": 6,
    "start_time": "2023-06-18T14:53:20.321Z"
   },
   {
    "duration": 12,
    "start_time": "2023-06-18T14:53:20.328Z"
   },
   {
    "duration": 893,
    "start_time": "2023-06-18T14:53:20.342Z"
   },
   {
    "duration": 2,
    "start_time": "2023-06-18T14:53:21.237Z"
   },
   {
    "duration": 5,
    "start_time": "2023-06-18T14:53:21.241Z"
   },
   {
    "duration": 57,
    "start_time": "2023-06-18T14:53:37.320Z"
   },
   {
    "duration": 15,
    "start_time": "2023-06-18T14:53:45.118Z"
   },
   {
    "duration": 12,
    "start_time": "2023-06-18T14:53:54.566Z"
   },
   {
    "duration": 12,
    "start_time": "2023-06-18T14:53:58.957Z"
   },
   {
    "duration": 89,
    "start_time": "2023-06-18T14:54:13.392Z"
   },
   {
    "duration": 9,
    "start_time": "2023-06-18T14:55:04.650Z"
   },
   {
    "duration": 13,
    "start_time": "2023-06-18T14:55:07.282Z"
   },
   {
    "duration": 13,
    "start_time": "2023-06-18T14:55:13.730Z"
   },
   {
    "duration": 13,
    "start_time": "2023-06-18T14:55:15.010Z"
   },
   {
    "duration": 11,
    "start_time": "2023-06-18T14:55:16.564Z"
   },
   {
    "duration": 75,
    "start_time": "2023-06-18T14:57:14.807Z"
   },
   {
    "duration": 11,
    "start_time": "2023-06-18T14:58:09.086Z"
   },
   {
    "duration": 10,
    "start_time": "2023-06-18T14:59:26.857Z"
   },
   {
    "duration": 19,
    "start_time": "2023-06-18T14:59:36.379Z"
   },
   {
    "duration": 24,
    "start_time": "2023-06-18T14:59:46.670Z"
   },
   {
    "duration": 47,
    "start_time": "2023-06-18T14:59:54.934Z"
   },
   {
    "duration": 27,
    "start_time": "2023-06-18T15:00:35.004Z"
   },
   {
    "duration": 40,
    "start_time": "2023-06-18T15:00:35.882Z"
   },
   {
    "duration": 27,
    "start_time": "2023-06-18T15:00:36.534Z"
   },
   {
    "duration": 12,
    "start_time": "2023-06-18T15:00:40.630Z"
   },
   {
    "duration": 12,
    "start_time": "2023-06-18T15:00:45.851Z"
   },
   {
    "duration": 15,
    "start_time": "2023-06-18T15:00:50.729Z"
   },
   {
    "duration": 66,
    "start_time": "2023-06-18T15:06:21.066Z"
   },
   {
    "duration": 41,
    "start_time": "2023-06-18T15:06:23.856Z"
   },
   {
    "duration": 12,
    "start_time": "2023-06-18T15:06:40.739Z"
   },
   {
    "duration": 9,
    "start_time": "2023-06-18T15:06:46.533Z"
   },
   {
    "duration": 13,
    "start_time": "2023-06-18T15:07:03.151Z"
   },
   {
    "duration": 13,
    "start_time": "2023-06-18T15:07:07.980Z"
   },
   {
    "duration": 14,
    "start_time": "2023-06-18T15:07:12.045Z"
   },
   {
    "duration": 14,
    "start_time": "2023-06-18T15:07:16.809Z"
   },
   {
    "duration": 8,
    "start_time": "2023-06-18T15:07:31.618Z"
   },
   {
    "duration": 5,
    "start_time": "2023-06-18T15:08:45.395Z"
   },
   {
    "duration": 23,
    "start_time": "2023-06-18T15:08:57.699Z"
   },
   {
    "duration": 2349,
    "start_time": "2023-06-18T15:09:11.754Z"
   },
   {
    "duration": 7,
    "start_time": "2023-06-18T15:09:14.106Z"
   },
   {
    "duration": 53,
    "start_time": "2023-06-18T15:09:14.115Z"
   },
   {
    "duration": 19,
    "start_time": "2023-06-18T15:09:14.170Z"
   },
   {
    "duration": 54,
    "start_time": "2023-06-18T15:09:14.193Z"
   },
   {
    "duration": 34,
    "start_time": "2023-06-18T15:09:14.249Z"
   },
   {
    "duration": 8,
    "start_time": "2023-06-18T15:09:14.285Z"
   },
   {
    "duration": 7,
    "start_time": "2023-06-18T15:09:14.296Z"
   },
   {
    "duration": 13,
    "start_time": "2023-06-18T15:09:14.305Z"
   },
   {
    "duration": 5,
    "start_time": "2023-06-18T15:09:14.322Z"
   },
   {
    "duration": 44,
    "start_time": "2023-06-18T15:09:14.329Z"
   },
   {
    "duration": 820,
    "start_time": "2023-06-18T15:09:14.382Z"
   },
   {
    "duration": 2,
    "start_time": "2023-06-18T15:09:15.203Z"
   },
   {
    "duration": 13,
    "start_time": "2023-06-18T15:09:15.207Z"
   },
   {
    "duration": 17,
    "start_time": "2023-06-18T15:09:15.222Z"
   },
   {
    "duration": 68,
    "start_time": "2023-06-18T15:09:15.240Z"
   },
   {
    "duration": 29,
    "start_time": "2023-06-18T15:09:15.309Z"
   },
   {
    "duration": 11,
    "start_time": "2023-06-18T15:09:15.339Z"
   },
   {
    "duration": 27,
    "start_time": "2023-06-18T15:09:15.351Z"
   },
   {
    "duration": 26,
    "start_time": "2023-06-18T15:09:15.380Z"
   },
   {
    "duration": 10,
    "start_time": "2023-06-18T15:09:15.408Z"
   },
   {
    "duration": 11,
    "start_time": "2023-06-18T15:09:15.419Z"
   },
   {
    "duration": 8,
    "start_time": "2023-06-18T15:09:15.431Z"
   },
   {
    "duration": 7,
    "start_time": "2023-06-18T15:09:15.440Z"
   },
   {
    "duration": 85,
    "start_time": "2023-06-18T15:09:15.448Z"
   },
   {
    "duration": 6,
    "start_time": "2023-06-18T15:09:15.534Z"
   },
   {
    "duration": 19371,
    "start_time": "2023-06-18T15:09:20.036Z"
   },
   {
    "duration": 5,
    "start_time": "2023-06-18T15:10:16.372Z"
   },
   {
    "duration": 23236,
    "start_time": "2023-06-18T15:10:24.097Z"
   },
   {
    "duration": 5,
    "start_time": "2023-06-18T15:11:27.065Z"
   },
   {
    "duration": 23060,
    "start_time": "2023-06-18T15:11:31.091Z"
   },
   {
    "duration": 8,
    "start_time": "2023-06-18T15:12:07.348Z"
   },
   {
    "duration": 172463,
    "start_time": "2023-06-18T15:12:25.219Z"
   },
   {
    "duration": 0,
    "start_time": "2023-06-18T15:15:17.684Z"
   },
   {
    "duration": 0,
    "start_time": "2023-06-18T15:15:17.685Z"
   },
   {
    "duration": 5,
    "start_time": "2023-06-18T15:15:28.100Z"
   },
   {
    "duration": 2092,
    "start_time": "2023-06-18T15:15:32.183Z"
   },
   {
    "duration": 5,
    "start_time": "2023-06-18T15:15:37.104Z"
   },
   {
    "duration": 2063,
    "start_time": "2023-06-18T15:15:58.237Z"
   },
   {
    "duration": 15,
    "start_time": "2023-06-18T15:16:00.303Z"
   },
   {
    "duration": 0,
    "start_time": "2023-06-18T15:16:00.321Z"
   },
   {
    "duration": 0,
    "start_time": "2023-06-18T15:16:00.322Z"
   },
   {
    "duration": 0,
    "start_time": "2023-06-18T15:16:00.323Z"
   },
   {
    "duration": 0,
    "start_time": "2023-06-18T15:16:00.324Z"
   },
   {
    "duration": 0,
    "start_time": "2023-06-18T15:16:00.325Z"
   },
   {
    "duration": 0,
    "start_time": "2023-06-18T15:16:00.326Z"
   },
   {
    "duration": 0,
    "start_time": "2023-06-18T15:16:00.327Z"
   },
   {
    "duration": 0,
    "start_time": "2023-06-18T15:16:00.328Z"
   },
   {
    "duration": 0,
    "start_time": "2023-06-18T15:16:00.328Z"
   },
   {
    "duration": 0,
    "start_time": "2023-06-18T15:16:00.329Z"
   },
   {
    "duration": 0,
    "start_time": "2023-06-18T15:16:00.330Z"
   },
   {
    "duration": 0,
    "start_time": "2023-06-18T15:16:00.331Z"
   },
   {
    "duration": 0,
    "start_time": "2023-06-18T15:16:00.332Z"
   },
   {
    "duration": 0,
    "start_time": "2023-06-18T15:16:00.333Z"
   },
   {
    "duration": 0,
    "start_time": "2023-06-18T15:16:00.334Z"
   },
   {
    "duration": 0,
    "start_time": "2023-06-18T15:16:00.335Z"
   },
   {
    "duration": 0,
    "start_time": "2023-06-18T15:16:00.336Z"
   },
   {
    "duration": 0,
    "start_time": "2023-06-18T15:16:00.337Z"
   },
   {
    "duration": 0,
    "start_time": "2023-06-18T15:16:00.338Z"
   },
   {
    "duration": 0,
    "start_time": "2023-06-18T15:16:00.339Z"
   },
   {
    "duration": 0,
    "start_time": "2023-06-18T15:16:00.340Z"
   },
   {
    "duration": 0,
    "start_time": "2023-06-18T15:16:00.341Z"
   },
   {
    "duration": 0,
    "start_time": "2023-06-18T15:16:00.341Z"
   },
   {
    "duration": 0,
    "start_time": "2023-06-18T15:16:00.342Z"
   },
   {
    "duration": 0,
    "start_time": "2023-06-18T15:16:00.343Z"
   },
   {
    "duration": 0,
    "start_time": "2023-06-18T15:16:00.344Z"
   },
   {
    "duration": 0,
    "start_time": "2023-06-18T15:16:00.345Z"
   },
   {
    "duration": 0,
    "start_time": "2023-06-18T15:16:00.346Z"
   },
   {
    "duration": 0,
    "start_time": "2023-06-18T15:16:00.347Z"
   },
   {
    "duration": 0,
    "start_time": "2023-06-18T15:16:00.348Z"
   },
   {
    "duration": 0,
    "start_time": "2023-06-18T15:16:00.369Z"
   },
   {
    "duration": 13,
    "start_time": "2023-06-18T15:18:25.886Z"
   },
   {
    "duration": 2078,
    "start_time": "2023-06-18T15:18:46.142Z"
   },
   {
    "duration": 1191,
    "start_time": "2023-06-18T15:18:48.222Z"
   },
   {
    "duration": 0,
    "start_time": "2023-06-18T15:18:49.416Z"
   },
   {
    "duration": 0,
    "start_time": "2023-06-18T15:18:49.417Z"
   },
   {
    "duration": 0,
    "start_time": "2023-06-18T15:18:49.418Z"
   },
   {
    "duration": 0,
    "start_time": "2023-06-18T15:18:49.419Z"
   },
   {
    "duration": 0,
    "start_time": "2023-06-18T15:18:49.420Z"
   },
   {
    "duration": 0,
    "start_time": "2023-06-18T15:18:49.420Z"
   },
   {
    "duration": 0,
    "start_time": "2023-06-18T15:18:49.421Z"
   },
   {
    "duration": 0,
    "start_time": "2023-06-18T15:18:49.422Z"
   },
   {
    "duration": 0,
    "start_time": "2023-06-18T15:18:49.423Z"
   },
   {
    "duration": 0,
    "start_time": "2023-06-18T15:18:49.424Z"
   },
   {
    "duration": 0,
    "start_time": "2023-06-18T15:18:49.425Z"
   },
   {
    "duration": 0,
    "start_time": "2023-06-18T15:18:49.426Z"
   },
   {
    "duration": 0,
    "start_time": "2023-06-18T15:18:49.427Z"
   },
   {
    "duration": 0,
    "start_time": "2023-06-18T15:18:49.428Z"
   },
   {
    "duration": 0,
    "start_time": "2023-06-18T15:18:49.428Z"
   },
   {
    "duration": 0,
    "start_time": "2023-06-18T15:18:49.430Z"
   },
   {
    "duration": 0,
    "start_time": "2023-06-18T15:18:49.430Z"
   },
   {
    "duration": 0,
    "start_time": "2023-06-18T15:18:49.431Z"
   },
   {
    "duration": 0,
    "start_time": "2023-06-18T15:18:49.432Z"
   },
   {
    "duration": 0,
    "start_time": "2023-06-18T15:18:49.434Z"
   },
   {
    "duration": 0,
    "start_time": "2023-06-18T15:18:49.434Z"
   },
   {
    "duration": 0,
    "start_time": "2023-06-18T15:18:49.468Z"
   },
   {
    "duration": 0,
    "start_time": "2023-06-18T15:18:49.470Z"
   },
   {
    "duration": 0,
    "start_time": "2023-06-18T15:18:49.471Z"
   },
   {
    "duration": 0,
    "start_time": "2023-06-18T15:18:49.472Z"
   },
   {
    "duration": 0,
    "start_time": "2023-06-18T15:18:49.472Z"
   },
   {
    "duration": 0,
    "start_time": "2023-06-18T15:18:49.473Z"
   },
   {
    "duration": 0,
    "start_time": "2023-06-18T15:18:49.474Z"
   },
   {
    "duration": 0,
    "start_time": "2023-06-18T15:18:49.475Z"
   },
   {
    "duration": 0,
    "start_time": "2023-06-18T15:18:49.476Z"
   },
   {
    "duration": 0,
    "start_time": "2023-06-18T15:18:49.477Z"
   },
   {
    "duration": 5,
    "start_time": "2023-06-18T15:19:46.053Z"
   },
   {
    "duration": 2050,
    "start_time": "2023-06-18T15:19:50.411Z"
   },
   {
    "duration": 5,
    "start_time": "2023-06-18T15:19:52.463Z"
   },
   {
    "duration": 59,
    "start_time": "2023-06-18T15:19:52.470Z"
   },
   {
    "duration": 14,
    "start_time": "2023-06-18T15:19:52.530Z"
   },
   {
    "duration": 33,
    "start_time": "2023-06-18T15:19:52.546Z"
   },
   {
    "duration": 15,
    "start_time": "2023-06-18T15:19:52.581Z"
   },
   {
    "duration": 25,
    "start_time": "2023-06-18T15:19:52.597Z"
   },
   {
    "duration": 6,
    "start_time": "2023-06-18T15:19:52.623Z"
   },
   {
    "duration": 7,
    "start_time": "2023-06-18T15:19:52.630Z"
   },
   {
    "duration": 12,
    "start_time": "2023-06-18T15:19:52.638Z"
   },
   {
    "duration": 5,
    "start_time": "2023-06-18T15:19:52.652Z"
   },
   {
    "duration": 767,
    "start_time": "2023-06-18T15:19:52.659Z"
   },
   {
    "duration": 3,
    "start_time": "2023-06-18T15:19:53.427Z"
   },
   {
    "duration": 22,
    "start_time": "2023-06-18T15:19:53.432Z"
   },
   {
    "duration": 25,
    "start_time": "2023-06-18T15:19:53.455Z"
   },
   {
    "duration": 81,
    "start_time": "2023-06-18T15:19:53.481Z"
   },
   {
    "duration": 28,
    "start_time": "2023-06-18T15:19:53.564Z"
   },
   {
    "duration": 30,
    "start_time": "2023-06-18T15:19:53.594Z"
   },
   {
    "duration": 28,
    "start_time": "2023-06-18T15:19:53.627Z"
   },
   {
    "duration": 43,
    "start_time": "2023-06-18T15:19:53.657Z"
   },
   {
    "duration": 26,
    "start_time": "2023-06-18T15:19:53.701Z"
   },
   {
    "duration": 33,
    "start_time": "2023-06-18T15:19:53.729Z"
   },
   {
    "duration": 13,
    "start_time": "2023-06-18T15:19:53.764Z"
   },
   {
    "duration": 23,
    "start_time": "2023-06-18T15:19:53.779Z"
   },
   {
    "duration": 85,
    "start_time": "2023-06-18T15:19:53.803Z"
   },
   {
    "duration": 19,
    "start_time": "2023-06-18T15:19:53.890Z"
   },
   {
    "duration": 18992,
    "start_time": "2023-06-18T15:19:53.910Z"
   },
   {
    "duration": 6,
    "start_time": "2023-06-18T15:20:12.904Z"
   },
   {
    "duration": 23432,
    "start_time": "2023-06-18T15:20:12.912Z"
   },
   {
    "duration": 7,
    "start_time": "2023-06-18T15:20:36.346Z"
   },
   {
    "duration": 171122,
    "start_time": "2023-06-18T15:20:36.354Z"
   },
   {
    "duration": 90,
    "start_time": "2023-06-18T15:23:27.478Z"
   },
   {
    "duration": 15400,
    "start_time": "2023-06-18T15:23:27.570Z"
   },
   {
    "duration": 5,
    "start_time": "2023-06-18T15:24:54.716Z"
   },
   {
    "duration": 16219,
    "start_time": "2023-06-18T15:25:02.351Z"
   },
   {
    "duration": 5,
    "start_time": "2023-06-18T15:27:34.388Z"
   },
   {
    "duration": 7,
    "start_time": "2023-06-18T15:27:50.309Z"
   },
   {
    "duration": 5,
    "start_time": "2023-06-18T15:28:02.958Z"
   },
   {
    "duration": 57,
    "start_time": "2023-06-18T15:29:37.358Z"
   },
   {
    "duration": 5,
    "start_time": "2023-06-18T15:30:10.619Z"
   },
   {
    "duration": 6,
    "start_time": "2023-06-18T15:30:22.677Z"
   },
   {
    "duration": 5,
    "start_time": "2023-06-18T15:30:27.092Z"
   },
   {
    "duration": 2138,
    "start_time": "2023-06-18T15:30:33.152Z"
   },
   {
    "duration": 5,
    "start_time": "2023-06-18T15:30:35.292Z"
   },
   {
    "duration": 52,
    "start_time": "2023-06-18T15:30:35.299Z"
   },
   {
    "duration": 12,
    "start_time": "2023-06-18T15:30:35.352Z"
   },
   {
    "duration": 32,
    "start_time": "2023-06-18T15:30:35.367Z"
   },
   {
    "duration": 13,
    "start_time": "2023-06-18T15:30:35.400Z"
   },
   {
    "duration": 9,
    "start_time": "2023-06-18T15:30:35.414Z"
   },
   {
    "duration": 13,
    "start_time": "2023-06-18T15:30:35.424Z"
   },
   {
    "duration": 11,
    "start_time": "2023-06-18T15:30:35.438Z"
   },
   {
    "duration": 10,
    "start_time": "2023-06-18T15:30:35.450Z"
   },
   {
    "duration": 15,
    "start_time": "2023-06-18T15:30:35.461Z"
   },
   {
    "duration": 745,
    "start_time": "2023-06-18T15:30:35.477Z"
   },
   {
    "duration": 3,
    "start_time": "2023-06-18T15:30:36.223Z"
   },
   {
    "duration": 3,
    "start_time": "2023-06-18T15:30:36.229Z"
   },
   {
    "duration": 27,
    "start_time": "2023-06-18T15:30:36.234Z"
   },
   {
    "duration": 60,
    "start_time": "2023-06-18T15:30:36.262Z"
   },
   {
    "duration": 27,
    "start_time": "2023-06-18T15:30:36.324Z"
   },
   {
    "duration": 23,
    "start_time": "2023-06-18T15:30:36.353Z"
   },
   {
    "duration": 8,
    "start_time": "2023-06-18T15:30:36.378Z"
   },
   {
    "duration": 15,
    "start_time": "2023-06-18T15:30:36.387Z"
   },
   {
    "duration": 8,
    "start_time": "2023-06-18T15:30:36.403Z"
   },
   {
    "duration": 12,
    "start_time": "2023-06-18T15:30:36.413Z"
   },
   {
    "duration": 8,
    "start_time": "2023-06-18T15:30:36.427Z"
   },
   {
    "duration": 33,
    "start_time": "2023-06-18T15:30:36.436Z"
   },
   {
    "duration": 7,
    "start_time": "2023-06-18T15:30:36.471Z"
   },
   {
    "duration": 6,
    "start_time": "2023-06-18T15:30:36.479Z"
   },
   {
    "duration": 18063,
    "start_time": "2023-06-18T15:30:36.486Z"
   },
   {
    "duration": 0,
    "start_time": "2023-06-18T15:30:54.550Z"
   },
   {
    "duration": 0,
    "start_time": "2023-06-18T15:30:54.552Z"
   },
   {
    "duration": 0,
    "start_time": "2023-06-18T15:30:54.552Z"
   },
   {
    "duration": 0,
    "start_time": "2023-06-18T15:30:54.553Z"
   },
   {
    "duration": 0,
    "start_time": "2023-06-18T15:30:54.554Z"
   },
   {
    "duration": 0,
    "start_time": "2023-06-18T15:30:54.568Z"
   },
   {
    "duration": 5,
    "start_time": "2023-06-18T15:31:40.384Z"
   },
   {
    "duration": 18461,
    "start_time": "2023-06-18T15:31:43.184Z"
   },
   {
    "duration": 6,
    "start_time": "2023-06-18T15:32:16.888Z"
   },
   {
    "duration": 19167,
    "start_time": "2023-06-18T15:32:19.652Z"
   },
   {
    "duration": 5,
    "start_time": "2023-06-18T15:32:38.821Z"
   },
   {
    "duration": 2116,
    "start_time": "2023-06-18T15:32:57.744Z"
   },
   {
    "duration": 1309,
    "start_time": "2023-06-18T15:32:59.862Z"
   },
   {
    "duration": 40,
    "start_time": "2023-06-18T15:33:01.173Z"
   },
   {
    "duration": 21,
    "start_time": "2023-06-18T15:33:01.215Z"
   },
   {
    "duration": 81,
    "start_time": "2023-06-18T15:33:01.238Z"
   },
   {
    "duration": 36,
    "start_time": "2023-06-18T15:33:01.321Z"
   },
   {
    "duration": 56,
    "start_time": "2023-06-18T15:33:01.358Z"
   },
   {
    "duration": 76,
    "start_time": "2023-06-18T15:33:01.416Z"
   },
   {
    "duration": 38,
    "start_time": "2023-06-18T15:33:01.493Z"
   },
   {
    "duration": 55,
    "start_time": "2023-06-18T15:33:01.532Z"
   },
   {
    "duration": 43,
    "start_time": "2023-06-18T15:33:01.589Z"
   },
   {
    "duration": 806,
    "start_time": "2023-06-18T15:33:01.634Z"
   },
   {
    "duration": 2,
    "start_time": "2023-06-18T15:33:02.442Z"
   },
   {
    "duration": 11,
    "start_time": "2023-06-18T15:33:02.447Z"
   },
   {
    "duration": 21,
    "start_time": "2023-06-18T15:33:02.460Z"
   },
   {
    "duration": 60,
    "start_time": "2023-06-18T15:33:02.482Z"
   },
   {
    "duration": 41,
    "start_time": "2023-06-18T15:33:02.543Z"
   },
   {
    "duration": 10,
    "start_time": "2023-06-18T15:33:02.585Z"
   },
   {
    "duration": 8,
    "start_time": "2023-06-18T15:33:02.596Z"
   },
   {
    "duration": 22,
    "start_time": "2023-06-18T15:33:02.605Z"
   },
   {
    "duration": 8,
    "start_time": "2023-06-18T15:33:02.629Z"
   },
   {
    "duration": 10,
    "start_time": "2023-06-18T15:33:02.638Z"
   },
   {
    "duration": 24,
    "start_time": "2023-06-18T15:33:02.650Z"
   },
   {
    "duration": 6,
    "start_time": "2023-06-18T15:33:02.675Z"
   },
   {
    "duration": 4,
    "start_time": "2023-06-18T15:33:02.683Z"
   },
   {
    "duration": 5,
    "start_time": "2023-06-18T15:33:02.688Z"
   },
   {
    "duration": 18567,
    "start_time": "2023-06-18T15:33:02.694Z"
   },
   {
    "duration": 7,
    "start_time": "2023-06-18T15:33:21.263Z"
   },
   {
    "duration": 22977,
    "start_time": "2023-06-18T15:33:21.271Z"
   },
   {
    "duration": 5,
    "start_time": "2023-06-18T15:33:44.267Z"
   },
   {
    "duration": 20301,
    "start_time": "2023-06-18T15:33:44.274Z"
   },
   {
    "duration": 4,
    "start_time": "2023-06-18T15:34:04.577Z"
   },
   {
    "duration": 14892,
    "start_time": "2023-06-18T15:34:04.582Z"
   },
   {
    "duration": 5,
    "start_time": "2023-06-18T15:36:53.114Z"
   },
   {
    "duration": 9,
    "start_time": "2023-06-18T15:36:54.582Z"
   },
   {
    "duration": 5,
    "start_time": "2023-06-18T15:36:55.547Z"
   },
   {
    "duration": 2,
    "start_time": "2023-06-18T15:37:18.277Z"
   },
   {
    "duration": 16,
    "start_time": "2023-06-18T15:37:58.848Z"
   },
   {
    "duration": 7,
    "start_time": "2023-06-18T15:38:05.328Z"
   },
   {
    "duration": 18,
    "start_time": "2023-06-18T15:38:12.281Z"
   },
   {
    "duration": 18,
    "start_time": "2023-06-18T15:39:10.689Z"
   },
   {
    "duration": 127,
    "start_time": "2023-06-18T15:39:21.077Z"
   },
   {
    "duration": 9,
    "start_time": "2023-06-18T15:39:27.229Z"
   },
   {
    "duration": 3,
    "start_time": "2023-06-18T15:40:14.710Z"
   },
   {
    "duration": 18,
    "start_time": "2023-06-18T15:40:17.900Z"
   },
   {
    "duration": 5,
    "start_time": "2023-06-18T15:40:32.493Z"
   },
   {
    "duration": 9,
    "start_time": "2023-06-18T15:40:52.702Z"
   },
   {
    "duration": 22,
    "start_time": "2023-06-18T15:41:49.420Z"
   },
   {
    "duration": 17,
    "start_time": "2023-06-18T15:41:54.780Z"
   },
   {
    "duration": 19,
    "start_time": "2023-06-18T15:42:00.703Z"
   },
   {
    "duration": 11,
    "start_time": "2023-06-18T15:42:12.973Z"
   },
   {
    "duration": 37,
    "start_time": "2023-06-18T15:42:18.749Z"
   },
   {
    "duration": 5,
    "start_time": "2023-06-18T15:43:11.040Z"
   },
   {
    "duration": 20,
    "start_time": "2023-06-18T15:43:31.720Z"
   },
   {
    "duration": 41,
    "start_time": "2023-06-18T15:43:34.507Z"
   },
   {
    "duration": 8,
    "start_time": "2023-06-18T15:43:39.884Z"
   },
   {
    "duration": 44,
    "start_time": "2023-06-18T15:44:02.520Z"
   },
   {
    "duration": 22803,
    "start_time": "2023-06-18T15:44:39.988Z"
   },
   {
    "duration": 35,
    "start_time": "2023-06-18T15:45:02.793Z"
   },
   {
    "duration": 5,
    "start_time": "2023-06-18T15:45:17.450Z"
   },
   {
    "duration": 23485,
    "start_time": "2023-06-18T15:45:21.183Z"
   },
   {
    "duration": 30499,
    "start_time": "2023-06-18T15:45:44.669Z"
   },
   {
    "duration": 18713,
    "start_time": "2023-06-18T15:46:15.169Z"
   },
   {
    "duration": 16811,
    "start_time": "2023-06-18T15:46:33.969Z"
   },
   {
    "duration": 3,
    "start_time": "2023-06-18T15:49:05.240Z"
   },
   {
    "duration": 3,
    "start_time": "2023-06-18T15:49:08.185Z"
   },
   {
    "duration": 22,
    "start_time": "2023-06-18T15:50:13.700Z"
   },
   {
    "duration": 21,
    "start_time": "2023-06-18T15:50:20.382Z"
   },
   {
    "duration": 39,
    "start_time": "2023-06-18T15:50:24.480Z"
   },
   {
    "duration": 34,
    "start_time": "2023-06-18T15:50:38.635Z"
   },
   {
    "duration": 44,
    "start_time": "2023-06-18T15:50:44.149Z"
   },
   {
    "duration": 34,
    "start_time": "2023-06-18T15:50:50.434Z"
   },
   {
    "duration": 4,
    "start_time": "2023-06-18T15:51:26.952Z"
   },
   {
    "duration": 10,
    "start_time": "2023-06-18T15:51:31.449Z"
   },
   {
    "duration": 11986,
    "start_time": "2023-06-18T15:51:36.079Z"
   },
   {
    "duration": 19,
    "start_time": "2023-06-18T15:51:59.982Z"
   },
   {
    "duration": 45,
    "start_time": "2023-06-18T15:52:00.966Z"
   },
   {
    "duration": 4,
    "start_time": "2023-06-18T15:52:03.345Z"
   },
   {
    "duration": 11998,
    "start_time": "2023-06-18T15:52:03.974Z"
   },
   {
    "duration": 9,
    "start_time": "2023-06-18T15:52:15.974Z"
   },
   {
    "duration": 0,
    "start_time": "2023-06-18T15:52:15.985Z"
   },
   {
    "duration": 0,
    "start_time": "2023-06-18T15:52:15.986Z"
   },
   {
    "duration": 13360,
    "start_time": "2023-06-18T15:53:30.023Z"
   },
   {
    "duration": 14386,
    "start_time": "2023-06-18T15:53:43.385Z"
   },
   {
    "duration": 10397,
    "start_time": "2023-06-18T15:53:57.773Z"
   },
   {
    "duration": 91,
    "start_time": "2023-06-18T15:54:43.548Z"
   },
   {
    "duration": 58,
    "start_time": "2023-06-18T15:55:11.155Z"
   },
   {
    "duration": 2,
    "start_time": "2023-06-18T15:55:15.404Z"
   },
   {
    "duration": 96,
    "start_time": "2023-06-18T15:55:49.348Z"
   },
   {
    "duration": 9,
    "start_time": "2023-06-18T15:55:54.508Z"
   },
   {
    "duration": 22,
    "start_time": "2023-06-18T15:56:16.655Z"
   },
   {
    "duration": 143,
    "start_time": "2023-06-18T15:56:24.396Z"
   },
   {
    "duration": 32,
    "start_time": "2023-06-18T15:56:26.113Z"
   },
   {
    "duration": 100,
    "start_time": "2023-06-18T15:57:06.081Z"
   },
   {
    "duration": 12669,
    "start_time": "2023-06-18T15:57:20.531Z"
   },
   {
    "duration": 13952,
    "start_time": "2023-06-18T15:57:33.203Z"
   },
   {
    "duration": 18525,
    "start_time": "2023-06-18T15:57:47.158Z"
   },
   {
    "duration": 12990,
    "start_time": "2023-06-18T15:58:05.685Z"
   },
   {
    "duration": 2,
    "start_time": "2023-06-18T15:58:58.289Z"
   },
   {
    "duration": 96,
    "start_time": "2023-06-18T15:59:18.788Z"
   },
   {
    "duration": 31444,
    "start_time": "2023-06-18T15:59:59.255Z"
   },
   {
    "duration": 39533,
    "start_time": "2023-06-18T16:00:30.701Z"
   },
   {
    "duration": 19135,
    "start_time": "2023-06-18T16:01:10.236Z"
   },
   {
    "duration": 2176,
    "start_time": "2023-06-18T16:02:08.447Z"
   },
   {
    "duration": 1121,
    "start_time": "2023-06-18T16:02:10.625Z"
   },
   {
    "duration": 43,
    "start_time": "2023-06-18T16:02:11.747Z"
   },
   {
    "duration": 13,
    "start_time": "2023-06-18T16:02:11.793Z"
   },
   {
    "duration": 32,
    "start_time": "2023-06-18T16:02:11.808Z"
   },
   {
    "duration": 34,
    "start_time": "2023-06-18T16:02:11.841Z"
   },
   {
    "duration": 8,
    "start_time": "2023-06-18T16:02:11.876Z"
   },
   {
    "duration": 7,
    "start_time": "2023-06-18T16:02:11.886Z"
   },
   {
    "duration": 7,
    "start_time": "2023-06-18T16:02:11.895Z"
   },
   {
    "duration": 6,
    "start_time": "2023-06-18T16:02:11.905Z"
   },
   {
    "duration": 24,
    "start_time": "2023-06-18T16:02:11.913Z"
   },
   {
    "duration": 877,
    "start_time": "2023-06-18T16:02:11.939Z"
   },
   {
    "duration": 3,
    "start_time": "2023-06-18T16:02:12.817Z"
   },
   {
    "duration": 11,
    "start_time": "2023-06-18T16:02:12.822Z"
   },
   {
    "duration": 18,
    "start_time": "2023-06-18T16:02:12.835Z"
   },
   {
    "duration": 65,
    "start_time": "2023-06-18T16:02:12.868Z"
   },
   {
    "duration": 50,
    "start_time": "2023-06-18T16:02:12.936Z"
   },
   {
    "duration": 11,
    "start_time": "2023-06-18T16:02:12.988Z"
   },
   {
    "duration": 9,
    "start_time": "2023-06-18T16:02:13.000Z"
   },
   {
    "duration": 16,
    "start_time": "2023-06-18T16:02:13.011Z"
   },
   {
    "duration": 9,
    "start_time": "2023-06-18T16:02:13.029Z"
   },
   {
    "duration": 39,
    "start_time": "2023-06-18T16:02:13.040Z"
   },
   {
    "duration": 14,
    "start_time": "2023-06-18T16:02:13.081Z"
   },
   {
    "duration": 8,
    "start_time": "2023-06-18T16:02:13.097Z"
   },
   {
    "duration": 3,
    "start_time": "2023-06-18T16:02:13.107Z"
   },
   {
    "duration": 8,
    "start_time": "2023-06-18T16:02:13.112Z"
   },
   {
    "duration": 18897,
    "start_time": "2023-06-18T16:02:13.122Z"
   },
   {
    "duration": 7,
    "start_time": "2023-06-18T16:02:32.024Z"
   },
   {
    "duration": 23546,
    "start_time": "2023-06-18T16:02:32.033Z"
   },
   {
    "duration": 5,
    "start_time": "2023-06-18T16:02:55.581Z"
   },
   {
    "duration": 16484,
    "start_time": "2023-06-18T16:02:55.587Z"
   },
   {
    "duration": 10,
    "start_time": "2023-06-18T16:03:12.074Z"
   },
   {
    "duration": 14793,
    "start_time": "2023-06-18T16:03:12.086Z"
   },
   {
    "duration": 91,
    "start_time": "2023-06-18T16:03:26.880Z"
   },
   {
    "duration": 4,
    "start_time": "2023-06-18T16:03:26.973Z"
   },
   {
    "duration": 4,
    "start_time": "2023-06-18T16:03:26.978Z"
   },
   {
    "duration": 21,
    "start_time": "2023-06-18T16:03:26.984Z"
   },
   {
    "duration": 36,
    "start_time": "2023-06-18T16:03:27.007Z"
   },
   {
    "duration": 34,
    "start_time": "2023-06-18T16:03:27.045Z"
   },
   {
    "duration": 23409,
    "start_time": "2023-06-18T16:03:27.081Z"
   },
   {
    "duration": 31486,
    "start_time": "2023-06-18T16:03:50.491Z"
   },
   {
    "duration": 20590,
    "start_time": "2023-06-18T16:04:21.979Z"
   },
   {
    "duration": 15805,
    "start_time": "2023-06-18T16:04:42.571Z"
   },
   {
    "duration": 2,
    "start_time": "2023-06-18T16:04:58.377Z"
   },
   {
    "duration": 99,
    "start_time": "2023-06-18T16:04:58.381Z"
   },
   {
    "duration": 35,
    "start_time": "2023-06-18T16:04:58.481Z"
   },
   {
    "duration": 4,
    "start_time": "2023-06-18T16:04:58.518Z"
   },
   {
    "duration": 12029,
    "start_time": "2023-06-18T16:04:58.523Z"
   },
   {
    "duration": 14015,
    "start_time": "2023-06-18T16:05:10.553Z"
   },
   {
    "duration": 13309,
    "start_time": "2023-06-18T16:05:24.570Z"
   },
   {
    "duration": 11793,
    "start_time": "2023-06-18T16:05:37.881Z"
   },
   {
    "duration": 3,
    "start_time": "2023-06-18T16:05:49.676Z"
   },
   {
    "duration": 169,
    "start_time": "2023-06-18T16:05:49.681Z"
   },
   {
    "duration": 12056,
    "start_time": "2023-06-18T16:05:49.867Z"
   },
   {
    "duration": 14276,
    "start_time": "2023-06-18T16:06:01.924Z"
   },
   {
    "duration": 11077,
    "start_time": "2023-06-18T16:06:16.202Z"
   },
   {
    "duration": 10792,
    "start_time": "2023-06-18T16:06:27.280Z"
   },
   {
    "duration": 2,
    "start_time": "2023-06-18T16:06:38.074Z"
   },
   {
    "duration": 114,
    "start_time": "2023-06-18T16:06:38.078Z"
   },
   {
    "duration": 29618,
    "start_time": "2023-06-18T16:06:38.193Z"
   },
   {
    "duration": 39544,
    "start_time": "2023-06-18T16:07:07.813Z"
   },
   {
    "duration": 18417,
    "start_time": "2023-06-18T16:07:47.358Z"
   },
   {
    "duration": 124,
    "start_time": "2023-06-18T16:08:57.822Z"
   },
   {
    "duration": 639,
    "start_time": "2023-06-18T16:09:07.646Z"
   },
   {
    "duration": 17,
    "start_time": "2023-06-18T16:09:13.738Z"
   },
   {
    "duration": 11,
    "start_time": "2023-06-18T16:09:18.446Z"
   },
   {
    "duration": 11,
    "start_time": "2023-06-18T16:09:23.341Z"
   },
   {
    "duration": 12,
    "start_time": "2023-06-18T16:09:25.799Z"
   },
   {
    "duration": 10,
    "start_time": "2023-06-18T16:09:30.164Z"
   },
   {
    "duration": 30,
    "start_time": "2023-06-18T16:17:32.354Z"
   },
   {
    "duration": 932,
    "start_time": "2023-06-18T16:18:02.824Z"
   },
   {
    "duration": 927,
    "start_time": "2023-06-18T16:18:18.435Z"
   },
   {
    "duration": 960,
    "start_time": "2023-06-18T16:19:04.187Z"
   },
   {
    "duration": 986,
    "start_time": "2023-06-18T16:19:10.979Z"
   },
   {
    "duration": 2401,
    "start_time": "2023-06-18T16:21:38.275Z"
   },
   {
    "duration": 1156,
    "start_time": "2023-06-18T16:21:40.678Z"
   },
   {
    "duration": 40,
    "start_time": "2023-06-18T16:21:41.836Z"
   },
   {
    "duration": 14,
    "start_time": "2023-06-18T16:21:41.878Z"
   },
   {
    "duration": 33,
    "start_time": "2023-06-18T16:21:41.893Z"
   },
   {
    "duration": 15,
    "start_time": "2023-06-18T16:21:41.927Z"
   },
   {
    "duration": 26,
    "start_time": "2023-06-18T16:21:41.944Z"
   },
   {
    "duration": 6,
    "start_time": "2023-06-18T16:21:41.972Z"
   },
   {
    "duration": 5,
    "start_time": "2023-06-18T16:21:41.980Z"
   },
   {
    "duration": 4,
    "start_time": "2023-06-18T16:21:41.987Z"
   },
   {
    "duration": 4,
    "start_time": "2023-06-18T16:21:41.992Z"
   },
   {
    "duration": 789,
    "start_time": "2023-06-18T16:21:41.998Z"
   },
   {
    "duration": 3,
    "start_time": "2023-06-18T16:21:42.788Z"
   },
   {
    "duration": 16,
    "start_time": "2023-06-18T16:21:42.792Z"
   },
   {
    "duration": 19,
    "start_time": "2023-06-18T16:21:42.809Z"
   },
   {
    "duration": 69,
    "start_time": "2023-06-18T16:21:42.829Z"
   },
   {
    "duration": 27,
    "start_time": "2023-06-18T16:21:42.899Z"
   },
   {
    "duration": 12,
    "start_time": "2023-06-18T16:21:42.928Z"
   },
   {
    "duration": 8,
    "start_time": "2023-06-18T16:21:42.942Z"
   },
   {
    "duration": 22,
    "start_time": "2023-06-18T16:21:42.952Z"
   },
   {
    "duration": 12,
    "start_time": "2023-06-18T16:21:42.976Z"
   },
   {
    "duration": 11,
    "start_time": "2023-06-18T16:21:42.990Z"
   },
   {
    "duration": 10,
    "start_time": "2023-06-18T16:21:43.002Z"
   },
   {
    "duration": 7,
    "start_time": "2023-06-18T16:21:43.013Z"
   },
   {
    "duration": 3,
    "start_time": "2023-06-18T16:21:43.021Z"
   },
   {
    "duration": 7,
    "start_time": "2023-06-18T16:21:43.025Z"
   },
   {
    "duration": 18845,
    "start_time": "2023-06-18T16:21:43.068Z"
   },
   {
    "duration": 6,
    "start_time": "2023-06-18T16:22:01.917Z"
   },
   {
    "duration": 24162,
    "start_time": "2023-06-18T16:22:01.925Z"
   },
   {
    "duration": 8,
    "start_time": "2023-06-18T16:22:26.088Z"
   },
   {
    "duration": 25979,
    "start_time": "2023-06-18T16:22:26.097Z"
   },
   {
    "duration": 9,
    "start_time": "2023-06-18T16:22:52.078Z"
   },
   {
    "duration": 16492,
    "start_time": "2023-06-18T16:22:52.089Z"
   },
   {
    "duration": 89,
    "start_time": "2023-06-18T16:23:08.584Z"
   },
   {
    "duration": 5,
    "start_time": "2023-06-18T16:23:08.675Z"
   },
   {
    "duration": 9,
    "start_time": "2023-06-18T16:23:08.682Z"
   },
   {
    "duration": 32,
    "start_time": "2023-06-18T16:23:08.693Z"
   },
   {
    "duration": 61,
    "start_time": "2023-06-18T16:23:08.726Z"
   },
   {
    "duration": 5,
    "start_time": "2023-06-18T16:23:08.789Z"
   },
   {
    "duration": 24630,
    "start_time": "2023-06-18T16:23:08.796Z"
   },
   {
    "duration": 30912,
    "start_time": "2023-06-18T16:23:33.428Z"
   },
   {
    "duration": 19136,
    "start_time": "2023-06-18T16:24:04.341Z"
   },
   {
    "duration": 15809,
    "start_time": "2023-06-18T16:24:23.479Z"
   },
   {
    "duration": 78,
    "start_time": "2023-06-18T16:24:39.290Z"
   },
   {
    "duration": 22,
    "start_time": "2023-06-18T16:24:39.370Z"
   },
   {
    "duration": 38,
    "start_time": "2023-06-18T16:24:39.394Z"
   },
   {
    "duration": 4,
    "start_time": "2023-06-18T16:24:39.434Z"
   },
   {
    "duration": 12487,
    "start_time": "2023-06-18T16:24:39.440Z"
   },
   {
    "duration": 13481,
    "start_time": "2023-06-18T16:24:51.929Z"
   },
   {
    "duration": 12762,
    "start_time": "2023-06-18T16:25:05.412Z"
   },
   {
    "duration": 11093,
    "start_time": "2023-06-18T16:25:18.176Z"
   },
   {
    "duration": 3,
    "start_time": "2023-06-18T16:25:29.271Z"
   },
   {
    "duration": 103,
    "start_time": "2023-06-18T16:25:29.275Z"
   },
   {
    "duration": 11898,
    "start_time": "2023-06-18T16:25:29.380Z"
   },
   {
    "duration": 13610,
    "start_time": "2023-06-18T16:25:41.280Z"
   },
   {
    "duration": 13978,
    "start_time": "2023-06-18T16:25:54.892Z"
   },
   {
    "duration": 11098,
    "start_time": "2023-06-18T16:26:08.872Z"
   },
   {
    "duration": 2,
    "start_time": "2023-06-18T16:26:19.972Z"
   },
   {
    "duration": 100,
    "start_time": "2023-06-18T16:26:19.976Z"
   },
   {
    "duration": 29986,
    "start_time": "2023-06-18T16:26:20.078Z"
   },
   {
    "duration": 39356,
    "start_time": "2023-06-18T16:26:50.069Z"
   },
   {
    "duration": 18350,
    "start_time": "2023-06-18T16:27:29.427Z"
   },
   {
    "duration": 662,
    "start_time": "2023-06-18T16:27:47.779Z"
   },
   {
    "duration": 10,
    "start_time": "2023-06-18T16:27:48.443Z"
   },
   {
    "duration": 22,
    "start_time": "2023-06-18T16:27:48.455Z"
   },
   {
    "duration": 28,
    "start_time": "2023-06-18T16:27:48.479Z"
   },
   {
    "duration": 988,
    "start_time": "2023-06-18T16:27:48.509Z"
   },
   {
    "duration": 1228,
    "start_time": "2023-06-18T16:30:12.627Z"
   },
   {
    "duration": 1025,
    "start_time": "2023-06-18T16:30:36.871Z"
   },
   {
    "duration": 1042,
    "start_time": "2023-06-18T16:30:38.889Z"
   },
   {
    "duration": 866,
    "start_time": "2023-06-18T16:30:45.400Z"
   },
   {
    "duration": 478,
    "start_time": "2023-06-18T16:30:50.575Z"
   },
   {
    "duration": 920,
    "start_time": "2023-06-18T16:30:56.267Z"
   },
   {
    "duration": 1145,
    "start_time": "2023-06-18T16:31:22.765Z"
   },
   {
    "duration": 1031,
    "start_time": "2023-06-18T16:31:57.603Z"
   },
   {
    "duration": 142,
    "start_time": "2023-06-18T16:32:33.871Z"
   },
   {
    "duration": 1401,
    "start_time": "2023-06-18T16:33:05.141Z"
   },
   {
    "duration": 48,
    "start_time": "2023-06-19T06:22:15.426Z"
   },
   {
    "duration": 7501,
    "start_time": "2023-06-19T06:23:08.617Z"
   },
   {
    "duration": 1604,
    "start_time": "2023-06-19T06:23:16.121Z"
   },
   {
    "duration": 95,
    "start_time": "2023-06-19T06:23:17.727Z"
   },
   {
    "duration": 14,
    "start_time": "2023-06-19T06:23:17.824Z"
   },
   {
    "duration": 41,
    "start_time": "2023-06-19T06:23:17.841Z"
   },
   {
    "duration": 19,
    "start_time": "2023-06-19T06:23:17.888Z"
   },
   {
    "duration": 15,
    "start_time": "2023-06-19T06:23:17.909Z"
   },
   {
    "duration": 16,
    "start_time": "2023-06-19T06:23:17.925Z"
   },
   {
    "duration": 15,
    "start_time": "2023-06-19T06:23:17.942Z"
   },
   {
    "duration": 12,
    "start_time": "2023-06-19T06:23:17.959Z"
   },
   {
    "duration": 26,
    "start_time": "2023-06-19T06:23:17.973Z"
   },
   {
    "duration": 867,
    "start_time": "2023-06-19T06:23:18.001Z"
   },
   {
    "duration": 12,
    "start_time": "2023-06-19T06:23:18.870Z"
   },
   {
    "duration": 16,
    "start_time": "2023-06-19T06:23:18.890Z"
   },
   {
    "duration": 27,
    "start_time": "2023-06-19T06:23:18.908Z"
   },
   {
    "duration": 91,
    "start_time": "2023-06-19T06:23:18.937Z"
   },
   {
    "duration": 40,
    "start_time": "2023-06-19T06:23:19.030Z"
   },
   {
    "duration": 24,
    "start_time": "2023-06-19T06:23:19.072Z"
   },
   {
    "duration": 39,
    "start_time": "2023-06-19T06:23:19.097Z"
   },
   {
    "duration": 22,
    "start_time": "2023-06-19T06:23:19.138Z"
   },
   {
    "duration": 42,
    "start_time": "2023-06-19T06:23:19.162Z"
   },
   {
    "duration": 32,
    "start_time": "2023-06-19T06:23:19.207Z"
   },
   {
    "duration": 12,
    "start_time": "2023-06-19T06:23:19.240Z"
   },
   {
    "duration": 54,
    "start_time": "2023-06-19T06:23:19.254Z"
   },
   {
    "duration": 28,
    "start_time": "2023-06-19T06:23:19.309Z"
   },
   {
    "duration": 31,
    "start_time": "2023-06-19T06:23:19.339Z"
   },
   {
    "duration": 21722,
    "start_time": "2023-06-19T06:23:19.372Z"
   },
   {
    "duration": 5,
    "start_time": "2023-06-19T06:23:41.096Z"
   },
   {
    "duration": 26543,
    "start_time": "2023-06-19T06:23:41.104Z"
   },
   {
    "duration": 5,
    "start_time": "2023-06-19T06:24:07.649Z"
   },
   {
    "duration": 24061,
    "start_time": "2023-06-19T06:24:07.656Z"
   },
   {
    "duration": 66,
    "start_time": "2023-06-19T06:24:31.720Z"
   },
   {
    "duration": 16002,
    "start_time": "2023-06-19T06:24:31.790Z"
   },
   {
    "duration": 6,
    "start_time": "2023-06-19T06:24:47.795Z"
   },
   {
    "duration": 26,
    "start_time": "2023-06-19T06:24:47.803Z"
   },
   {
    "duration": 24,
    "start_time": "2023-06-19T06:24:47.830Z"
   },
   {
    "duration": 43,
    "start_time": "2023-06-19T06:24:47.856Z"
   },
   {
    "duration": 61,
    "start_time": "2023-06-19T06:24:47.901Z"
   },
   {
    "duration": 18,
    "start_time": "2023-06-19T06:24:47.965Z"
   },
   {
    "duration": 28288,
    "start_time": "2023-06-19T06:24:47.985Z"
   },
   {
    "duration": 175,
    "start_time": "2023-06-19T06:25:16.280Z"
   },
   {
    "duration": 0,
    "start_time": "2023-06-19T06:25:16.459Z"
   },
   {
    "duration": 0,
    "start_time": "2023-06-19T06:25:16.460Z"
   },
   {
    "duration": 0,
    "start_time": "2023-06-19T06:25:16.462Z"
   },
   {
    "duration": 0,
    "start_time": "2023-06-19T06:25:16.463Z"
   },
   {
    "duration": 0,
    "start_time": "2023-06-19T06:25:16.465Z"
   },
   {
    "duration": 0,
    "start_time": "2023-06-19T06:25:16.466Z"
   },
   {
    "duration": 0,
    "start_time": "2023-06-19T06:25:16.467Z"
   },
   {
    "duration": 0,
    "start_time": "2023-06-19T06:25:16.480Z"
   },
   {
    "duration": 0,
    "start_time": "2023-06-19T06:25:16.482Z"
   },
   {
    "duration": 0,
    "start_time": "2023-06-19T06:25:16.483Z"
   },
   {
    "duration": 0,
    "start_time": "2023-06-19T06:25:16.485Z"
   },
   {
    "duration": 0,
    "start_time": "2023-06-19T06:25:16.486Z"
   },
   {
    "duration": 0,
    "start_time": "2023-06-19T06:25:16.487Z"
   },
   {
    "duration": 0,
    "start_time": "2023-06-19T06:25:16.488Z"
   },
   {
    "duration": 0,
    "start_time": "2023-06-19T06:25:16.489Z"
   },
   {
    "duration": 0,
    "start_time": "2023-06-19T06:25:16.491Z"
   },
   {
    "duration": 0,
    "start_time": "2023-06-19T06:25:16.492Z"
   },
   {
    "duration": 0,
    "start_time": "2023-06-19T06:25:16.493Z"
   },
   {
    "duration": 0,
    "start_time": "2023-06-19T06:25:16.494Z"
   },
   {
    "duration": 0,
    "start_time": "2023-06-19T06:25:16.495Z"
   },
   {
    "duration": 0,
    "start_time": "2023-06-19T06:25:16.497Z"
   },
   {
    "duration": 0,
    "start_time": "2023-06-19T06:25:16.498Z"
   },
   {
    "duration": 0,
    "start_time": "2023-06-19T06:25:16.499Z"
   },
   {
    "duration": 0,
    "start_time": "2023-06-19T06:25:16.500Z"
   },
   {
    "duration": 0,
    "start_time": "2023-06-19T06:25:16.502Z"
   },
   {
    "duration": 0,
    "start_time": "2023-06-19T06:25:16.504Z"
   },
   {
    "duration": 0,
    "start_time": "2023-06-19T06:25:16.506Z"
   },
   {
    "duration": 0,
    "start_time": "2023-06-19T06:25:16.507Z"
   },
   {
    "duration": 29200,
    "start_time": "2023-06-19T06:27:35.324Z"
   },
   {
    "duration": 39221,
    "start_time": "2023-06-19T06:28:04.527Z"
   },
   {
    "duration": 22229,
    "start_time": "2023-06-19T06:28:43.750Z"
   },
   {
    "duration": 16313,
    "start_time": "2023-06-19T06:29:05.987Z"
   },
   {
    "duration": 7,
    "start_time": "2023-06-19T06:29:22.303Z"
   },
   {
    "duration": 118,
    "start_time": "2023-06-19T06:29:22.313Z"
   },
   {
    "duration": 62,
    "start_time": "2023-06-19T06:29:22.433Z"
   },
   {
    "duration": 7,
    "start_time": "2023-06-19T06:29:22.502Z"
   },
   {
    "duration": 16571,
    "start_time": "2023-06-19T06:29:22.512Z"
   },
   {
    "duration": 16210,
    "start_time": "2023-06-19T06:29:39.089Z"
   },
   {
    "duration": 16390,
    "start_time": "2023-06-19T06:29:55.301Z"
   },
   {
    "duration": 12427,
    "start_time": "2023-06-19T06:30:11.697Z"
   },
   {
    "duration": 2,
    "start_time": "2023-06-19T06:30:24.126Z"
   },
   {
    "duration": 139,
    "start_time": "2023-06-19T06:30:24.132Z"
   },
   {
    "duration": 16676,
    "start_time": "2023-06-19T06:30:24.273Z"
   },
   {
    "duration": 17188,
    "start_time": "2023-06-19T06:30:40.951Z"
   },
   {
    "duration": 17944,
    "start_time": "2023-06-19T06:30:58.141Z"
   },
   {
    "duration": 13318,
    "start_time": "2023-06-19T06:31:16.109Z"
   },
   {
    "duration": 3,
    "start_time": "2023-06-19T06:31:29.428Z"
   },
   {
    "duration": 183,
    "start_time": "2023-06-19T06:31:29.433Z"
   },
   {
    "duration": 41129,
    "start_time": "2023-06-19T06:31:29.618Z"
   },
   {
    "duration": 50505,
    "start_time": "2023-06-19T06:32:10.748Z"
   },
   {
    "duration": 24549,
    "start_time": "2023-06-19T06:33:01.255Z"
   },
   {
    "duration": 962,
    "start_time": "2023-06-19T06:33:25.806Z"
   },
   {
    "duration": 22,
    "start_time": "2023-06-19T06:33:26.770Z"
   },
   {
    "duration": 37,
    "start_time": "2023-06-19T06:33:26.795Z"
   },
   {
    "duration": 78,
    "start_time": "2023-06-19T06:33:26.834Z"
   },
   {
    "duration": 5302,
    "start_time": "2023-06-19T06:33:26.914Z"
   },
   {
    "duration": 167,
    "start_time": "2023-06-19T06:33:32.218Z"
   },
   {
    "duration": 1797,
    "start_time": "2023-06-19T06:33:32.388Z"
   },
   {
    "duration": 5187,
    "start_time": "2023-06-19T06:34:42.593Z"
   },
   {
    "duration": 1226,
    "start_time": "2023-06-19T06:35:18.903Z"
   },
   {
    "duration": 10,
    "start_time": "2023-06-19T06:38:06.632Z"
   },
   {
    "duration": 25,
    "start_time": "2023-06-19T06:38:56.864Z"
   },
   {
    "duration": 11,
    "start_time": "2023-06-19T06:39:10.703Z"
   },
   {
    "duration": 1957,
    "start_time": "2023-06-19T06:39:22.995Z"
   },
   {
    "duration": 17,
    "start_time": "2023-06-19T06:39:32.799Z"
   },
   {
    "duration": 12,
    "start_time": "2023-06-19T06:39:52.939Z"
   },
   {
    "duration": 31,
    "start_time": "2023-06-19T06:40:02.864Z"
   },
   {
    "duration": 2699,
    "start_time": "2023-06-19T06:40:20.909Z"
   },
   {
    "duration": 1441,
    "start_time": "2023-06-19T06:40:23.613Z"
   },
   {
    "duration": 71,
    "start_time": "2023-06-19T06:40:25.056Z"
   },
   {
    "duration": 16,
    "start_time": "2023-06-19T06:40:25.129Z"
   },
   {
    "duration": 38,
    "start_time": "2023-06-19T06:40:25.147Z"
   },
   {
    "duration": 23,
    "start_time": "2023-06-19T06:40:25.187Z"
   },
   {
    "duration": 20,
    "start_time": "2023-06-19T06:40:25.213Z"
   },
   {
    "duration": 19,
    "start_time": "2023-06-19T06:40:25.235Z"
   },
   {
    "duration": 16,
    "start_time": "2023-06-19T06:40:25.257Z"
   },
   {
    "duration": 41,
    "start_time": "2023-06-19T06:40:25.279Z"
   },
   {
    "duration": 16,
    "start_time": "2023-06-19T06:40:25.322Z"
   },
   {
    "duration": 1032,
    "start_time": "2023-06-19T06:40:25.339Z"
   },
   {
    "duration": 15,
    "start_time": "2023-06-19T06:40:26.376Z"
   },
   {
    "duration": 43,
    "start_time": "2023-06-19T06:40:26.399Z"
   },
   {
    "duration": 32,
    "start_time": "2023-06-19T06:40:28.959Z"
   },
   {
    "duration": 13,
    "start_time": "2023-06-19T06:40:34.208Z"
   },
   {
    "duration": 15,
    "start_time": "2023-06-19T06:40:44.147Z"
   },
   {
    "duration": 15,
    "start_time": "2023-06-19T06:40:56.747Z"
   },
   {
    "duration": 168,
    "start_time": "2023-06-19T06:41:38.652Z"
   },
   {
    "duration": 34,
    "start_time": "2023-06-19T06:41:43.913Z"
   },
   {
    "duration": 13,
    "start_time": "2023-06-19T06:41:56.807Z"
   },
   {
    "duration": 21,
    "start_time": "2023-06-19T06:42:03.103Z"
   },
   {
    "duration": 2835,
    "start_time": "2023-06-19T06:42:10.179Z"
   },
   {
    "duration": 6,
    "start_time": "2023-06-19T06:42:13.018Z"
   },
   {
    "duration": 54,
    "start_time": "2023-06-19T06:42:13.026Z"
   },
   {
    "duration": 32,
    "start_time": "2023-06-19T06:42:13.083Z"
   },
   {
    "duration": 34,
    "start_time": "2023-06-19T06:42:13.122Z"
   },
   {
    "duration": 13,
    "start_time": "2023-06-19T06:42:13.158Z"
   },
   {
    "duration": 54,
    "start_time": "2023-06-19T06:42:13.172Z"
   },
   {
    "duration": 10,
    "start_time": "2023-06-19T06:42:13.228Z"
   },
   {
    "duration": 12,
    "start_time": "2023-06-19T06:42:13.239Z"
   },
   {
    "duration": 14,
    "start_time": "2023-06-19T06:42:13.254Z"
   },
   {
    "duration": 43,
    "start_time": "2023-06-19T06:42:13.270Z"
   },
   {
    "duration": 1133,
    "start_time": "2023-06-19T06:42:13.315Z"
   },
   {
    "duration": 3,
    "start_time": "2023-06-19T06:42:14.450Z"
   },
   {
    "duration": 9,
    "start_time": "2023-06-19T06:42:14.454Z"
   },
   {
    "duration": 27,
    "start_time": "2023-06-19T06:42:16.619Z"
   },
   {
    "duration": 2830,
    "start_time": "2023-06-19T06:42:50.704Z"
   },
   {
    "duration": 6,
    "start_time": "2023-06-19T06:42:53.537Z"
   },
   {
    "duration": 84,
    "start_time": "2023-06-19T06:42:53.544Z"
   },
   {
    "duration": 13,
    "start_time": "2023-06-19T06:42:53.630Z"
   },
   {
    "duration": 43,
    "start_time": "2023-06-19T06:42:53.645Z"
   },
   {
    "duration": 33,
    "start_time": "2023-06-19T06:42:53.690Z"
   },
   {
    "duration": 19,
    "start_time": "2023-06-19T06:42:53.725Z"
   },
   {
    "duration": 9,
    "start_time": "2023-06-19T06:42:53.746Z"
   },
   {
    "duration": 8,
    "start_time": "2023-06-19T06:42:53.757Z"
   },
   {
    "duration": 61,
    "start_time": "2023-06-19T06:42:53.766Z"
   },
   {
    "duration": 14,
    "start_time": "2023-06-19T06:42:53.829Z"
   },
   {
    "duration": 92,
    "start_time": "2023-06-19T06:42:53.845Z"
   },
   {
    "duration": 0,
    "start_time": "2023-06-19T06:42:53.940Z"
   },
   {
    "duration": 0,
    "start_time": "2023-06-19T06:42:53.940Z"
   },
   {
    "duration": 0,
    "start_time": "2023-06-19T06:42:53.942Z"
   },
   {
    "duration": 0,
    "start_time": "2023-06-19T06:42:53.943Z"
   },
   {
    "duration": 0,
    "start_time": "2023-06-19T06:42:53.944Z"
   },
   {
    "duration": 0,
    "start_time": "2023-06-19T06:42:53.945Z"
   },
   {
    "duration": 0,
    "start_time": "2023-06-19T06:42:53.946Z"
   },
   {
    "duration": 0,
    "start_time": "2023-06-19T06:42:53.948Z"
   },
   {
    "duration": 0,
    "start_time": "2023-06-19T06:42:53.949Z"
   },
   {
    "duration": 0,
    "start_time": "2023-06-19T06:42:53.950Z"
   },
   {
    "duration": 0,
    "start_time": "2023-06-19T06:42:53.952Z"
   },
   {
    "duration": 0,
    "start_time": "2023-06-19T06:42:53.953Z"
   },
   {
    "duration": 0,
    "start_time": "2023-06-19T06:42:53.954Z"
   },
   {
    "duration": 0,
    "start_time": "2023-06-19T06:42:53.956Z"
   },
   {
    "duration": 0,
    "start_time": "2023-06-19T06:42:53.957Z"
   },
   {
    "duration": 0,
    "start_time": "2023-06-19T06:42:53.958Z"
   },
   {
    "duration": 0,
    "start_time": "2023-06-19T06:42:53.959Z"
   },
   {
    "duration": 0,
    "start_time": "2023-06-19T06:42:53.960Z"
   },
   {
    "duration": 0,
    "start_time": "2023-06-19T06:42:53.961Z"
   },
   {
    "duration": 0,
    "start_time": "2023-06-19T06:42:53.962Z"
   },
   {
    "duration": 0,
    "start_time": "2023-06-19T06:42:53.964Z"
   },
   {
    "duration": 48,
    "start_time": "2023-06-19T06:43:28.911Z"
   },
   {
    "duration": 7,
    "start_time": "2023-06-19T06:44:12.513Z"
   },
   {
    "duration": 2342,
    "start_time": "2023-06-19T06:44:33.728Z"
   },
   {
    "duration": 1461,
    "start_time": "2023-06-19T06:44:36.072Z"
   },
   {
    "duration": 49,
    "start_time": "2023-06-19T06:44:37.534Z"
   },
   {
    "duration": 22,
    "start_time": "2023-06-19T06:44:37.592Z"
   },
   {
    "duration": 68,
    "start_time": "2023-06-19T06:44:37.616Z"
   },
   {
    "duration": 43,
    "start_time": "2023-06-19T06:44:37.690Z"
   },
   {
    "duration": 74,
    "start_time": "2023-06-19T06:44:37.735Z"
   },
   {
    "duration": 47,
    "start_time": "2023-06-19T06:44:37.811Z"
   },
   {
    "duration": 57,
    "start_time": "2023-06-19T06:44:37.860Z"
   },
   {
    "duration": 38,
    "start_time": "2023-06-19T06:44:37.920Z"
   },
   {
    "duration": 39,
    "start_time": "2023-06-19T06:44:37.960Z"
   },
   {
    "duration": 928,
    "start_time": "2023-06-19T06:44:38.001Z"
   },
   {
    "duration": 2,
    "start_time": "2023-06-19T06:44:38.932Z"
   },
   {
    "duration": 23,
    "start_time": "2023-06-19T06:44:38.936Z"
   },
   {
    "duration": 25,
    "start_time": "2023-06-19T06:44:43.194Z"
   },
   {
    "duration": 3,
    "start_time": "2023-06-19T06:45:05.548Z"
   },
   {
    "duration": 2555,
    "start_time": "2023-06-19T06:45:36.103Z"
   },
   {
    "duration": 1339,
    "start_time": "2023-06-19T06:45:38.661Z"
   },
   {
    "duration": 41,
    "start_time": "2023-06-19T06:45:40.002Z"
   },
   {
    "duration": 14,
    "start_time": "2023-06-19T06:45:40.045Z"
   },
   {
    "duration": 47,
    "start_time": "2023-06-19T06:45:40.061Z"
   },
   {
    "duration": 19,
    "start_time": "2023-06-19T06:45:40.110Z"
   },
   {
    "duration": 8,
    "start_time": "2023-06-19T06:45:40.131Z"
   },
   {
    "duration": 10,
    "start_time": "2023-06-19T06:45:40.141Z"
   },
   {
    "duration": 10,
    "start_time": "2023-06-19T06:45:40.153Z"
   },
   {
    "duration": 21,
    "start_time": "2023-06-19T06:45:40.180Z"
   },
   {
    "duration": 8,
    "start_time": "2023-06-19T06:45:40.203Z"
   },
   {
    "duration": 856,
    "start_time": "2023-06-19T06:45:40.212Z"
   },
   {
    "duration": 8,
    "start_time": "2023-06-19T06:45:41.069Z"
   },
   {
    "duration": 57,
    "start_time": "2023-06-19T06:45:41.081Z"
   },
   {
    "duration": 21,
    "start_time": "2023-06-19T06:45:41.139Z"
   },
   {
    "duration": 3,
    "start_time": "2023-06-19T06:45:41.162Z"
   },
   {
    "duration": 152,
    "start_time": "2023-06-19T06:45:41.166Z"
   },
   {
    "duration": 0,
    "start_time": "2023-06-19T06:45:41.321Z"
   },
   {
    "duration": 0,
    "start_time": "2023-06-19T06:45:41.323Z"
   },
   {
    "duration": 0,
    "start_time": "2023-06-19T06:45:41.324Z"
   },
   {
    "duration": 0,
    "start_time": "2023-06-19T06:45:41.326Z"
   },
   {
    "duration": 0,
    "start_time": "2023-06-19T06:45:41.327Z"
   },
   {
    "duration": 0,
    "start_time": "2023-06-19T06:45:41.329Z"
   },
   {
    "duration": 0,
    "start_time": "2023-06-19T06:45:41.330Z"
   },
   {
    "duration": 0,
    "start_time": "2023-06-19T06:45:41.331Z"
   },
   {
    "duration": 0,
    "start_time": "2023-06-19T06:45:41.333Z"
   },
   {
    "duration": 0,
    "start_time": "2023-06-19T06:45:41.334Z"
   },
   {
    "duration": 0,
    "start_time": "2023-06-19T06:45:41.336Z"
   },
   {
    "duration": 0,
    "start_time": "2023-06-19T06:45:41.337Z"
   },
   {
    "duration": 0,
    "start_time": "2023-06-19T06:45:41.339Z"
   },
   {
    "duration": 0,
    "start_time": "2023-06-19T06:45:41.341Z"
   },
   {
    "duration": 0,
    "start_time": "2023-06-19T06:45:41.375Z"
   },
   {
    "duration": 0,
    "start_time": "2023-06-19T06:45:41.377Z"
   },
   {
    "duration": 0,
    "start_time": "2023-06-19T06:45:41.378Z"
   },
   {
    "duration": 0,
    "start_time": "2023-06-19T06:45:41.379Z"
   },
   {
    "duration": 1,
    "start_time": "2023-06-19T06:45:41.379Z"
   },
   {
    "duration": 0,
    "start_time": "2023-06-19T06:45:41.380Z"
   },
   {
    "duration": 0,
    "start_time": "2023-06-19T06:45:41.385Z"
   },
   {
    "duration": 0,
    "start_time": "2023-06-19T06:45:41.387Z"
   },
   {
    "duration": 0,
    "start_time": "2023-06-19T06:45:41.388Z"
   },
   {
    "duration": 0,
    "start_time": "2023-06-19T06:45:41.390Z"
   },
   {
    "duration": 0,
    "start_time": "2023-06-19T06:45:41.391Z"
   },
   {
    "duration": 0,
    "start_time": "2023-06-19T06:45:41.393Z"
   },
   {
    "duration": 0,
    "start_time": "2023-06-19T06:45:41.394Z"
   },
   {
    "duration": 0,
    "start_time": "2023-06-19T06:45:41.397Z"
   },
   {
    "duration": 0,
    "start_time": "2023-06-19T06:45:41.399Z"
   },
   {
    "duration": 0,
    "start_time": "2023-06-19T06:45:41.400Z"
   },
   {
    "duration": 0,
    "start_time": "2023-06-19T06:45:41.402Z"
   },
   {
    "duration": 0,
    "start_time": "2023-06-19T06:45:41.404Z"
   },
   {
    "duration": 0,
    "start_time": "2023-06-19T06:45:41.405Z"
   },
   {
    "duration": 0,
    "start_time": "2023-06-19T06:45:41.406Z"
   },
   {
    "duration": 0,
    "start_time": "2023-06-19T06:45:41.407Z"
   },
   {
    "duration": 0,
    "start_time": "2023-06-19T06:45:41.409Z"
   },
   {
    "duration": 0,
    "start_time": "2023-06-19T06:45:41.409Z"
   },
   {
    "duration": 0,
    "start_time": "2023-06-19T06:45:41.411Z"
   },
   {
    "duration": 0,
    "start_time": "2023-06-19T06:45:41.413Z"
   },
   {
    "duration": 0,
    "start_time": "2023-06-19T06:45:41.414Z"
   },
   {
    "duration": 0,
    "start_time": "2023-06-19T06:45:41.415Z"
   },
   {
    "duration": 0,
    "start_time": "2023-06-19T06:45:41.416Z"
   },
   {
    "duration": 0,
    "start_time": "2023-06-19T06:45:41.418Z"
   },
   {
    "duration": 1,
    "start_time": "2023-06-19T06:45:41.478Z"
   },
   {
    "duration": 0,
    "start_time": "2023-06-19T06:45:41.480Z"
   },
   {
    "duration": 0,
    "start_time": "2023-06-19T06:45:41.481Z"
   },
   {
    "duration": 0,
    "start_time": "2023-06-19T06:45:41.483Z"
   },
   {
    "duration": 0,
    "start_time": "2023-06-19T06:45:41.484Z"
   },
   {
    "duration": 0,
    "start_time": "2023-06-19T06:45:41.485Z"
   },
   {
    "duration": 0,
    "start_time": "2023-06-19T06:45:41.486Z"
   },
   {
    "duration": 0,
    "start_time": "2023-06-19T06:45:41.488Z"
   },
   {
    "duration": 0,
    "start_time": "2023-06-19T06:45:41.489Z"
   },
   {
    "duration": 0,
    "start_time": "2023-06-19T06:45:41.490Z"
   },
   {
    "duration": 6,
    "start_time": "2023-06-19T06:47:31.926Z"
   },
   {
    "duration": 9,
    "start_time": "2023-06-19T06:47:39.031Z"
   },
   {
    "duration": 5,
    "start_time": "2023-06-19T06:47:47.892Z"
   },
   {
    "duration": 2501,
    "start_time": "2023-06-19T06:48:10.448Z"
   },
   {
    "duration": 1444,
    "start_time": "2023-06-19T06:48:12.952Z"
   },
   {
    "duration": 55,
    "start_time": "2023-06-19T06:48:14.399Z"
   },
   {
    "duration": 19,
    "start_time": "2023-06-19T06:48:14.457Z"
   },
   {
    "duration": 61,
    "start_time": "2023-06-19T06:48:14.478Z"
   },
   {
    "duration": 17,
    "start_time": "2023-06-19T06:48:14.541Z"
   },
   {
    "duration": 16,
    "start_time": "2023-06-19T06:48:14.559Z"
   },
   {
    "duration": 19,
    "start_time": "2023-06-19T06:48:14.582Z"
   },
   {
    "duration": 5,
    "start_time": "2023-06-19T06:48:14.603Z"
   },
   {
    "duration": 23,
    "start_time": "2023-06-19T06:48:14.611Z"
   },
   {
    "duration": 16,
    "start_time": "2023-06-19T06:48:14.636Z"
   },
   {
    "duration": 971,
    "start_time": "2023-06-19T06:48:14.654Z"
   },
   {
    "duration": 2,
    "start_time": "2023-06-19T06:48:15.629Z"
   },
   {
    "duration": 19,
    "start_time": "2023-06-19T06:48:15.633Z"
   },
   {
    "duration": 39,
    "start_time": "2023-06-19T06:48:15.654Z"
   },
   {
    "duration": 7,
    "start_time": "2023-06-19T06:48:15.696Z"
   },
   {
    "duration": 107,
    "start_time": "2023-06-19T06:48:15.705Z"
   },
   {
    "duration": 46,
    "start_time": "2023-06-19T06:48:15.814Z"
   },
   {
    "duration": 29,
    "start_time": "2023-06-19T06:48:15.862Z"
   },
   {
    "duration": 21,
    "start_time": "2023-06-19T06:48:15.893Z"
   },
   {
    "duration": 19,
    "start_time": "2023-06-19T06:48:15.915Z"
   },
   {
    "duration": 16,
    "start_time": "2023-06-19T06:48:15.935Z"
   },
   {
    "duration": 33,
    "start_time": "2023-06-19T06:48:15.953Z"
   },
   {
    "duration": 22,
    "start_time": "2023-06-19T06:48:15.988Z"
   },
   {
    "duration": 10,
    "start_time": "2023-06-19T06:48:16.014Z"
   },
   {
    "duration": 13,
    "start_time": "2023-06-19T06:48:16.026Z"
   },
   {
    "duration": 31,
    "start_time": "2023-06-19T06:48:16.041Z"
   },
   {
    "duration": 22108,
    "start_time": "2023-06-19T06:48:16.077Z"
   },
   {
    "duration": 8,
    "start_time": "2023-06-19T06:48:38.192Z"
   },
   {
    "duration": 27749,
    "start_time": "2023-06-19T06:48:38.203Z"
   },
   {
    "duration": 6,
    "start_time": "2023-06-19T06:49:05.954Z"
   },
   {
    "duration": 16813,
    "start_time": "2023-06-19T06:49:05.976Z"
   },
   {
    "duration": 84,
    "start_time": "2023-06-19T06:49:22.793Z"
   },
   {
    "duration": 15110,
    "start_time": "2023-06-19T06:49:22.879Z"
   },
   {
    "duration": 7,
    "start_time": "2023-06-19T06:49:37.992Z"
   },
   {
    "duration": 14,
    "start_time": "2023-06-19T06:49:38.002Z"
   },
   {
    "duration": 7,
    "start_time": "2023-06-19T06:49:38.018Z"
   },
   {
    "duration": 31,
    "start_time": "2023-06-19T06:49:38.027Z"
   },
   {
    "duration": 63,
    "start_time": "2023-06-19T06:49:38.059Z"
   },
   {
    "duration": 4,
    "start_time": "2023-06-19T06:49:38.124Z"
   },
   {
    "duration": 29340,
    "start_time": "2023-06-19T06:49:38.130Z"
   },
   {
    "duration": 46049,
    "start_time": "2023-06-19T06:50:07.475Z"
   },
   {
    "duration": 28157,
    "start_time": "2023-06-19T06:50:53.525Z"
   },
   {
    "duration": 16484,
    "start_time": "2023-06-19T06:51:21.694Z"
   },
   {
    "duration": 6,
    "start_time": "2023-06-19T06:51:38.180Z"
   },
   {
    "duration": 57,
    "start_time": "2023-06-19T06:51:38.188Z"
   },
   {
    "duration": 52,
    "start_time": "2023-06-19T06:51:38.247Z"
   },
   {
    "duration": 5,
    "start_time": "2023-06-19T06:51:38.301Z"
   },
   {
    "duration": 13451,
    "start_time": "2023-06-19T06:51:38.308Z"
   },
   {
    "duration": 16456,
    "start_time": "2023-06-19T06:51:51.761Z"
   },
   {
    "duration": 14462,
    "start_time": "2023-06-19T06:52:08.218Z"
   },
   {
    "duration": 12297,
    "start_time": "2023-06-19T06:52:22.685Z"
   },
   {
    "duration": 7,
    "start_time": "2023-06-19T06:52:34.987Z"
   },
   {
    "duration": 138,
    "start_time": "2023-06-19T06:52:34.996Z"
   },
   {
    "duration": 13161,
    "start_time": "2023-06-19T06:52:35.136Z"
   },
   {
    "duration": 15918,
    "start_time": "2023-06-19T06:52:48.298Z"
   },
   {
    "duration": 15668,
    "start_time": "2023-06-19T06:53:04.218Z"
   },
   {
    "duration": 14607,
    "start_time": "2023-06-19T06:53:19.889Z"
   },
   {
    "duration": 3,
    "start_time": "2023-06-19T06:53:34.497Z"
   },
   {
    "duration": 323,
    "start_time": "2023-06-19T06:53:34.501Z"
   },
   {
    "duration": 38891,
    "start_time": "2023-06-19T06:53:34.826Z"
   },
   {
    "duration": 44987,
    "start_time": "2023-06-19T06:54:13.720Z"
   },
   {
    "duration": 23091,
    "start_time": "2023-06-19T06:54:58.709Z"
   },
   {
    "duration": 803,
    "start_time": "2023-06-19T06:55:21.803Z"
   },
   {
    "duration": 12,
    "start_time": "2023-06-19T06:55:22.608Z"
   },
   {
    "duration": 18,
    "start_time": "2023-06-19T06:55:22.622Z"
   },
   {
    "duration": 15,
    "start_time": "2023-06-19T06:55:22.641Z"
   },
   {
    "duration": 1081,
    "start_time": "2023-06-19T06:55:22.658Z"
   },
   {
    "duration": 124,
    "start_time": "2023-06-19T06:55:23.740Z"
   },
   {
    "duration": 1738,
    "start_time": "2023-06-19T06:55:23.866Z"
   },
   {
    "duration": 1154,
    "start_time": "2023-06-19T06:56:00.190Z"
   },
   {
    "duration": 6,
    "start_time": "2023-06-19T06:56:55.598Z"
   },
   {
    "duration": 7,
    "start_time": "2023-06-19T06:57:15.411Z"
   },
   {
    "duration": 1190,
    "start_time": "2023-06-19T06:57:19.090Z"
   },
   {
    "duration": 2,
    "start_time": "2023-06-19T06:57:48.302Z"
   },
   {
    "duration": 1508,
    "start_time": "2023-06-19T06:58:50.267Z"
   },
   {
    "duration": 2,
    "start_time": "2023-06-19T06:59:44.553Z"
   },
   {
    "duration": 1109,
    "start_time": "2023-06-19T06:59:58.855Z"
   },
   {
    "duration": 2613,
    "start_time": "2023-06-19T07:00:56.337Z"
   },
   {
    "duration": 1372,
    "start_time": "2023-06-19T07:00:58.953Z"
   },
   {
    "duration": 44,
    "start_time": "2023-06-19T07:01:00.327Z"
   },
   {
    "duration": 57,
    "start_time": "2023-06-19T07:01:00.373Z"
   },
   {
    "duration": 78,
    "start_time": "2023-06-19T07:01:00.432Z"
   },
   {
    "duration": 19,
    "start_time": "2023-06-19T07:01:00.512Z"
   },
   {
    "duration": 28,
    "start_time": "2023-06-19T07:01:00.533Z"
   },
   {
    "duration": 56,
    "start_time": "2023-06-19T07:01:00.563Z"
   },
   {
    "duration": 50,
    "start_time": "2023-06-19T07:01:00.621Z"
   },
   {
    "duration": 81,
    "start_time": "2023-06-19T07:01:00.674Z"
   },
   {
    "duration": 43,
    "start_time": "2023-06-19T07:01:00.757Z"
   },
   {
    "duration": 959,
    "start_time": "2023-06-19T07:01:00.802Z"
   },
   {
    "duration": 3,
    "start_time": "2023-06-19T07:01:01.763Z"
   },
   {
    "duration": 84,
    "start_time": "2023-06-19T07:01:01.768Z"
   },
   {
    "duration": 150,
    "start_time": "2023-06-19T07:01:01.855Z"
   },
   {
    "duration": 190,
    "start_time": "2023-06-19T07:01:02.007Z"
   },
   {
    "duration": 114,
    "start_time": "2023-06-19T07:01:02.198Z"
   },
   {
    "duration": 40,
    "start_time": "2023-06-19T07:01:02.314Z"
   },
   {
    "duration": 36,
    "start_time": "2023-06-19T07:01:02.356Z"
   },
   {
    "duration": 48,
    "start_time": "2023-06-19T07:01:02.394Z"
   },
   {
    "duration": 21,
    "start_time": "2023-06-19T07:01:02.444Z"
   },
   {
    "duration": 24,
    "start_time": "2023-06-19T07:01:02.467Z"
   },
   {
    "duration": 45,
    "start_time": "2023-06-19T07:01:02.493Z"
   },
   {
    "duration": 18,
    "start_time": "2023-06-19T07:01:02.540Z"
   },
   {
    "duration": 33,
    "start_time": "2023-06-19T07:01:02.560Z"
   },
   {
    "duration": 8,
    "start_time": "2023-06-19T07:01:02.595Z"
   },
   {
    "duration": 23,
    "start_time": "2023-06-19T07:01:02.605Z"
   },
   {
    "duration": 21449,
    "start_time": "2023-06-19T07:01:02.632Z"
   },
   {
    "duration": 6,
    "start_time": "2023-06-19T07:01:24.083Z"
   },
   {
    "duration": 374773,
    "start_time": "2023-06-19T07:01:24.092Z"
   },
   {
    "duration": 10,
    "start_time": "2023-06-19T07:07:38.875Z"
   },
   {
    "duration": 22410,
    "start_time": "2023-06-19T07:07:38.887Z"
   },
   {
    "duration": 15,
    "start_time": "2023-06-19T07:08:01.374Z"
   },
   {
    "duration": 15687,
    "start_time": "2023-06-19T07:08:01.391Z"
   },
   {
    "duration": 5,
    "start_time": "2023-06-19T07:08:17.079Z"
   },
   {
    "duration": 9,
    "start_time": "2023-06-19T07:08:17.086Z"
   },
   {
    "duration": 9,
    "start_time": "2023-06-19T07:08:17.097Z"
   },
   {
    "duration": 32,
    "start_time": "2023-06-19T07:08:17.107Z"
   },
   {
    "duration": 69,
    "start_time": "2023-06-19T07:08:17.140Z"
   },
   {
    "duration": 4,
    "start_time": "2023-06-19T07:08:17.211Z"
   },
   {
    "duration": 26450,
    "start_time": "2023-06-19T07:08:17.217Z"
   },
   {
    "duration": 405557,
    "start_time": "2023-06-19T07:08:43.675Z"
   },
   {
    "duration": 0,
    "start_time": "2023-06-19T07:15:29.234Z"
   },
   {
    "duration": 0,
    "start_time": "2023-06-19T07:15:29.235Z"
   },
   {
    "duration": 0,
    "start_time": "2023-06-19T07:15:29.236Z"
   },
   {
    "duration": 0,
    "start_time": "2023-06-19T07:15:29.237Z"
   },
   {
    "duration": 0,
    "start_time": "2023-06-19T07:15:29.238Z"
   },
   {
    "duration": 0,
    "start_time": "2023-06-19T07:15:29.240Z"
   },
   {
    "duration": 0,
    "start_time": "2023-06-19T07:15:29.241Z"
   },
   {
    "duration": 0,
    "start_time": "2023-06-19T07:15:29.242Z"
   },
   {
    "duration": 0,
    "start_time": "2023-06-19T07:15:29.243Z"
   },
   {
    "duration": 0,
    "start_time": "2023-06-19T07:15:29.244Z"
   },
   {
    "duration": 0,
    "start_time": "2023-06-19T07:15:29.246Z"
   },
   {
    "duration": 0,
    "start_time": "2023-06-19T07:15:29.247Z"
   },
   {
    "duration": 0,
    "start_time": "2023-06-19T07:15:29.283Z"
   },
   {
    "duration": 0,
    "start_time": "2023-06-19T07:15:29.287Z"
   },
   {
    "duration": 0,
    "start_time": "2023-06-19T07:15:29.289Z"
   },
   {
    "duration": 0,
    "start_time": "2023-06-19T07:15:29.290Z"
   },
   {
    "duration": 0,
    "start_time": "2023-06-19T07:15:29.291Z"
   },
   {
    "duration": 0,
    "start_time": "2023-06-19T07:15:29.293Z"
   },
   {
    "duration": 0,
    "start_time": "2023-06-19T07:15:29.294Z"
   },
   {
    "duration": 0,
    "start_time": "2023-06-19T07:15:29.295Z"
   },
   {
    "duration": 0,
    "start_time": "2023-06-19T07:15:29.297Z"
   },
   {
    "duration": 0,
    "start_time": "2023-06-19T07:15:29.298Z"
   },
   {
    "duration": 0,
    "start_time": "2023-06-19T07:15:29.299Z"
   },
   {
    "duration": 0,
    "start_time": "2023-06-19T07:15:29.301Z"
   },
   {
    "duration": 0,
    "start_time": "2023-06-19T07:15:29.303Z"
   },
   {
    "duration": 0,
    "start_time": "2023-06-19T07:15:29.304Z"
   },
   {
    "duration": 0,
    "start_time": "2023-06-19T07:15:29.305Z"
   },
   {
    "duration": 0,
    "start_time": "2023-06-19T07:15:29.306Z"
   },
   {
    "duration": 2404,
    "start_time": "2023-06-19T07:15:43.258Z"
   },
   {
    "duration": 6,
    "start_time": "2023-06-19T07:15:45.664Z"
   },
   {
    "duration": 81,
    "start_time": "2023-06-19T07:15:45.672Z"
   },
   {
    "duration": 15,
    "start_time": "2023-06-19T07:15:45.755Z"
   },
   {
    "duration": 51,
    "start_time": "2023-06-19T07:15:45.772Z"
   },
   {
    "duration": 16,
    "start_time": "2023-06-19T07:15:45.825Z"
   },
   {
    "duration": 11,
    "start_time": "2023-06-19T07:15:45.843Z"
   },
   {
    "duration": 27,
    "start_time": "2023-06-19T07:15:45.856Z"
   },
   {
    "duration": 38,
    "start_time": "2023-06-19T07:15:45.885Z"
   },
   {
    "duration": 23,
    "start_time": "2023-06-19T07:15:45.927Z"
   },
   {
    "duration": 58,
    "start_time": "2023-06-19T07:15:45.952Z"
   },
   {
    "duration": 1130,
    "start_time": "2023-06-19T07:15:46.012Z"
   },
   {
    "duration": 3,
    "start_time": "2023-06-19T07:15:47.144Z"
   },
   {
    "duration": 40,
    "start_time": "2023-06-19T07:15:47.149Z"
   },
   {
    "duration": 25,
    "start_time": "2023-06-19T07:15:47.191Z"
   },
   {
    "duration": 15,
    "start_time": "2023-06-19T07:15:47.218Z"
   },
   {
    "duration": 87,
    "start_time": "2023-06-19T07:15:47.235Z"
   },
   {
    "duration": 37,
    "start_time": "2023-06-19T07:15:47.324Z"
   },
   {
    "duration": 23,
    "start_time": "2023-06-19T07:15:47.363Z"
   },
   {
    "duration": 17,
    "start_time": "2023-06-19T07:15:47.388Z"
   },
   {
    "duration": 35,
    "start_time": "2023-06-19T07:15:47.406Z"
   },
   {
    "duration": 27,
    "start_time": "2023-06-19T07:15:47.442Z"
   },
   {
    "duration": 36,
    "start_time": "2023-06-19T07:15:47.471Z"
   },
   {
    "duration": 22,
    "start_time": "2023-06-19T07:15:47.509Z"
   },
   {
    "duration": 31,
    "start_time": "2023-06-19T07:15:47.533Z"
   },
   {
    "duration": 38,
    "start_time": "2023-06-19T07:15:47.566Z"
   },
   {
    "duration": 19,
    "start_time": "2023-06-19T07:15:47.605Z"
   },
   {
    "duration": 21165,
    "start_time": "2023-06-19T07:15:47.628Z"
   },
   {
    "duration": 7,
    "start_time": "2023-06-19T07:16:08.795Z"
   },
   {
    "duration": 57716,
    "start_time": "2023-06-19T07:16:08.804Z"
   },
   {
    "duration": 6,
    "start_time": "2023-06-19T07:17:06.521Z"
   },
   {
    "duration": 14850,
    "start_time": "2023-06-19T07:17:06.529Z"
   },
   {
    "duration": 5,
    "start_time": "2023-06-19T07:17:21.381Z"
   },
   {
    "duration": 16488,
    "start_time": "2023-06-19T07:17:21.388Z"
   },
   {
    "duration": 6,
    "start_time": "2023-06-19T07:17:37.878Z"
   },
   {
    "duration": 14,
    "start_time": "2023-06-19T07:17:37.886Z"
   },
   {
    "duration": 7,
    "start_time": "2023-06-19T07:17:37.902Z"
   },
   {
    "duration": 25,
    "start_time": "2023-06-19T07:17:37.911Z"
   },
   {
    "duration": 48,
    "start_time": "2023-06-19T07:17:37.938Z"
   },
   {
    "duration": 5,
    "start_time": "2023-06-19T07:17:37.987Z"
   },
   {
    "duration": 26476,
    "start_time": "2023-06-19T07:17:37.993Z"
   },
   {
    "duration": 76641,
    "start_time": "2023-06-19T07:18:04.475Z"
   },
   {
    "duration": 18581,
    "start_time": "2023-06-19T07:19:21.118Z"
   },
   {
    "duration": 17808,
    "start_time": "2023-06-19T07:19:39.774Z"
   },
   {
    "duration": 3,
    "start_time": "2023-06-19T07:19:57.584Z"
   },
   {
    "duration": 48,
    "start_time": "2023-06-19T07:19:57.589Z"
   },
   {
    "duration": 49,
    "start_time": "2023-06-19T07:19:57.639Z"
   },
   {
    "duration": 5,
    "start_time": "2023-06-19T07:19:57.690Z"
   },
   {
    "duration": 12338,
    "start_time": "2023-06-19T07:19:57.697Z"
   },
   {
    "duration": 32845,
    "start_time": "2023-06-19T07:20:10.036Z"
   },
   {
    "duration": 16294,
    "start_time": "2023-06-19T07:20:42.883Z"
   },
   {
    "duration": 13497,
    "start_time": "2023-06-19T07:20:59.178Z"
   },
   {
    "duration": 2,
    "start_time": "2023-06-19T07:21:12.678Z"
   },
   {
    "duration": 154,
    "start_time": "2023-06-19T07:21:12.682Z"
   },
   {
    "duration": 12277,
    "start_time": "2023-06-19T07:21:12.837Z"
   },
   {
    "duration": 33275,
    "start_time": "2023-06-19T07:21:25.116Z"
   },
   {
    "duration": 15288,
    "start_time": "2023-06-19T07:21:58.393Z"
   },
   {
    "duration": 13690,
    "start_time": "2023-06-19T07:22:13.685Z"
   },
   {
    "duration": 3,
    "start_time": "2023-06-19T07:22:27.377Z"
   },
   {
    "duration": 166,
    "start_time": "2023-06-19T07:22:27.381Z"
   },
   {
    "duration": 32255,
    "start_time": "2023-06-19T07:22:27.548Z"
   },
   {
    "duration": 99534,
    "start_time": "2023-06-19T07:22:59.805Z"
   },
   {
    "duration": 21040,
    "start_time": "2023-06-19T07:24:39.341Z"
   },
   {
    "duration": 698,
    "start_time": "2023-06-19T07:25:00.383Z"
   },
   {
    "duration": 12,
    "start_time": "2023-06-19T07:25:01.083Z"
   },
   {
    "duration": 43,
    "start_time": "2023-06-19T07:25:01.097Z"
   },
   {
    "duration": 80,
    "start_time": "2023-06-19T07:25:01.142Z"
   },
   {
    "duration": 1220,
    "start_time": "2023-06-19T07:25:01.224Z"
   },
   {
    "duration": 3,
    "start_time": "2023-06-19T07:25:02.446Z"
   },
   {
    "duration": 1515,
    "start_time": "2023-06-19T07:25:02.450Z"
   }
  ],
  "colab": {
   "provenance": [],
   "toc_visible": true
  },
  "kernelspec": {
   "display_name": "Python 3 (ipykernel)",
   "language": "python",
   "name": "python3"
  },
  "language_info": {
   "codemirror_mode": {
    "name": "ipython",
    "version": 3
   },
   "file_extension": ".py",
   "mimetype": "text/x-python",
   "name": "python",
   "nbconvert_exporter": "python",
   "pygments_lexer": "ipython3",
   "version": "3.9.13"
  },
  "toc": {
   "base_numbering": 1,
   "nav_menu": {},
   "number_sections": true,
   "sideBar": true,
   "skip_h1_title": true,
   "title_cell": "Содержание",
   "title_sidebar": "Contents",
   "toc_cell": true,
   "toc_position": {
    "height": "calc(100% - 180px)",
    "left": "10px",
    "top": "150px",
    "width": "368px"
   },
   "toc_section_display": true,
   "toc_window_display": true
  }
 },
 "nbformat": 4,
 "nbformat_minor": 1
}
